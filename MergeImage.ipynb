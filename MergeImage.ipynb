{
  "nbformat": 4,
  "nbformat_minor": 0,
  "metadata": {
    "colab": {
      "provenance": [],
      "authorship_tag": "ABX9TyPOo8XQN6A9Dobv87p5hZWj",
      "include_colab_link": true
    },
    "kernelspec": {
      "name": "python3",
      "display_name": "Python 3"
    },
    "language_info": {
      "name": "python"
    }
  },
  "cells": [
    {
      "cell_type": "markdown",
      "metadata": {
        "id": "view-in-github",
        "colab_type": "text"
      },
      "source": [
        "<a href=\"https://colab.research.google.com/github/yuki0703-sudo/Research/blob/main/MergeImage.ipynb\" target=\"_parent\"><img src=\"https://colab.research.google.com/assets/colab-badge.svg\" alt=\"Open In Colab\"/></a>"
      ]
    },
    {
      "cell_type": "markdown",
      "source": [
        "#Import Library"
      ],
      "metadata": {
        "id": "mGK29L45hTAS"
      }
    },
    {
      "cell_type": "code",
      "execution_count": null,
      "metadata": {
        "colab": {
          "base_uri": "https://localhost:8080/"
        },
        "id": "nuJSoUUZQEeX",
        "outputId": "c2b7fd7d-d026-418a-fce7-d1232e997d34"
      },
      "outputs": [
        {
          "output_type": "stream",
          "name": "stdout",
          "text": [
            "Mounted at /content/gdrive/\n"
          ]
        }
      ],
      "source": [
        "#install data from google drive\n",
        "from google.colab import drive\n",
        "drive.mount('/content/gdrive/')\n",
        "\n",
        "#csvファイルのダウンロード\n",
        "import pandas as pd\n",
        "#標準化ライブラリ\n",
        "from sklearn.preprocessing import MinMaxScaler"
      ]
    },
    {
      "cell_type": "markdown",
      "source": [
        "#Merge 5 Images"
      ],
      "metadata": {
        "id": "7FKc4DHIhb8H"
      }
    },
    {
      "cell_type": "code",
      "source": [
        "import os\n",
        "import glob\n",
        "import cv2\n",
        "import numpy as np\n",
        "import matplotlib.pyplot as plt\n",
        "\n",
        "#入力画像取得\n",
        "  #///////////////////////\n",
        "src_img_dir= '/content/gdrive/My Drive/YAMAKAWA_LAB/技術補佐員/動画/20220603/video/xiQ_20220603_12_2_cropped' ##Chnage here\n",
        "  #//////////////////////\n",
        "\n",
        "src_files=glob.glob(\"{}/*.jpg\".format(src_img_dir))\n",
        "src_files.sort()\n",
        "\n",
        "for i,src in enumerate(src_files):\n",
        "  print(i)\n",
        "  if i == 1236:\n",
        "    img = cv2.imread(src)#,cv2.IMREAD_GRAYSCALE)\n",
        "    #img = cv2.cvtColor(img, cv2.COLOR_RGB2GRAY)\n",
        "    img = np.asarray(img)\n",
        "    print((type(img),img.shape))\n",
        "    \n",
        "    image = img\n",
        "    for j in range(1,5):\n",
        "      print(i+j)\n",
        "      img = cv2.imread('/content/gdrive/My Drive/YAMAKAWA_LAB/技術補佐員/動画/20220603video/xiQ_20220603_12_2_cropped/{0>4d}.jpg'.format(i+j))#,cv2.IMREAD_GRAYSCALE)\n",
        "      #img = cv2.cvtColor(img, cv2.COLOR_RGB2GRAY)\n",
        "      img = np.asarray(img)\n",
        "      print((type(img),img.shape))\n",
        "      image = np.concatenate([image,img],axis =1)\n",
        "    plt.imshow(image)\n",
        "    break\n",
        "\n"
      ],
      "metadata": {
        "id": "ZjrbBv2uQOS9"
      },
      "execution_count": null,
      "outputs": []
    },
    {
      "cell_type": "code",
      "source": [],
      "metadata": {
        "id": "k69HOFfzTfH4"
      },
      "execution_count": null,
      "outputs": []
    }
  ]
}