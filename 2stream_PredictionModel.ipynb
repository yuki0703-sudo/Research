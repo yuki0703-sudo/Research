{
  "nbformat": 4,
  "nbformat_minor": 0,
  "metadata": {
    "colab": {
      "provenance": [],
      "toc_visible": true,
      "authorship_tag": "ABX9TyPY+AuMT0unkXFqtduZQiU8",
      "include_colab_link": true
    },
    "kernelspec": {
      "name": "python3",
      "display_name": "Python 3"
    },
    "language_info": {
      "name": "python"
    }
  },
  "cells": [
    {
      "cell_type": "markdown",
      "metadata": {
        "id": "view-in-github",
        "colab_type": "text"
      },
      "source": [
        "<a href=\"https://colab.research.google.com/github/yuki0703-sudo/Research/blob/main/2stream_PredictionModel.ipynb\" target=\"_parent\"><img src=\"https://colab.research.google.com/assets/colab-badge.svg\" alt=\"Open In Colab\"/></a>"
      ]
    },
    {
      "cell_type": "markdown",
      "source": [
        "#Import Library"
      ],
      "metadata": {
        "id": "qx0DTOjMbeZk"
      }
    },
    {
      "cell_type": "code",
      "execution_count": null,
      "metadata": {
        "id": "thChb30NCxyT"
      },
      "outputs": [],
      "source": [
        "import numpy as np\n",
        "from keras import Model\n",
        "from keras.layers import Layer\n",
        "import keras.backend as K\n",
        "from keras.layers import Input, Dense,SimpleRNN, LSTM,Dropout,Convolution2D,MaxPooling2D\n",
        "from sklearn.preprocessing import MinMaxScaler\n",
        "from keras.models import Sequential\n",
        "from keras.metrics import mean_squared_error\n",
        "import pandas as pd\n",
        "import matplotlib.pyplot as plt\n",
        "from tensorflow.keras.optimizers import Adam\n",
        "import glob \n",
        "import os "
      ]
    },
    {
      "cell_type": "code",
      "source": [
        "from google.colab import drive\n",
        "drive.mount('/content/gdrive')"
      ],
      "metadata": {
        "colab": {
          "base_uri": "https://localhost:8080/"
        },
        "id": "5yUV9r82MVw5",
        "outputId": "ca413b51-4969-4d74-9187-29717834e12a"
      },
      "execution_count": null,
      "outputs": [
        {
          "output_type": "stream",
          "name": "stdout",
          "text": [
            "Drive already mounted at /content/gdrive; to attempt to forcibly remount, call drive.mount(\"/content/gdrive\", force_remount=True).\n"
          ]
        }
      ]
    },
    {
      "cell_type": "markdown",
      "source": [
        "#Load Data (Value data & Image data)"
      ],
      "metadata": {
        "id": "94Gi2q_nboHd"
      }
    },
    {
      "cell_type": "markdown",
      "source": [
        "##Load value data"
      ],
      "metadata": {
        "id": "ACyj9laenOjQ"
      }
    },
    {
      "cell_type": "code",
      "source": [
        "#Load data\n",
        "#train data\n",
        "file21 = pd.read_csv(filepath_or_buffer=\"/content/gdrive/My Drive/YAMAKAWA_LAB/技術補佐員/動画/20221020/video/{}.csv\".format(21))\n",
        "file22 = pd.read_csv(filepath_or_buffer=\"/content/gdrive/My Drive/YAMAKAWA_LAB/技術補佐員/動画/20221020/video/{}.csv\".format(22))\n",
        "file24 = pd.read_csv(filepath_or_buffer=\"/content/gdrive/My Drive/YAMAKAWA_LAB/技術補佐員/動画/20221020/video/{}.csv\".format(24))\n",
        "file25 = pd.read_csv(filepath_or_buffer=\"/content/gdrive/My Drive/YAMAKAWA_LAB/技術補佐員/動画/20221020/video/{}.csv\".format(25))\n",
        "file26 = pd.read_csv(filepath_or_buffer=\"/content/gdrive/My Drive/YAMAKAWA_LAB/技術補佐員/動画/20221020/video/{}.csv\".format(26))\n",
        "file27 = pd.read_csv(filepath_or_buffer=\"/content/gdrive/My Drive/YAMAKAWA_LAB/技術補佐員/動画/20221020/video/{}.csv\".format(27))\n",
        "file28 = pd.read_csv(filepath_or_buffer=\"/content/gdrive/My Drive/YAMAKAWA_LAB/技術補佐員/動画/20221020/video/{}.csv\".format(28))\n",
        "file29 = pd.read_csv(filepath_or_buffer=\"/content/gdrive/My Drive/YAMAKAWA_LAB/技術補佐員/動画/20221020/video/{}.csv\".format(29))\n",
        "file30 = pd.read_csv(filepath_or_buffer=\"/content/gdrive/My Drive/YAMAKAWA_LAB/技術補佐員/動画/20221020/video/{}.csv\".format(30))\n",
        "file31 = pd.read_csv(filepath_or_buffer=\"/content/gdrive/My Drive/YAMAKAWA_LAB/技術補佐員/動画/20221020/video/{}.csv\".format(31))\n",
        "file32 = pd.read_csv(filepath_or_buffer=\"/content/gdrive/My Drive/YAMAKAWA_LAB/技術補佐員/動画/20221020/video/{}.csv\".format(32))\n",
        "file33 = pd.read_csv(filepath_or_buffer=\"/content/gdrive/My Drive/YAMAKAWA_LAB/技術補佐員/動画/20221020/video/{}.csv\".format(33))\n",
        "file34 = pd.read_csv(filepath_or_buffer=\"/content/gdrive/My Drive/YAMAKAWA_LAB/技術補佐員/動画/20221020/video/{}.csv\".format(34))\n",
        "file35 = pd.read_csv(filepath_or_buffer=\"/content/gdrive/My Drive/YAMAKAWA_LAB/技術補佐員/動画/20221020/video/{}.csv\".format(35))\n",
        "file36 = pd.read_csv(filepath_or_buffer=\"/content/gdrive/My Drive/YAMAKAWA_LAB/技術補佐員/動画/20221020/video/{}.csv\".format(36))\n",
        "file37 = pd.read_csv(filepath_or_buffer=\"/content/gdrive/My Drive/YAMAKAWA_LAB/技術補佐員/動画/20221020/video/{}.csv\".format(37))\n",
        "file38 = pd.read_csv(filepath_or_buffer=\"/content/gdrive/My Drive/YAMAKAWA_LAB/技術補佐員/動画/20221020/video/{}.csv\".format(38))\n",
        "file40 = pd.read_csv(filepath_or_buffer=\"/content/gdrive/My Drive/YAMAKAWA_LAB/技術補佐員/動画/20221020/video/{}.csv\".format(40))\n",
        "file41 = pd.read_csv(filepath_or_buffer=\"/content/gdrive/My Drive/YAMAKAWA_LAB/技術補佐員/動画/20221020/video/{}.csv\".format(41))\n",
        "file44 = pd.read_csv(filepath_or_buffer=\"/content/gdrive/My Drive/YAMAKAWA_LAB/技術補佐員/動画/20221020/video/{}.csv\".format(44))\n",
        "#test data\n",
        "file23 = pd.read_csv(filepath_or_buffer=\"/content/gdrive/My Drive/YAMAKAWA_LAB/技術補佐員/動画/20221020/video/{}.csv\".format(23))\n",
        "file39 = pd.read_csv(filepath_or_buffer=\"/content/gdrive/My Drive/YAMAKAWA_LAB/技術補佐員/動画/20221020/video/{}.csv\".format(39))\n",
        "file43 = pd.read_csv(filepath_or_buffer=\"/content/gdrive/My Drive/YAMAKAWA_LAB/技術補佐員/動画/20221020/video/{}.csv\".format(43))\n",
        "\n",
        "#Convert to values\n",
        "#train\n",
        "value21 = file21.values\n",
        "value22 = file22.values\n",
        "value24 = file24.values\n",
        "value25 = file25.values\n",
        "value26 = file26.values\n",
        "value27 = file27.values\n",
        "value28 = file28.values\n",
        "value29 = file29.values\n",
        "value30 = file30.values\n",
        "value31 = file31.values\n",
        "value32 = file32.values\n",
        "value33 = file33.values\n",
        "value34 = file34.values\n",
        "value35 = file35.values\n",
        "value36 = file36.values\n",
        "value37 = file37.values\n",
        "value38 = file38.values\n",
        "value40 = file40.values\n",
        "value41 = file41.values\n",
        "value44 = file44.values\n",
        "#test\n",
        "value23 = file23.values\n",
        "value39 = file39.values\n",
        "value43 = file43.values"
      ],
      "metadata": {
        "id": "YVlqAG4_ngIY"
      },
      "execution_count": null,
      "outputs": []
    },
    {
      "cell_type": "code",
      "source": [
        "print(value21.shape[0])\n",
        "print(value22.shape[0])\n",
        "print(value23.shape[0])\n",
        "print(value24.shape[0])\n",
        "print(value25.shape[0])\n",
        "print(value26.shape[0])\n",
        "print(value27.shape[0])\n",
        "print(value28.shape[0])\n",
        "print(value29.shape[0])\n",
        "print(value30.shape[0])\n",
        "print(value31.shape[0])\n",
        "print(value32.shape[0])\n",
        "print(value33.shape[0])\n",
        "print(value34.shape[0])\n",
        "print(value35.shape[0])\n",
        "print(value36.shape[0])\n",
        "print(value37.shape[0])\n",
        "print(value38.shape[0])\n",
        "print(value39.shape[0])\n",
        "print(value40.shape[0])\n",
        "print(value41.shape[0])\n",
        "print(value43.shape[0])\n",
        "print(value44.shape[0])"
      ],
      "metadata": {
        "colab": {
          "base_uri": "https://localhost:8080/"
        },
        "id": "b619qQFn7O5J",
        "outputId": "25e857b8-bd39-472b-f64d-8be9fc5a4ef7"
      },
      "execution_count": null,
      "outputs": [
        {
          "output_type": "stream",
          "name": "stdout",
          "text": [
            "244\n",
            "448\n",
            "895\n",
            "245\n",
            "448\n",
            "863\n",
            "235\n",
            "430\n",
            "857\n",
            "233\n",
            "312\n",
            "880\n",
            "236\n",
            "434\n",
            "866\n",
            "240\n",
            "440\n",
            "883\n",
            "240\n",
            "442\n",
            "889\n",
            "447\n",
            "892\n"
          ]
        }
      ]
    },
    {
      "cell_type": "markdown",
      "source": [
        "## Process data"
      ],
      "metadata": {
        "id": "Q4ltGTpnbs-Z"
      }
    },
    {
      "cell_type": "markdown",
      "source": [
        "###for 9 inputs 9advance"
      ],
      "metadata": {
        "id": "xXrKQYGMqKJ3"
      }
    },
    {
      "cell_type": "code",
      "source": [
        "def process_data(value):\n",
        "  data = []\n",
        "  #data range : -17~-9\n",
        "  for i in range(19,value.shape[0]-17):#total num of data, image dataset starts from 20\n",
        "    data_tmp = []\n",
        "    for j in range(9): #input time frame\n",
        "      data_oneframe = []\n",
        "      for k in range(value.shape[1]): #data for one fram\n",
        "        data_oneframe.append(value[i+j][k])#7\n",
        "      data_tmp.append(data_oneframe)#(9,7)\n",
        "    data.append(data_tmp)#(total data,9,7)\n",
        "\n",
        "  data = np.asarray(data)\n",
        "  print(\"data shape:{}\".format(data.shape))\n",
        "  appropriate_data = value.shape[0]-36\n",
        "  print(\"appropriate data num is {}\".format(appropriate_data))\n",
        "  return data"
      ],
      "metadata": {
        "id": "nBR21puHqQK3"
      },
      "execution_count": null,
      "outputs": []
    },
    {
      "cell_type": "code",
      "source": [
        "train21 = process_data(value21)\n",
        "train22 = process_data(value22)\n",
        "test23 = process_data(value23)\n",
        "train24 = process_data(value24)\n",
        "train25 = process_data(value25)\n",
        "train26 = process_data(value26)\n",
        "train27 = process_data(value27)\n",
        "train28 = process_data(value28)\n",
        "train29 = process_data(value29)\n",
        "train30 = process_data(value30)\n",
        "train31 = process_data(value31)\n",
        "train32 = process_data(value32)\n",
        "train33 = process_data(value33)\n",
        "train34 = process_data(value34)\n",
        "train35 = process_data(value35)\n",
        "train36 = process_data(value36)\n",
        "train37 = process_data(value37)\n",
        "train38 = process_data(value38)\n",
        "test39 = process_data(value39)\n",
        "train40 = process_data(value40)\n",
        "train41 = process_data(value41)\n",
        "test43 = process_data(value43)\n",
        "train44 = process_data(value44)"
      ],
      "metadata": {
        "colab": {
          "base_uri": "https://localhost:8080/"
        },
        "id": "TvlcmXq-vw3n",
        "outputId": "b89910f9-8be2-4230-edf6-58b9c7dad776"
      },
      "execution_count": null,
      "outputs": [
        {
          "output_type": "stream",
          "name": "stdout",
          "text": [
            "data shape:(208, 9, 7)\n",
            "appropriate data num is 208\n",
            "data shape:(412, 9, 7)\n",
            "appropriate data num is 412\n",
            "data shape:(859, 9, 7)\n",
            "appropriate data num is 859\n",
            "data shape:(209, 9, 7)\n",
            "appropriate data num is 209\n",
            "data shape:(412, 9, 7)\n",
            "appropriate data num is 412\n",
            "data shape:(827, 9, 7)\n",
            "appropriate data num is 827\n",
            "data shape:(199, 9, 7)\n",
            "appropriate data num is 199\n",
            "data shape:(394, 9, 7)\n",
            "appropriate data num is 394\n",
            "data shape:(821, 9, 7)\n",
            "appropriate data num is 821\n",
            "data shape:(197, 9, 7)\n",
            "appropriate data num is 197\n",
            "data shape:(276, 9, 7)\n",
            "appropriate data num is 276\n",
            "data shape:(844, 9, 7)\n",
            "appropriate data num is 844\n",
            "data shape:(200, 9, 7)\n",
            "appropriate data num is 200\n",
            "data shape:(398, 9, 7)\n",
            "appropriate data num is 398\n",
            "data shape:(830, 9, 7)\n",
            "appropriate data num is 830\n",
            "data shape:(204, 9, 7)\n",
            "appropriate data num is 204\n",
            "data shape:(404, 9, 7)\n",
            "appropriate data num is 404\n",
            "data shape:(847, 9, 7)\n",
            "appropriate data num is 847\n",
            "data shape:(204, 9, 7)\n",
            "appropriate data num is 204\n",
            "data shape:(406, 9, 7)\n",
            "appropriate data num is 406\n",
            "data shape:(853, 9, 7)\n",
            "appropriate data num is 853\n",
            "data shape:(411, 9, 7)\n",
            "appropriate data num is 411\n",
            "data shape:(856, 9, 7)\n",
            "appropriate data num is 856\n"
          ]
        }
      ]
    },
    {
      "cell_type": "code",
      "source": [
        "def combine(data1,data2,data3):\n",
        "  data1 = data1.tolist()\n",
        "  data2 = data2.tolist()\n",
        "  data3 = data3.tolist()\n",
        "  train = []\n",
        "  for i in range(len(data1)): #(1200,100,20),1200\n",
        "    temp= []\n",
        "    for j in range(len(data1[i])):#100\n",
        "      temp_2 =[]\n",
        "      for k in range(len(data1[i][j])):#20\n",
        "        temp_2.append(data1[i][j][k])\n",
        "      temp.append(temp_2)\n",
        "    train.append(temp)\n",
        "  for i in range(len(data2)): #(1200,100,20),1200\n",
        "    temp= []\n",
        "    for j in range(len(data2[i])):#100\n",
        "      temp_2 =[]\n",
        "      for k in range(len(data2[i][j])):#20\n",
        "        temp_2.append(data2[i][j][k])\n",
        "      temp.append(temp_2)\n",
        "    train.append(temp)\n",
        "  for i in range(len(data3)): #(1200,100,20),1200\n",
        "    temp= []\n",
        "    for j in range(len(data3[i])):#100\n",
        "      temp_2 =[]\n",
        "      for k in range(len(data3[i][j])):#20\n",
        "        temp_2.append(data3[i][j][k])\n",
        "      temp.append(temp_2)\n",
        "    train.append(temp)\n",
        "  train = np.asarray(train)\n",
        "  print('data shape', train.shape)\n",
        "  return train\n",
        "\n",
        "def combine_2(data1,data2):\n",
        "  data1 = data1.tolist()\n",
        "  data2 = data2.tolist()\n",
        "  train = []\n",
        "  for i in range(len(data1)): #(1200,100,20),1200\n",
        "    temp= []\n",
        "    for j in range(len(data1[i])):#100\n",
        "      temp_2 =[]\n",
        "      for k in range(len(data1[i][j])):#20\n",
        "        temp_2.append(data1[i][j][k])\n",
        "      temp.append(temp_2)\n",
        "    train.append(temp)\n",
        "  for i in range(len(data2)): #(1200,100,20),1200\n",
        "    temp= []\n",
        "    for j in range(len(data2[i])):#100\n",
        "      temp_2 =[]\n",
        "      for k in range(len(data2[i][j])):#20\n",
        "        temp_2.append(data2[i][j][k])\n",
        "      temp.append(temp_2)\n",
        "    train.append(temp)\n",
        "  train = np.asarray(train)\n",
        "  print('data shape', train.shape)\n",
        "  return train"
      ],
      "metadata": {
        "id": "F8eyMdFsxhQl"
      },
      "execution_count": null,
      "outputs": []
    },
    {
      "cell_type": "code",
      "source": [
        "train_combine1 = combine(train21,train22,train24)\n",
        "train_combine2 = combine(train25,train26,train27)\n",
        "train_combine3 = combine(train28,train29,train30)\n",
        "train_combine4 = combine(train31,train32,train33)\n",
        "train_combine5 = combine(train34,train35,train36)\n",
        "train_combine6 = combine(train37,train38,train40)\n",
        "\n",
        "train_1 = combine(train_combine1,train_combine2,train_combine3)\n",
        "train_2 = combine(train_combine4,train_combine5,train_combine6)\n",
        "\n",
        "train_3 = combine(train_1,train_2,train41)\n",
        "\n",
        "train = combine_2(train_3,train44)\n",
        "\n",
        "test = combine(test23,test39,test43)"
      ],
      "metadata": {
        "colab": {
          "base_uri": "https://localhost:8080/"
        },
        "id": "Lx5w38fjyn8l",
        "outputId": "7306b4e2-11e6-4adb-9c64-249a8dec46b0"
      },
      "execution_count": null,
      "outputs": [
        {
          "output_type": "stream",
          "name": "stdout",
          "text": [
            "data shape (829, 9, 7)\n",
            "data shape (1438, 9, 7)\n",
            "data shape (1412, 9, 7)\n",
            "data shape (1320, 9, 7)\n",
            "data shape (1432, 9, 7)\n",
            "data shape (1657, 9, 7)\n",
            "data shape (3679, 9, 7)\n",
            "data shape (4409, 9, 7)\n",
            "data shape (8941, 9, 7)\n",
            "data shape (9797, 9, 7)\n",
            "data shape (1474, 9, 7)\n"
          ]
        }
      ]
    },
    {
      "cell_type": "markdown",
      "source": [
        "###for 18 inputs 18 advance"
      ],
      "metadata": {
        "id": "Tq1fKcV6qNRU"
      }
    },
    {
      "cell_type": "code",
      "source": [
        "def process_data(value):\n",
        "  data = []\n",
        "  #data range : -35~-18\n",
        "  for i in range(1,value.shape[0]-35):#total num of data, image dataset starts from 37\n",
        "    data_tmp = []\n",
        "    for j in range(18): #input time frame\n",
        "      data_oneframe = []\n",
        "      for k in range(value.shape[1]): #data for one fram\n",
        "        data_oneframe.append(value[i+j][k])#7\n",
        "      data_tmp.append(data_oneframe)#(18,7)\n",
        "    data.append(data_tmp)#(total data,18,7)\n",
        "\n",
        "  data = np.asarray(data)\n",
        "  print(\"data shape:{}\".format(data.shape))\n",
        "  appropriate_data = value.shape[0]-36\n",
        "  print(\"appropriate data num is {}\".format(appropriate_data))\n",
        "  return data"
      ],
      "metadata": {
        "id": "-n69jcMXqDye"
      },
      "execution_count": null,
      "outputs": []
    },
    {
      "cell_type": "code",
      "source": [
        "train21 = process_data(value21)\n",
        "train22 = process_data(value22)\n",
        "test23 = process_data(value23)\n",
        "train24 = process_data(value24)\n",
        "train25 = process_data(value25)\n",
        "train26 = process_data(value26)\n",
        "train27 = process_data(value27)\n",
        "train28 = process_data(value28)\n",
        "train29 = process_data(value29)\n",
        "train30 = process_data(value30)\n",
        "train31 = process_data(value31)\n",
        "train32 = process_data(value32)\n",
        "train33 = process_data(value33)\n",
        "train34 = process_data(value34)\n",
        "train35 = process_data(value35)\n",
        "train36 = process_data(value36)\n",
        "train37 = process_data(value37)\n",
        "train38 = process_data(value38)\n",
        "test39 = process_data(value39)\n",
        "train40 = process_data(value40)\n",
        "train41 = process_data(value41)\n",
        "test43 = process_data(value43)\n",
        "train44 = process_data(value44)"
      ],
      "metadata": {
        "id": "twqKq6S_0oT4"
      },
      "execution_count": null,
      "outputs": []
    },
    {
      "cell_type": "code",
      "source": [
        "def combine(data1,data2,data3):\n",
        "  data1 = data1.tolist()\n",
        "  data2 = data2.tolist()\n",
        "  data3 = data3.tolist()\n",
        "  train = []\n",
        "  for i in range(len(data1)): #(1200,100,20),1200\n",
        "    temp= []\n",
        "    for j in range(len(data1[i])):#100\n",
        "      temp_2 =[]\n",
        "      for k in range(len(data1[i][j])):#20\n",
        "        temp_2.append(data1[i][j][k])\n",
        "      temp.append(temp_2)\n",
        "    train.append(temp)\n",
        "  for i in range(len(data2)): #(1200,100,20),1200\n",
        "    temp= []\n",
        "    for j in range(len(data2[i])):#100\n",
        "      temp_2 =[]\n",
        "      for k in range(len(data2[i][j])):#20\n",
        "        temp_2.append(data2[i][j][k])\n",
        "      temp.append(temp_2)\n",
        "    train.append(temp)\n",
        "  for i in range(len(data3)): #(1200,100,20),1200\n",
        "    temp= []\n",
        "    for j in range(len(data3[i])):#100\n",
        "      temp_2 =[]\n",
        "      for k in range(len(data3[i][j])):#20\n",
        "        temp_2.append(data3[i][j][k])\n",
        "      temp.append(temp_2)\n",
        "    train.append(temp)\n",
        "  train = np.asarray(train)\n",
        "  print('data shape', train.shape)\n",
        "  return train\n",
        "\n",
        "def combine_2(data1,data2):\n",
        "  data1 = data1.tolist()\n",
        "  data2 = data2.tolist()\n",
        "  train = []\n",
        "  for i in range(len(data1)): #(1200,100,20),1200\n",
        "    temp= []\n",
        "    for j in range(len(data1[i])):#100\n",
        "      temp_2 =[]\n",
        "      for k in range(len(data1[i][j])):#20\n",
        "        temp_2.append(data1[i][j][k])\n",
        "      temp.append(temp_2)\n",
        "    train.append(temp)\n",
        "  for i in range(len(data2)): #(1200,100,20),1200\n",
        "    temp= []\n",
        "    for j in range(len(data2[i])):#100\n",
        "      temp_2 =[]\n",
        "      for k in range(len(data2[i][j])):#20\n",
        "        temp_2.append(data2[i][j][k])\n",
        "      temp.append(temp_2)\n",
        "    train.append(temp)\n",
        "  train = np.asarray(train)\n",
        "  print('data shape', train.shape)\n",
        "  return train"
      ],
      "metadata": {
        "id": "MomNOAGu0uNH"
      },
      "execution_count": null,
      "outputs": []
    },
    {
      "cell_type": "code",
      "source": [
        "train_combine1 = combine(train21,train22,train24)\n",
        "train_combine2 = combine(train25,train26,train27)\n",
        "train_combine3 = combine(train28,train29,train30)\n",
        "train_combine4 = combine(train31,train32,train33)\n",
        "train_combine5 = combine(train34,train35,train36)\n",
        "train_combine6 = combine(train37,train38,train40)\n",
        "\n",
        "train_1 = combine(train_combine1,train_combine2,train_combine3)\n",
        "train_2 = combine(train_combine4,train_combine5,train_combine6)\n",
        "\n",
        "train_3 = combine(train_1,train_2,train41)\n",
        "\n",
        "train = combine_2(train_3,train44)\n",
        "\n",
        "test = combine(test23,test39,test43)"
      ],
      "metadata": {
        "id": "HoRxSaRd0vup"
      },
      "execution_count": null,
      "outputs": []
    },
    {
      "cell_type": "markdown",
      "source": [
        "## Load Image Data"
      ],
      "metadata": {
        "id": "jOM9MBGqMhAS"
      }
    },
    {
      "cell_type": "code",
      "source": [
        "## ///////// loading the data as DataFrame ////////////\n",
        "#20220401\n",
        "#file=pd.read_csv(filepath_or_buffer=\"/content/gdrive/My Drive/YAMAKAWA_LAB/技術補佐員/NN/dataset/train_dataset_2.csv\")\n",
        "#file_test = pd.read_csv(filepath_or_buffer= \"/content/gdrive/My Drive/YAMAKAWA_LAB/技術補佐員/NN/dataset/test_dataset.csv\")\n",
        "\n",
        "#20220603\n",
        "file_train = pd.read_csv(filepath_or_buffer = \"/content/gdrive/My Drive/YAMAKAWA_LAB/技術補佐員/NN/dataset/20221020/train_9input_9advance.csv\")\n",
        "value_train = file_train.values\n",
        "file_test = pd.read_csv(filepath_or_buffer = \"/content/gdrive/My Drive/YAMAKAWA_LAB/技術補佐員/NN/dataset/20221020/test_9input_9advance.csv\")\n",
        "value_test = file_test.values\n",
        "\n",
        "## ////////// テスト用とトレーニング用でデータをシャッフルする //////////////\n",
        "import random #random.shuffle() : shuffle the data of 1D\n",
        "from sklearn.utils import shuffle #for 2D shuffle\n",
        "\n",
        "#value_train = shuffle(value_train,random_state=42) #random_state = integer ; fix randomness with shuffling\n",
        "#value_test = shuffle(value_test,random_state=42)\n",
        "#print(value_train.shape)\n",
        "\n",
        "#value_test = shuffle(value_test, random_state =42)\n",
        "#print(value_test.shape)\n",
        "\n",
        "## //////////// Show example /////////\n",
        "import cv2\n",
        "import matplotlib.pyplot as plt\n",
        "\n",
        "img=cv2.imread(value_train[100,1])\n",
        "gray = cv2.cvtColor(img, cv2.COLOR_BGR2GRAY)\n",
        "print(gray.shape)\n",
        "plt.imshow(gray)\n",
        "\n",
        "## ////// making the dataset for train and test //////////\n",
        "\n",
        "data_train = value_train[:,1:]\n",
        "label_train =  value_train[:,0]\n",
        "\n",
        "\n",
        "data_test = value_test[:,1:]\n",
        "label_test = value_test[:,0]\n",
        "\n",
        "\n",
        "print(data_test)\n",
        "print(label_test)"
      ],
      "metadata": {
        "id": "7EZ2R6P1MYWe"
      },
      "execution_count": null,
      "outputs": []
    },
    {
      "cell_type": "code",
      "source": [
        "def url2image(data):\n",
        "  image_data = np.zeros((len(data),len(data[1]),64,64))\n",
        "  for i in range(len(data)-1):\n",
        "    for j,name in enumerate(data[i]):\n",
        "      print((len(data),i,j))\n",
        "      print(name)\n",
        "      img=cv2.imread(name)\n",
        "      #print(img)\n",
        "      gray = cv2.cvtColor(img, cv2.COLOR_BGR2GRAY)\n",
        "      image_data[i][j]=gray\n",
        "  return image_data"
      ],
      "metadata": {
        "id": "FN9FDhw9MiiP"
      },
      "execution_count": null,
      "outputs": []
    },
    {
      "cell_type": "code",
      "source": [
        "image_train = url2image(data_train)\n",
        "image_test = url2image(data_test)"
      ],
      "metadata": {
        "id": "tVRrfoNHMqT5"
      },
      "execution_count": null,
      "outputs": []
    },
    {
      "cell_type": "markdown",
      "source": [
        "###Process Data"
      ],
      "metadata": {
        "id": "BMB_8c02b3cl"
      }
    },
    {
      "cell_type": "code",
      "source": [
        "## split data into training data and test data \n",
        "image_train = image_train.reshape(len(image_train),9,64,64,1)\n",
        "image_test = image_test.reshape(len(image_test),9,64,64,1)\n",
        "\n",
        "#when calculating (dividing process) the type have to be float\n",
        "image_train = image_train.astype(\"float32\")\n",
        "image_test = image_test.astype(\"float32\")\n",
        "\n",
        "#when training, it is convenient if the values are normalized\n",
        "image_train= image_train/255\n",
        "image_test = image_test/255\n",
        "\n",
        "# converting data to float32, especially float32\n",
        "image_train =np.asarray(image_train).astype(np.float32)\n",
        "label_train = np.asarray(label_train).astype(np.int)\n",
        "image_test =np.asarray(image_test).astype(np.float32)\n",
        "label_test = np.asarray(label_test).astype(np.int)\n",
        "\n",
        "print(\"length of label test : \",len(label_test))\n",
        "\n",
        "#label_train_tensorflow=keras.utils.to_categorical(label_train)  #keras.utils.to_categorical : can see how the result of the judge is like [0.4,0.6] : no-spatter: 40%, spatter : 60%\n",
        "#label_test_tensorflow=keras.utils.to_categorical(label_test)\n",
        "#print(image_train)\n",
        "print(image_train.shape)\n",
        "print(type(label_train))\n",
        "#print(label_train_tensorflow)"
      ],
      "metadata": {
        "id": "_I7HFA-NMuVw",
        "colab": {
          "base_uri": "https://localhost:8080/"
        },
        "outputId": "6a69c19f-e3cf-488f-b1b1-f24d77367b3c"
      },
      "execution_count": null,
      "outputs": [
        {
          "output_type": "stream",
          "name": "stdout",
          "text": [
            "length of label test :  1474\n",
            "(9797, 9, 64, 64, 1)\n",
            "<class 'numpy.ndarray'>\n"
          ]
        },
        {
          "output_type": "stream",
          "name": "stderr",
          "text": [
            "<ipython-input-12-02acd4bdcbce>:15: DeprecationWarning: `np.int` is a deprecated alias for the builtin `int`. To silence this warning, use `int` by itself. Doing this will not modify any behavior and is safe. When replacing `np.int`, you may wish to use e.g. `np.int64` or `np.int32` to specify the precision. If you wish to review your current use, check the release note link for additional information.\n",
            "Deprecated in NumPy 1.20; for more details and guidance: https://numpy.org/devdocs/release/1.20.0-notes.html#deprecations\n",
            "  label_train = np.asarray(label_train).astype(np.int)\n",
            "<ipython-input-12-02acd4bdcbce>:17: DeprecationWarning: `np.int` is a deprecated alias for the builtin `int`. To silence this warning, use `int` by itself. Doing this will not modify any behavior and is safe. When replacing `np.int`, you may wish to use e.g. `np.int64` or `np.int32` to specify the precision. If you wish to review your current use, check the release note link for additional information.\n",
            "Deprecated in NumPy 1.20; for more details and guidance: https://numpy.org/devdocs/release/1.20.0-notes.html#deprecations\n",
            "  label_test = np.asarray(label_test).astype(np.int)\n"
          ]
        }
      ]
    },
    {
      "cell_type": "markdown",
      "source": [
        "###Label data : Scaler to Vector\n",
        "\n",
        "\n"
      ],
      "metadata": {
        "id": "THufkrkzRN9c"
      }
    },
    {
      "cell_type": "code",
      "source": [
        "# convert label into array(2) [no-spatter, spatter]\n",
        "def label_vec(label,dim):\n",
        "  lab = np.zeros((len(label),dim))  \n",
        "  for i in range(len(label)):\n",
        "    if label[i] == 1: #spatter\n",
        "      lab[i,1] = 1\n",
        "    else: #no spatter\n",
        "      lab[i,0] = 1\n",
        "  return lab\n",
        "\n",
        "lab_train = label_vec(label_train, 2)\n",
        "lab_test = label_vec(label_test,2)\n",
        "\n",
        "print(\"lab_train.shape ; \" , lab_train.shape)\n",
        "print(\"lab_test.shape : \" , lab_test.shape)"
      ],
      "metadata": {
        "colab": {
          "base_uri": "https://localhost:8080/"
        },
        "id": "DDW3wZZ5RNmV",
        "outputId": "e48f0e51-365e-4749-d287-351c08cc8468"
      },
      "execution_count": null,
      "outputs": [
        {
          "output_type": "stream",
          "name": "stdout",
          "text": [
            "lab_train.shape ;  (9797, 2)\n",
            "lab_test.shape :  (1474, 2)\n"
          ]
        }
      ]
    },
    {
      "cell_type": "markdown",
      "source": [
        "# Create Model"
      ],
      "metadata": {
        "id": "t2k7O1EqM15T"
      }
    },
    {
      "cell_type": "markdown",
      "source": [
        "##Attention Layer"
      ],
      "metadata": {
        "id": "rT2RVALLM71P"
      }
    },
    {
      "cell_type": "code",
      "source": [
        "# Add attention layer to the deep learning network\n",
        "class attention(Layer):\n",
        "    def __init__(self,**kwargs):\n",
        "        super(attention,self).__init__(**kwargs)\n",
        " \n",
        "    def build(self,input_shape):\n",
        "        self.W=self.add_weight(name='attention_weight', shape=(input_shape[-1],1), \n",
        "                               initializer='random_normal', trainable=True)\n",
        "        self.b=self.add_weight(name='attention_bias', shape=(input_shape[1],1), \n",
        "                               initializer='zeros', trainable=True)        \n",
        "        super(attention, self).build(input_shape)\n",
        " \n",
        "    def call(self,x):\n",
        "        # Alignment scores. Pass them through tanh function\n",
        "        e = K.tanh(K.dot(x,self.W)+self.b)\n",
        "        # Remove dimension of size 1\n",
        "        e = K.squeeze(e, axis=-1)   \n",
        "        # Compute the weights\n",
        "        alpha = K.softmax(e/x.shape[-1]**(1/2))\n",
        "        # Reshape to tensorFlow format\n",
        "        alpha = K.expand_dims(alpha, axis=-1)\n",
        "        # Compute the context vector\n",
        "        context = x * alpha\n",
        "        context = K.sum(context, axis=1)\n",
        "        return context"
      ],
      "metadata": {
        "id": "0cm0M-q2M692"
      },
      "execution_count": null,
      "outputs": []
    },
    {
      "cell_type": "markdown",
      "source": [
        "##Model construction "
      ],
      "metadata": {
        "id": "kLxr1z4ccIqm"
      }
    },
    {
      "cell_type": "code",
      "source": [
        "def create_2streamModel(dense_units, input_shape_img,input_shape_f):\n",
        "    from keras.engine.sequential import model_serialization\n",
        "    from tensorflow_datasets.core.dataset_builder import units\n",
        "    from tensorflow import keras\n",
        "    from tensorflow.keras import Input, Model\n",
        "    from tensorflow.keras.layers import TimeDistributed, Activation,LayerNormalization,Dense,Concatenate\n",
        "    from keras import backend as K\n",
        "    from keras.layers.core import Reshape\n",
        "\n",
        "    #### image part\n",
        "    print(input_shape_img)\n",
        "    inputs_img=Input(shape=input_shape_img)\n",
        "    conv2d_1 = Convolution2D(4,(3,3),padding = \"same\")\n",
        "    outputs = TimeDistributed(conv2d_1)(inputs_img)\n",
        "    filter_0 = Activation('relu')\n",
        "    outputs = TimeDistributed(filter_0)(outputs)\n",
        "\n",
        "    conv2d_2 = Convolution2D(4,(3,3),padding = \"same\")\n",
        "    outputs = TimeDistributed(conv2d_2)(outputs)\n",
        "    filter_1 = Activation('relu')\n",
        "    outputs = TimeDistributed(filter_1)(outputs)\n",
        "\n",
        "\n",
        "    pool_0 = MaxPooling2D((2,2))#32*32\n",
        "    outputs = TimeDistributed(pool_0)(outputs)\n",
        "\n",
        "    conv2d_3 = Convolution2D(8,(3,3),padding = \"same\")\n",
        "    outputs = TimeDistributed(conv2d_3)(outputs)\n",
        "    filter_2 = Activation('relu')\n",
        "    outputs = TimeDistributed(filter_2)(outputs)\n",
        "\n",
        "    conv2d_4 = Convolution2D(8,(3,3),padding = \"same\")\n",
        "    outputs = TimeDistributed(conv2d_4)(outputs)\n",
        "    filter_3 = Activation('relu')\n",
        "    outputs = TimeDistributed(filter_3)(outputs)\n",
        "\n",
        "\n",
        "    pool_1 = MaxPooling2D((2,2))#16*16\n",
        "    outputs = TimeDistributed(pool_1)(outputs)\n",
        "\n",
        "    outputs = Reshape((outputs.shape[1],outputs.shape[2]*outputs.shape[3]*outputs.shape[4]))(outputs)\n",
        "\n",
        "    #x = LSTM(32,return_sequences = True)(outputs)\n",
        "    #x = LayerNormalization()(x)\n",
        "    #print(x.shape)\n",
        "    x = LSTM(32)(outputs)\n",
        "    #x = LayerNormalization()(x)\n",
        "    x = Dense(2,activation='sigmoid')(x)\n",
        "    model_x = keras.Model(inputs = inputs_img,outputs = x)\n",
        "    #################\n",
        "\n",
        "    #########feature part\n",
        "    print(input_shape_f)\n",
        "    inputs_f = Input(shape=input_shape_f)\n",
        "    #y = LSTM(63,return_sequences=True)(inputs_f)\n",
        "    #y = LayerNormalization()(y)\n",
        "    y = LSTM(63)(inputs_f)\n",
        "    #y = LayerNormalization()(y)\n",
        "    \n",
        "    #if want to include attention layer\n",
        "    #y = LSTM(63,return_sequences=True)(inputs_f) #you have to add \"return_sequences = True\"\n",
        "    #attention_layer = attention()(y)\n",
        "\n",
        "    y = Dense(2,activation='softmax')(y) #(attention_layer)\n",
        "    model_y = keras.Model(inputs = inputs_f,outputs = y)\n",
        "    #################\n",
        "\n",
        "    ########## Concatenate\n",
        "    concat = Concatenate()([model_x.output,model_y.output])\n",
        "    output = Dense(dense_units,trainable=True,activation='softmax')(concat)\n",
        "    #################\n",
        "\n",
        "    ########### Make Model\n",
        "    model = keras.Model(inputs = [model_x.input,model_y.input],outputs = [output])\n",
        "\n",
        "    ######## Compile\n",
        "    opt = keras.optimizers.Adam(learning_rate = 0.001, decay = 0.0001)\n",
        "    model.compile(loss='binary_crossentropy', optimizer=opt,metrics=['accuracy'])    \n",
        "    return model    "
      ],
      "metadata": {
        "id": "ERrAf8K0M3eb"
      },
      "execution_count": null,
      "outputs": []
    },
    {
      "cell_type": "code",
      "source": [
        "import tensorflow as tf\n",
        "print(tf.keras.layers.Concatenate().__doc__)"
      ],
      "metadata": {
        "id": "HMo66XeSiN_B"
      },
      "execution_count": null,
      "outputs": []
    },
    {
      "cell_type": "code",
      "source": [
        "# Create the model with attention, train and evaluate\n",
        "model = create_2streamModel(dense_units=2, \n",
        "                            input_shape_img=image_train.shape[1:],\n",
        "                            input_shape_f = train.shape[1:])\n",
        "model.summary()   "
      ],
      "metadata": {
        "id": "Ewla2adKNAwf"
      },
      "execution_count": null,
      "outputs": []
    },
    {
      "cell_type": "markdown",
      "source": [
        "\n",
        "#Training"
      ],
      "metadata": {
        "id": "_F-nAIWQcNqy"
      }
    },
    {
      "cell_type": "code",
      "source": [
        "import tensorflow as tf\n",
        "\n",
        "NUM_EPOCHS = 60\n",
        "#model chechpoint\n",
        "save_dir = '/content/gdrive/My Drive/YAMAKAWA_LAB/技術補佐員/NN/model/0115.{epoch:03d}-{val_loss:.2f}.hdf5'\n",
        "Modelcheckpoint = tf.keras.callbacks.ModelCheckpoint(filepath = save_dir, monitor='val_loss', verbose=1, save_best_only=False, mode='auto')\n",
        "\n",
        "history = model.fit(x=[image_train,train], y=lab_train, epochs=NUM_EPOCHS,\n",
        "                    validation_data=([image_test, test], lab_test),\n",
        "                    verbose =1, batch_size =64,callbacks = [Modelcheckpoint]) #we have to convert the type of label_train to np.float by np.asarray(label_train).astype(np.float32)\n",
        "\n",
        "\n",
        "#plot vonverging process : \n",
        "plt.subplots(figsize = (10,5))\n",
        "plt.plot(history.history[\"loss\"],label = \"Loss\")\n",
        "plt.plot(history.history[\"val_loss\"], label = \"val_loss\")\n",
        "plt.title(\"Converging state\")\n",
        "plt.xlabel(\"epoch\")\n",
        "plt.ylabel(\"binary_crossentropy\")\n",
        "plt.legend()\n",
        "plt.show()\n",
        "\n",
        "# Accuracy\n",
        "plt.subplots(figsize = (10,5))\n",
        "plt.plot(history.history['accuracy'], label = \"accuracy\")\n",
        "plt.plot(history.history['val_accuracy'],label = 'val_accuracy')\n",
        "plt.title('model accuracy')\n",
        "plt.ylabel('accuracy')  # Y軸ラベル\n",
        "plt.xlabel('epoch')  # X軸ラベル\n",
        "plt.grid()\n",
        "plt.legend(loc='best')\n",
        "plt.show()"
      ],
      "metadata": {
        "id": "34KMf6ayND_M",
        "colab": {
          "base_uri": "https://localhost:8080/"
        },
        "outputId": "af43d1b7-c428-422f-bf28-30334e76fc00"
      },
      "execution_count": null,
      "outputs": [
        {
          "output_type": "stream",
          "name": "stdout",
          "text": [
            "Epoch 1/60\n",
            "154/154 [==============================] - ETA: 0s - loss: 0.5395 - accuracy: 0.9305\n",
            "Epoch 1: saving model to /content/gdrive/My Drive/YAMAKAWA_LAB/技術補佐員/NN/model/0115.001-0.45.hdf5\n",
            "154/154 [==============================] - 402s 3s/step - loss: 0.5395 - accuracy: 0.9305 - val_loss: 0.4505 - val_accuracy: 0.9837\n",
            "Epoch 2/60\n",
            "154/154 [==============================] - ETA: 0s - loss: 0.4156 - accuracy: 0.9758\n",
            "Epoch 2: saving model to /content/gdrive/My Drive/YAMAKAWA_LAB/技術補佐員/NN/model/0115.002-0.37.hdf5\n",
            "154/154 [==============================] - 321s 2s/step - loss: 0.4156 - accuracy: 0.9758 - val_loss: 0.3710 - val_accuracy: 0.9837\n",
            "Epoch 3/60\n",
            "154/154 [==============================] - ETA: 0s - loss: 0.3483 - accuracy: 0.9758\n",
            "Epoch 3: saving model to /content/gdrive/My Drive/YAMAKAWA_LAB/技術補佐員/NN/model/0115.003-0.31.hdf5\n",
            "154/154 [==============================] - 316s 2s/step - loss: 0.3483 - accuracy: 0.9758 - val_loss: 0.3111 - val_accuracy: 0.9837\n",
            "Epoch 4/60\n",
            "154/154 [==============================] - ETA: 0s - loss: 0.2977 - accuracy: 0.9758\n",
            "Epoch 4: saving model to /content/gdrive/My Drive/YAMAKAWA_LAB/技術補佐員/NN/model/0115.004-0.27.hdf5\n",
            "154/154 [==============================] - 318s 2s/step - loss: 0.2977 - accuracy: 0.9758 - val_loss: 0.2657 - val_accuracy: 0.9837\n",
            "Epoch 5/60\n",
            "154/154 [==============================] - ETA: 0s - loss: 0.2593 - accuracy: 0.9758\n",
            "Epoch 5: saving model to /content/gdrive/My Drive/YAMAKAWA_LAB/技術補佐員/NN/model/0115.005-0.23.hdf5\n",
            "154/154 [==============================] - 312s 2s/step - loss: 0.2593 - accuracy: 0.9758 - val_loss: 0.2309 - val_accuracy: 0.9837\n",
            "Epoch 6/60\n",
            "154/154 [==============================] - ETA: 0s - loss: 0.2299 - accuracy: 0.9758\n",
            "Epoch 6: saving model to /content/gdrive/My Drive/YAMAKAWA_LAB/技術補佐員/NN/model/0115.006-0.20.hdf5\n",
            "154/154 [==============================] - 309s 2s/step - loss: 0.2299 - accuracy: 0.9758 - val_loss: 0.2038 - val_accuracy: 0.9837\n",
            "Epoch 7/60\n",
            "154/154 [==============================] - ETA: 0s - loss: 0.2072 - accuracy: 0.9758\n",
            "Epoch 7: saving model to /content/gdrive/My Drive/YAMAKAWA_LAB/技術補佐員/NN/model/0115.007-0.18.hdf5\n",
            "154/154 [==============================] - 310s 2s/step - loss: 0.2072 - accuracy: 0.9758 - val_loss: 0.1826 - val_accuracy: 0.9837\n",
            "Epoch 8/60\n",
            "154/154 [==============================] - ETA: 0s - loss: 0.1894 - accuracy: 0.9758\n",
            "Epoch 8: saving model to /content/gdrive/My Drive/YAMAKAWA_LAB/技術補佐員/NN/model/0115.008-0.17.hdf5\n",
            "154/154 [==============================] - 316s 2s/step - loss: 0.1894 - accuracy: 0.9758 - val_loss: 0.1658 - val_accuracy: 0.9837\n",
            "Epoch 9/60\n",
            "154/154 [==============================] - ETA: 0s - loss: 0.1754 - accuracy: 0.9758\n",
            "Epoch 9: saving model to /content/gdrive/My Drive/YAMAKAWA_LAB/技術補佐員/NN/model/0115.009-0.15.hdf5\n",
            "154/154 [==============================] - 389s 3s/step - loss: 0.1754 - accuracy: 0.9758 - val_loss: 0.1524 - val_accuracy: 0.9837\n",
            "Epoch 10/60\n",
            "154/154 [==============================] - ETA: 0s - loss: 0.1642 - accuracy: 0.9758\n",
            "Epoch 10: saving model to /content/gdrive/My Drive/YAMAKAWA_LAB/技術補佐員/NN/model/0115.010-0.14.hdf5\n",
            "154/154 [==============================] - 321s 2s/step - loss: 0.1642 - accuracy: 0.9758 - val_loss: 0.1414 - val_accuracy: 0.9837\n",
            "Epoch 11/60\n",
            "154/154 [==============================] - ETA: 0s - loss: 0.1553 - accuracy: 0.9758\n",
            "Epoch 11: saving model to /content/gdrive/My Drive/YAMAKAWA_LAB/技術補佐員/NN/model/0115.011-0.13.hdf5\n",
            "154/154 [==============================] - 319s 2s/step - loss: 0.1553 - accuracy: 0.9758 - val_loss: 0.1325 - val_accuracy: 0.9837\n",
            "Epoch 12/60\n",
            "154/154 [==============================] - ETA: 0s - loss: 0.1481 - accuracy: 0.9758\n",
            "Epoch 12: saving model to /content/gdrive/My Drive/YAMAKAWA_LAB/技術補佐員/NN/model/0115.012-0.13.hdf5\n",
            "154/154 [==============================] - 323s 2s/step - loss: 0.1481 - accuracy: 0.9758 - val_loss: 0.1253 - val_accuracy: 0.9837\n",
            "Epoch 13/60\n",
            "154/154 [==============================] - ETA: 0s - loss: 0.1422 - accuracy: 0.9758\n",
            "Epoch 13: saving model to /content/gdrive/My Drive/YAMAKAWA_LAB/技術補佐員/NN/model/0115.013-0.12.hdf5\n",
            "154/154 [==============================] - 323s 2s/step - loss: 0.1422 - accuracy: 0.9758 - val_loss: 0.1192 - val_accuracy: 0.9837\n",
            "Epoch 14/60\n",
            "154/154 [==============================] - ETA: 0s - loss: 0.1373 - accuracy: 0.9758\n",
            "Epoch 14: saving model to /content/gdrive/My Drive/YAMAKAWA_LAB/技術補佐員/NN/model/0115.014-0.11.hdf5\n",
            "154/154 [==============================] - 405s 3s/step - loss: 0.1373 - accuracy: 0.9758 - val_loss: 0.1140 - val_accuracy: 0.9837\n",
            "Epoch 15/60\n",
            "154/154 [==============================] - ETA: 0s - loss: 0.1333 - accuracy: 0.9758\n",
            "Epoch 15: saving model to /content/gdrive/My Drive/YAMAKAWA_LAB/技術補佐員/NN/model/0115.015-0.11.hdf5\n",
            "154/154 [==============================] - 351s 2s/step - loss: 0.1333 - accuracy: 0.9758 - val_loss: 0.1098 - val_accuracy: 0.9837\n",
            "Epoch 16/60\n",
            "154/154 [==============================] - ETA: 0s - loss: 0.1300 - accuracy: 0.9758\n",
            "Epoch 16: saving model to /content/gdrive/My Drive/YAMAKAWA_LAB/技術補佐員/NN/model/0115.016-0.11.hdf5\n",
            "154/154 [==============================] - 352s 2s/step - loss: 0.1300 - accuracy: 0.9758 - val_loss: 0.1062 - val_accuracy: 0.9837\n",
            "Epoch 17/60\n",
            "154/154 [==============================] - ETA: 0s - loss: 0.1273 - accuracy: 0.9758\n",
            "Epoch 17: saving model to /content/gdrive/My Drive/YAMAKAWA_LAB/技術補佐員/NN/model/0115.017-0.10.hdf5\n",
            "154/154 [==============================] - 407s 3s/step - loss: 0.1273 - accuracy: 0.9758 - val_loss: 0.1031 - val_accuracy: 0.9837\n",
            "Epoch 18/60\n",
            "154/154 [==============================] - ETA: 0s - loss: 0.1251 - accuracy: 0.9758\n",
            "Epoch 18: saving model to /content/gdrive/My Drive/YAMAKAWA_LAB/技術補佐員/NN/model/0115.018-0.10.hdf5\n",
            "154/154 [==============================] - 395s 3s/step - loss: 0.1251 - accuracy: 0.9758 - val_loss: 0.1006 - val_accuracy: 0.9837\n",
            "Epoch 19/60\n",
            "154/154 [==============================] - ETA: 0s - loss: 0.1231 - accuracy: 0.9758\n",
            "Epoch 19: saving model to /content/gdrive/My Drive/YAMAKAWA_LAB/技術補佐員/NN/model/0115.019-0.10.hdf5\n",
            "154/154 [==============================] - 352s 2s/step - loss: 0.1231 - accuracy: 0.9758 - val_loss: 0.0983 - val_accuracy: 0.9837\n",
            "Epoch 20/60\n",
            "154/154 [==============================] - ETA: 0s - loss: 0.1215 - accuracy: 0.9758\n",
            "Epoch 20: saving model to /content/gdrive/My Drive/YAMAKAWA_LAB/技術補佐員/NN/model/0115.020-0.10.hdf5\n",
            "154/154 [==============================] - 338s 2s/step - loss: 0.1215 - accuracy: 0.9758 - val_loss: 0.0964 - val_accuracy: 0.9837\n",
            "Epoch 21/60\n",
            "154/154 [==============================] - ETA: 0s - loss: 0.1202 - accuracy: 0.9758\n",
            "Epoch 21: saving model to /content/gdrive/My Drive/YAMAKAWA_LAB/技術補佐員/NN/model/0115.021-0.09.hdf5\n",
            "154/154 [==============================] - 353s 2s/step - loss: 0.1202 - accuracy: 0.9758 - val_loss: 0.0948 - val_accuracy: 0.9837\n",
            "Epoch 22/60\n",
            "154/154 [==============================] - ETA: 0s - loss: 0.1191 - accuracy: 0.9758\n",
            "Epoch 22: saving model to /content/gdrive/My Drive/YAMAKAWA_LAB/技術補佐員/NN/model/0115.022-0.09.hdf5\n",
            "154/154 [==============================] - 347s 2s/step - loss: 0.1191 - accuracy: 0.9758 - val_loss: 0.0934 - val_accuracy: 0.9837\n",
            "Epoch 23/60\n",
            "154/154 [==============================] - ETA: 0s - loss: 0.1182 - accuracy: 0.9758\n",
            "Epoch 23: saving model to /content/gdrive/My Drive/YAMAKAWA_LAB/技術補佐員/NN/model/0115.023-0.09.hdf5\n",
            "154/154 [==============================] - 342s 2s/step - loss: 0.1182 - accuracy: 0.9758 - val_loss: 0.0922 - val_accuracy: 0.9837\n",
            "Epoch 24/60\n",
            "154/154 [==============================] - ETA: 0s - loss: 0.1174 - accuracy: 0.9758\n",
            "Epoch 24: saving model to /content/gdrive/My Drive/YAMAKAWA_LAB/技術補佐員/NN/model/0115.024-0.09.hdf5\n",
            "154/154 [==============================] - 323s 2s/step - loss: 0.1174 - accuracy: 0.9758 - val_loss: 0.0911 - val_accuracy: 0.9837\n",
            "Epoch 25/60\n",
            "154/154 [==============================] - ETA: 0s - loss: 0.1168 - accuracy: 0.9758\n",
            "Epoch 25: saving model to /content/gdrive/My Drive/YAMAKAWA_LAB/技術補佐員/NN/model/0115.025-0.09.hdf5\n",
            "154/154 [==============================] - 331s 2s/step - loss: 0.1168 - accuracy: 0.9758 - val_loss: 0.0902 - val_accuracy: 0.9837\n",
            "Epoch 26/60\n",
            "154/154 [==============================] - ETA: 0s - loss: 0.1163 - accuracy: 0.9758\n",
            "Epoch 26: saving model to /content/gdrive/My Drive/YAMAKAWA_LAB/技術補佐員/NN/model/0115.026-0.09.hdf5\n",
            "154/154 [==============================] - 317s 2s/step - loss: 0.1163 - accuracy: 0.9758 - val_loss: 0.0894 - val_accuracy: 0.9837\n",
            "Epoch 27/60\n",
            "154/154 [==============================] - ETA: 0s - loss: 0.1158 - accuracy: 0.9758\n",
            "Epoch 27: saving model to /content/gdrive/My Drive/YAMAKAWA_LAB/技術補佐員/NN/model/0115.027-0.09.hdf5\n",
            "154/154 [==============================] - 309s 2s/step - loss: 0.1158 - accuracy: 0.9758 - val_loss: 0.0888 - val_accuracy: 0.9837\n",
            "Epoch 28/60\n",
            "154/154 [==============================] - ETA: 0s - loss: 0.1154 - accuracy: 0.9758\n",
            "Epoch 28: saving model to /content/gdrive/My Drive/YAMAKAWA_LAB/技術補佐員/NN/model/0115.028-0.09.hdf5\n",
            "154/154 [==============================] - 315s 2s/step - loss: 0.1154 - accuracy: 0.9758 - val_loss: 0.0882 - val_accuracy: 0.9837\n",
            "Epoch 29/60\n",
            "154/154 [==============================] - ETA: 0s - loss: 0.1151 - accuracy: 0.9758\n",
            "Epoch 29: saving model to /content/gdrive/My Drive/YAMAKAWA_LAB/技術補佐員/NN/model/0115.029-0.09.hdf5\n",
            "154/154 [==============================] - 317s 2s/step - loss: 0.1151 - accuracy: 0.9758 - val_loss: 0.0877 - val_accuracy: 0.9837\n",
            "Epoch 30/60\n",
            "154/154 [==============================] - ETA: 0s - loss: 0.1149 - accuracy: 0.9758\n",
            "Epoch 30: saving model to /content/gdrive/My Drive/YAMAKAWA_LAB/技術補佐員/NN/model/0115.030-0.09.hdf5\n",
            "154/154 [==============================] - 315s 2s/step - loss: 0.1149 - accuracy: 0.9758 - val_loss: 0.0872 - val_accuracy: 0.9837\n",
            "Epoch 31/60\n",
            "154/154 [==============================] - ETA: 0s - loss: 0.1147 - accuracy: 0.9758\n",
            "Epoch 31: saving model to /content/gdrive/My Drive/YAMAKAWA_LAB/技術補佐員/NN/model/0115.031-0.09.hdf5\n",
            "154/154 [==============================] - 309s 2s/step - loss: 0.1147 - accuracy: 0.9758 - val_loss: 0.0868 - val_accuracy: 0.9837\n",
            "Epoch 32/60\n",
            "154/154 [==============================] - ETA: 0s - loss: 0.1145 - accuracy: 0.9758\n",
            "Epoch 32: saving model to /content/gdrive/My Drive/YAMAKAWA_LAB/技術補佐員/NN/model/0115.032-0.09.hdf5\n",
            "154/154 [==============================] - 318s 2s/step - loss: 0.1145 - accuracy: 0.9758 - val_loss: 0.0866 - val_accuracy: 0.9837\n",
            "Epoch 33/60\n",
            "154/154 [==============================] - ETA: 0s - loss: 0.1144 - accuracy: 0.9758\n",
            "Epoch 33: saving model to /content/gdrive/My Drive/YAMAKAWA_LAB/技術補佐員/NN/model/0115.033-0.09.hdf5\n",
            "154/154 [==============================] - 319s 2s/step - loss: 0.1144 - accuracy: 0.9758 - val_loss: 0.0863 - val_accuracy: 0.9837\n",
            "Epoch 34/60\n",
            "154/154 [==============================] - ETA: 0s - loss: 0.1143 - accuracy: 0.9758\n",
            "Epoch 34: saving model to /content/gdrive/My Drive/YAMAKAWA_LAB/技術補佐員/NN/model/0115.034-0.09.hdf5\n",
            "154/154 [==============================] - 315s 2s/step - loss: 0.1143 - accuracy: 0.9758 - val_loss: 0.0860 - val_accuracy: 0.9837\n",
            "Epoch 35/60\n",
            "154/154 [==============================] - ETA: 0s - loss: 0.1142 - accuracy: 0.9758\n",
            "Epoch 35: saving model to /content/gdrive/My Drive/YAMAKAWA_LAB/技術補佐員/NN/model/0115.035-0.09.hdf5\n",
            "154/154 [==============================] - 319s 2s/step - loss: 0.1142 - accuracy: 0.9758 - val_loss: 0.0858 - val_accuracy: 0.9837\n",
            "Epoch 36/60\n",
            "154/154 [==============================] - ETA: 0s - loss: 0.1142 - accuracy: 0.9758\n",
            "Epoch 36: saving model to /content/gdrive/My Drive/YAMAKAWA_LAB/技術補佐員/NN/model/0115.036-0.09.hdf5\n",
            "154/154 [==============================] - 325s 2s/step - loss: 0.1142 - accuracy: 0.9758 - val_loss: 0.0857 - val_accuracy: 0.9837\n",
            "Epoch 37/60\n",
            "154/154 [==============================] - ETA: 0s - loss: 0.1141 - accuracy: 0.9758\n",
            "Epoch 37: saving model to /content/gdrive/My Drive/YAMAKAWA_LAB/技術補佐員/NN/model/0115.037-0.09.hdf5\n",
            "154/154 [==============================] - 319s 2s/step - loss: 0.1141 - accuracy: 0.9758 - val_loss: 0.0856 - val_accuracy: 0.9837\n",
            "Epoch 38/60\n",
            "154/154 [==============================] - ETA: 0s - loss: 0.1141 - accuracy: 0.9758\n",
            "Epoch 38: saving model to /content/gdrive/My Drive/YAMAKAWA_LAB/技術補佐員/NN/model/0115.038-0.09.hdf5\n",
            "154/154 [==============================] - 315s 2s/step - loss: 0.1141 - accuracy: 0.9758 - val_loss: 0.0854 - val_accuracy: 0.9837\n",
            "Epoch 39/60\n",
            "154/154 [==============================] - ETA: 0s - loss: 0.1140 - accuracy: 0.9758\n",
            "Epoch 39: saving model to /content/gdrive/My Drive/YAMAKAWA_LAB/技術補佐員/NN/model/0115.039-0.09.hdf5\n",
            "154/154 [==============================] - 323s 2s/step - loss: 0.1140 - accuracy: 0.9758 - val_loss: 0.0853 - val_accuracy: 0.9837\n",
            "Epoch 40/60\n",
            "154/154 [==============================] - ETA: 0s - loss: 0.1140 - accuracy: 0.9758\n",
            "Epoch 40: saving model to /content/gdrive/My Drive/YAMAKAWA_LAB/技術補佐員/NN/model/0115.040-0.09.hdf5\n",
            "154/154 [==============================] - 355s 2s/step - loss: 0.1140 - accuracy: 0.9758 - val_loss: 0.0852 - val_accuracy: 0.9837\n",
            "Epoch 41/60\n",
            "154/154 [==============================] - ETA: 0s - loss: 0.1140 - accuracy: 0.9758\n",
            "Epoch 41: saving model to /content/gdrive/My Drive/YAMAKAWA_LAB/技術補佐員/NN/model/0115.041-0.09.hdf5\n",
            "154/154 [==============================] - 346s 2s/step - loss: 0.1140 - accuracy: 0.9758 - val_loss: 0.0851 - val_accuracy: 0.9837\n",
            "Epoch 42/60\n",
            "154/154 [==============================] - ETA: 0s - loss: 0.1140 - accuracy: 0.9758\n",
            "Epoch 42: saving model to /content/gdrive/My Drive/YAMAKAWA_LAB/技術補佐員/NN/model/0115.042-0.09.hdf5\n",
            "154/154 [==============================] - 316s 2s/step - loss: 0.1140 - accuracy: 0.9758 - val_loss: 0.0850 - val_accuracy: 0.9837\n",
            "Epoch 43/60\n",
            "154/154 [==============================] - ETA: 0s - loss: 0.1140 - accuracy: 0.9758\n",
            "Epoch 43: saving model to /content/gdrive/My Drive/YAMAKAWA_LAB/技術補佐員/NN/model/0115.043-0.08.hdf5\n",
            "154/154 [==============================] - 339s 2s/step - loss: 0.1140 - accuracy: 0.9758 - val_loss: 0.0850 - val_accuracy: 0.9837\n",
            "Epoch 44/60\n",
            "154/154 [==============================] - ETA: 0s - loss: 0.1140 - accuracy: 0.9758\n",
            "Epoch 44: saving model to /content/gdrive/My Drive/YAMAKAWA_LAB/技術補佐員/NN/model/0115.044-0.08.hdf5\n",
            "154/154 [==============================] - 341s 2s/step - loss: 0.1140 - accuracy: 0.9758 - val_loss: 0.0850 - val_accuracy: 0.9837\n",
            "Epoch 45/60\n",
            "154/154 [==============================] - ETA: 0s - loss: 0.1140 - accuracy: 0.9758\n",
            "Epoch 45: saving model to /content/gdrive/My Drive/YAMAKAWA_LAB/技術補佐員/NN/model/0115.045-0.08.hdf5\n",
            "154/154 [==============================] - 315s 2s/step - loss: 0.1140 - accuracy: 0.9758 - val_loss: 0.0849 - val_accuracy: 0.9837\n",
            "Epoch 46/60\n",
            "154/154 [==============================] - ETA: 0s - loss: 0.1139 - accuracy: 0.9758\n",
            "Epoch 46: saving model to /content/gdrive/My Drive/YAMAKAWA_LAB/技術補佐員/NN/model/0115.046-0.08.hdf5\n",
            "154/154 [==============================] - 313s 2s/step - loss: 0.1139 - accuracy: 0.9758 - val_loss: 0.0849 - val_accuracy: 0.9837\n",
            "Epoch 47/60\n",
            "154/154 [==============================] - ETA: 0s - loss: 0.1139 - accuracy: 0.9758\n",
            "Epoch 47: saving model to /content/gdrive/My Drive/YAMAKAWA_LAB/技術補佐員/NN/model/0115.047-0.08.hdf5\n",
            "154/154 [==============================] - 311s 2s/step - loss: 0.1139 - accuracy: 0.9758 - val_loss: 0.0849 - val_accuracy: 0.9837\n",
            "Epoch 48/60\n",
            "154/154 [==============================] - ETA: 0s - loss: 0.1139 - accuracy: 0.9758\n",
            "Epoch 48: saving model to /content/gdrive/My Drive/YAMAKAWA_LAB/技術補佐員/NN/model/0115.048-0.08.hdf5\n",
            "154/154 [==============================] - 311s 2s/step - loss: 0.1139 - accuracy: 0.9758 - val_loss: 0.0848 - val_accuracy: 0.9837\n",
            "Epoch 49/60\n",
            "154/154 [==============================] - ETA: 0s - loss: 0.1139 - accuracy: 0.9758\n",
            "Epoch 49: saving model to /content/gdrive/My Drive/YAMAKAWA_LAB/技術補佐員/NN/model/0115.049-0.08.hdf5\n",
            "154/154 [==============================] - 315s 2s/step - loss: 0.1139 - accuracy: 0.9758 - val_loss: 0.0848 - val_accuracy: 0.9837\n",
            "Epoch 50/60\n",
            "154/154 [==============================] - ETA: 0s - loss: 0.1139 - accuracy: 0.9758\n",
            "Epoch 50: saving model to /content/gdrive/My Drive/YAMAKAWA_LAB/技術補佐員/NN/model/0115.050-0.08.hdf5\n",
            "154/154 [==============================] - 310s 2s/step - loss: 0.1139 - accuracy: 0.9758 - val_loss: 0.0847 - val_accuracy: 0.9837\n",
            "Epoch 51/60\n",
            "154/154 [==============================] - ETA: 0s - loss: 0.1139 - accuracy: 0.9758\n",
            "Epoch 51: saving model to /content/gdrive/My Drive/YAMAKAWA_LAB/技術補佐員/NN/model/0115.051-0.08.hdf5\n",
            "154/154 [==============================] - 314s 2s/step - loss: 0.1139 - accuracy: 0.9758 - val_loss: 0.0847 - val_accuracy: 0.9837\n",
            "Epoch 52/60\n",
            "154/154 [==============================] - ETA: 0s - loss: 0.1139 - accuracy: 0.9758\n",
            "Epoch 52: saving model to /content/gdrive/My Drive/YAMAKAWA_LAB/技術補佐員/NN/model/0115.052-0.08.hdf5\n",
            "154/154 [==============================] - 316s 2s/step - loss: 0.1139 - accuracy: 0.9758 - val_loss: 0.0847 - val_accuracy: 0.9837\n",
            "Epoch 53/60\n",
            "154/154 [==============================] - ETA: 0s - loss: 0.1139 - accuracy: 0.9758\n",
            "Epoch 53: saving model to /content/gdrive/My Drive/YAMAKAWA_LAB/技術補佐員/NN/model/0115.053-0.08.hdf5\n",
            "154/154 [==============================] - 326s 2s/step - loss: 0.1139 - accuracy: 0.9758 - val_loss: 0.0847 - val_accuracy: 0.9837\n",
            "Epoch 54/60\n",
            "154/154 [==============================] - ETA: 0s - loss: 0.1139 - accuracy: 0.9758\n",
            "Epoch 54: saving model to /content/gdrive/My Drive/YAMAKAWA_LAB/技術補佐員/NN/model/0115.054-0.08.hdf5\n",
            "154/154 [==============================] - 330s 2s/step - loss: 0.1139 - accuracy: 0.9758 - val_loss: 0.0847 - val_accuracy: 0.9837\n",
            "Epoch 55/60\n",
            "154/154 [==============================] - ETA: 0s - loss: 0.1139 - accuracy: 0.9758\n",
            "Epoch 55: saving model to /content/gdrive/My Drive/YAMAKAWA_LAB/技術補佐員/NN/model/0115.055-0.08.hdf5\n",
            "154/154 [==============================] - 336s 2s/step - loss: 0.1139 - accuracy: 0.9758 - val_loss: 0.0847 - val_accuracy: 0.9837\n",
            "Epoch 56/60\n",
            " 49/154 [========>.....................] - ETA: 3:34 - loss: 0.1188 - accuracy: 0.9745"
          ]
        }
      ]
    },
    {
      "cell_type": "markdown",
      "source": [
        "#Show model structure"
      ],
      "metadata": {
        "id": "O2yhRK7pNN6X"
      }
    },
    {
      "cell_type": "code",
      "source": [
        "from tensorflow.keras.utils import plot_model\n",
        "plot_model(model,show_shapes = True,show_layer_names = False)"
      ],
      "metadata": {
        "id": "Gst18za4NM8z",
        "colab": {
          "base_uri": "https://localhost:8080/",
          "height": 1000
        },
        "outputId": "9aed7784-f004-4856-c44b-20f340bbd8ef"
      },
      "execution_count": null,
      "outputs": [
        {
          "output_type": "execute_result",
          "data": {
            "image/png": "[encoded data removed]",
            "text/plain": [
              "<IPython.core.display.Image object>"
            ]
          },
          "metadata": {},
          "execution_count": 29
        }
      ]
    },
    {
      "cell_type": "markdown",
      "source": [
        "#Get optimal model"
      ],
      "metadata": {
        "id": "PZAd9pofNWLV"
      }
    },
    {
      "cell_type": "code",
      "source": [
        "# get the newest model file within a directory\n",
        "def getNewestModel(model, dirname):\n",
        "    from glob import glob\n",
        "    target = os.path.join(dirname, '*')\n",
        "    files = [(f, os.path.getmtime(f)) for f in glob(target)]\n",
        "    if len(files) == 0:\n",
        "        return model\n",
        "    else:\n",
        "        newestModel = sorted(files, key=lambda files: files[1])[-1]\n",
        "        model.load_weights(newestModel[0])\n",
        "        return model\n",
        "\n",
        "optimal_model = getNewestModel(model,save_dir)\n",
        "\n",
        "score_optimal = optimal_model.evaluate(image_test, label_test, verbose=1)\n",
        "score = model.evaluate(image_test, label_test, verbose = 1)\n",
        "print(\"optimal model accuracy: \",score_optimal)\n",
        "print(\"normal model accuracy: \",score)"
      ],
      "metadata": {
        "id": "6AixfUGlNUMg"
      },
      "execution_count": null,
      "outputs": []
    },
    {
      "cell_type": "markdown",
      "source": [
        "#Show outputs"
      ],
      "metadata": {
        "id": "CnU6jq-SNbqc"
      }
    },
    {
      "cell_type": "markdown",
      "source": [
        "##For 1-dimension output"
      ],
      "metadata": {
        "id": "U_uYuTyZbrTj"
      }
    },
    {
      "cell_type": "code",
      "source": [
        "import matplotlib.pyplot as plt\n",
        "import numpy as np\n",
        "from sklearn.metrics import f1_score,precision_score,recall_score\n",
        "\n",
        "threshold = 0.5\n",
        "\n",
        "predict_data = optimal_model.predict(image_test)\n",
        "print(len(predict_data))\n",
        "thre_predict = []\n",
        "for i in range(len(predict_data)):\n",
        "  if predict_data[i] >= threshold:\n",
        "    thre_predict.append(1)\n",
        "  else:\n",
        "    thre_predict.append(0)\n",
        "thre_predict = np.asarray(thre_predict)\n",
        "\n",
        "num = [i for i in range(len(predict_data))]\n",
        "num = np.asarray(num)\n",
        "num_test = [i for i in range(len(label_train))]\n",
        "num_test = np.asarray(num_test)\n",
        "\n",
        "fig,ax = plt.subplots(figsize = (15,6))\n",
        "#plt.subplots(figsize = (20,10))\n",
        "ax.plot(predict_data, \"r\",linestyle = 'None',marker = 'o',label ='predict data')\n",
        "ax.plot(label_test, \"b\",linestyle = 'None', marker = 'o', label = 'raw data')\n",
        "ax.plot(thre_predict, 'g', linestyle = 'None', marker = 'o', label = ' thresholded data')\n",
        "plt.axhline(y = threshold)\n",
        "plt.legend(bbox_to_anchor=(1.05, 1), loc='upper left', borderaxespad=0, fontsize=18)\n",
        "plt.show()\n",
        "\n",
        "print(\"accuracy : \" ,optimal_model.evaluate(image_test, label_test)[1])\n",
        "print(\"precision:\",precision_score(label_test,thre_predict))\n",
        "print(\"recall:\",recall_score(label_test,thre_predict))\n",
        "print(\"f value:\",f1_score(label_test,thre_predict))\n",
        "\n",
        "from sklearn.metrics import accuracy_score\n",
        "\"\"\" 正解率 \"\"\"\n",
        "print(\" accuracy of thresholded data : \", accuracy_score(thre_predict, label_test))"
      ],
      "metadata": {
        "id": "pc2ATs4nNarv"
      },
      "execution_count": null,
      "outputs": []
    },
    {
      "cell_type": "markdown",
      "source": [
        "##For 2-dimension outputs"
      ],
      "metadata": {
        "id": "Sap5AkHGbnpw"
      }
    },
    {
      "cell_type": "code",
      "source": [
        "import matplotlib.pyplot as plt\n",
        "import numpy as np\n",
        "from sklearn.metrics import f1_score,precision_score,recall_score\n",
        "\n",
        "threshold = 0.5\n",
        "\n",
        "#split label data into a scaler\n",
        "def vec2scaler(data):\n",
        "  spatter_label = []\n",
        "  non_label = []\n",
        "  for i in range(data.shape[0]):\n",
        "    if data[i][0] == 1: #non spatter\n",
        "      non_label.append(1)\n",
        "      spatter_label.append(None)\n",
        "    else:#spatter\n",
        "      non_label.append(None)\n",
        "      spatter_label.append(1)\n",
        "  return spatter_label,non_label\n",
        "\n",
        "def show_outputs(data,label_data,model):\n",
        "\n",
        "  predict_data = model.predict(data)\n",
        "  predict_0 = predict_data[:,0]\n",
        "  predict_1 = predict_data[:,1]\n",
        "  #threshold data\n",
        "  result = np.zeros((predict_data.shape[0],predict_data.shape[1]))\n",
        "  for i in range(predict_data.shape[0]):\n",
        "    judge = np.argmax(predict_data[i,:])\n",
        "    if judge == 0:\n",
        "      result[i,0] = 1\n",
        "    else:\n",
        "      result[i,1] = 1\n",
        "\n",
        "\n",
        "  spatter_label,non_label = vec2scaler(label_data)\n",
        "  spatter_predict,non_predict = vec2scaler(result)\n",
        "\n",
        "  #evaluation parameter\n",
        "  TP = 0\n",
        "  TN = 0\n",
        "  FP = 0\n",
        "  FN = 0\n",
        "\n",
        "  for i in range(len(spatter_label)):\n",
        "\n",
        "    if spatter_label[i] == 1:\n",
        "      if spatter_predict[i] == 1:#TP\n",
        "        TP +=1\n",
        "      elif non_predict[i] == 1: #FN\n",
        "        FN +=1\n",
        "    elif non_label[i] == 1:\n",
        "      if spatter_predict[i] == 1:#FP\n",
        "        FP += 1\n",
        "      elif non_predict[i] == 1:#TN\n",
        "        TN += 1\n",
        "\n",
        "  print(\"(TP,FN,FP,TN)\",(TP,FN,FP,TN))\n",
        "\n",
        "  all = len(spatter_label)\n",
        "  print(all)\n",
        "  accuracy = (TP+TN)/all\n",
        "  precision = TP/(TP+FP)\n",
        "  recall = TP/(TP+FN)\n",
        "  f_value = 2/(1/precision+1/recall)\n",
        "\n",
        "\n",
        "  #plot non-spatter data\n",
        "  plt.subplot(2,1,1)\n",
        "  fig,ax = plt.subplots(figsize = (15,7))\n",
        "  #plt.subplots(figsize = (20,10))\n",
        "  ax.plot(predict_0, \"r\",linestyle = 'None',marker = 'o',label ='predict data')\n",
        "  ax.plot(non_label, \"b\",linestyle = 'None', marker = 'o', label = 'raw data')\n",
        "  ax.set_title('Non spatter')\n",
        "  plt.axhline(y = threshold)\n",
        "  plt.legend(bbox_to_anchor=(1.05, 1), loc='upper left', borderaxespad=0, fontsize=18)\n",
        "  plt.show()\n",
        "\n",
        "  plt.subplot(2,1,2)\n",
        "  fig,ax = plt.subplots(figsize=(15,7))\n",
        "  #plt.subplots(figsize = (20,10))\n",
        "  ax.plot(predict_1, \"r\",linestyle = 'None',marker = 'o',label ='predict data')\n",
        "  ax.plot(spatter_label, \"b\",linestyle = 'None', marker = 'o', label = 'raw data')\n",
        "  ax.set_title('Spatter')\n",
        "  plt.axhline(y = threshold)\n",
        "  plt.legend(bbox_to_anchor=(1.05, 1), loc='upper left', borderaxespad=0, fontsize=18)\n",
        "  plt.show()\n",
        "\n",
        "  print(\"accuracy : \" ,accuracy)\n",
        "  print(\"precision:\",precision)\n",
        "  print(\"recall:\",recall)\n",
        "  print(\"f value:\",f_value)"
      ],
      "metadata": {
        "id": "9ChekIWJbdkn"
      },
      "execution_count": null,
      "outputs": []
    },
    {
      "cell_type": "code",
      "source": [
        "show_outputs(image_train,lab_train,model=model)\n",
        "show_outputs(image_test,lab_test,model=model)"
      ],
      "metadata": {
        "id": "M-IcbDt9bjjt"
      },
      "execution_count": null,
      "outputs": []
    }
  ]
}