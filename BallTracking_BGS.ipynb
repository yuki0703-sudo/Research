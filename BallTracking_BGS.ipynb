{
  "nbformat": 4,
  "nbformat_minor": 0,
  "metadata": {
    "colab": {
      "provenance": [],
      "authorship_tag": "ABX9TyPXCTVo1BDzHv/8QWFnRn4S",
      "include_colab_link": true
    },
    "kernelspec": {
      "name": "python3",
      "display_name": "Python 3"
    },
    "language_info": {
      "name": "python"
    }
  },
  "cells": [
    {
      "cell_type": "markdown",
      "metadata": {
        "id": "view-in-github",
        "colab_type": "text"
      },
      "source": [
        "<a href=\"https://colab.research.google.com/github/yuki0703-sudo/Research/blob/main/BallTracking_BGS.ipynb\" target=\"_parent\"><img src=\"https://colab.research.google.com/assets/colab-badge.svg\" alt=\"Open In Colab\"/></a>"
      ]
    },
    {
      "cell_type": "markdown",
      "source": [
        "#Import Library"
      ],
      "metadata": {
        "id": "ds3d59NbbBpO"
      }
    },
    {
      "cell_type": "code",
      "execution_count": null,
      "metadata": {
        "id": "k0be1ZoYEYEi"
      },
      "outputs": [],
      "source": [
        "import cv2 \n",
        "import pandas as pd\n",
        "import numpy as np\n",
        "import matplotlib.pyplot as plt\n",
        "from google.colab import drive\n",
        "from google.colab.patches import cv2_imshow\n",
        "import scipy.ndimage as ndimage\n",
        "from google.colab.patches import cv2_imshow\n",
        "from numpy import uint8"
      ]
    },
    {
      "cell_type": "code",
      "source": [
        "drive.mount('/content/gdrive')"
      ],
      "metadata": {
        "colab": {
          "base_uri": "https://localhost:8080/"
        },
        "id": "XFxQnYjOErGH",
        "outputId": "4a54d915-043c-407a-b30f-1c3c298fe493"
      },
      "execution_count": null,
      "outputs": [
        {
          "output_type": "stream",
          "name": "stdout",
          "text": [
            "Mounted at /content/gdrive\n"
          ]
        }
      ]
    },
    {
      "cell_type": "code",
      "source": [
        "print(\"{:03d}\".format(200))"
      ],
      "metadata": {
        "colab": {
          "base_uri": "https://localhost:8080/"
        },
        "id": "P1zpqjFOHIlb",
        "outputId": "0e0ed872-7fde-4483-b741-00cdcda6fe58"
      },
      "execution_count": null,
      "outputs": [
        {
          "output_type": "stream",
          "name": "stdout",
          "text": [
            "200\n"
          ]
        }
      ]
    },
    {
      "cell_type": "code",
      "source": [
        "import os\n",
        "dir = '/content/gdrive/My Drive/YAMAKAWA_LAB/ObjectTracking/20221221/1/cam_1'\n",
        "num_photo = sum(os.path.isfile(os.path.join(dir,name)) for name in os.listdir(dir))\n",
        "\n",
        "for i in range(1,num_photo+1):\n",
        "  if i < 680 or i>790:\n",
        "    os.remove(\"/content/gdrive/My Drive/YAMAKAWA_LAB/ObjectTracking/20221221/1/cam_1/{:03d}.jpg\".format(i))"
      ],
      "metadata": {
        "id": "7knyXDW5GGCK"
      },
      "execution_count": null,
      "outputs": []
    },
    {
      "cell_type": "code",
      "source": [
        "src_img_dir=\"/content/gdrive/My Drive/YAMAKAWA_LAB/ObjectTracking/20221221/1/cam_1\"\n",
        "\n",
        "#src_img_dirがなかったら、srcフォルダを作成する\n",
        "import os\n",
        "import glob\n",
        "\n",
        "if not os.path.exists(src_img_dir):\n",
        "  os.makedirs(src_img_dir)\n",
        "\n",
        "\n",
        "#フォルダに存在するファイルを取得する、0001.jpg~0005.jpg→{}/*.jpg\n",
        "src_files=glob.glob(\"{}/*.jpg\".format(src_img_dir))\n",
        "src_files.sort()\n",
        "\n",
        "for j,file in enumerate(src_files):\n",
        "  print(file)\n",
        "  oldpath = file\n",
        "  newpath = os.path.join(src_img_dir,\"{:03d}.jpg\".format(j+1))\n",
        "  os.rename(oldpath, newpath)"
      ],
      "metadata": {
        "id": "TgWID_KuIA9x"
      },
      "execution_count": null,
      "outputs": []
    },
    {
      "cell_type": "code",
      "source": [
        "import cv2\n",
        "from google.colab.patches import cv2_imshow\n",
        "import numpy as np\n",
        "from numpy import uint8\n",
        "\n",
        "if __name__ == \"__main__\":\n",
        "\n",
        "  #read image\n",
        "  i=40\n",
        "  kernel = np.zeros((5,5),np.uint8)\n",
        "  #img_src1 = cv2.imread(\"/content/gdrive/My Drive/YAMAKAWA_LAB/技術補佐員/動画/20220603/video/xiQ_20220603_12-2/0100.jpg\")\n",
        "  #img_src2 = cv2.imread(\"/content/gdrive/My Drive/YAMAKAWA_LAB/技術補佐員/動画/20220603/video/xiQ_20220603_12-2/0300.jpg\")\n",
        "  src_img_dir='/content/gdrive/My Drive/YAMAKAWA_LAB/ObjectTracking/20221221/1/cam_1' ##Chnage here\n",
        "  img_src = cv2.imread(\"{dir}/{index:03d}.jpg\".format(dir= src_img_dir,index=(i+1)))\n",
        "  #img_src = cv2.imread(\"{dir}/{index:03d}.jpg\".format(dir= src_img_dir,index=(i)))\n",
        "  fgbg = cv2.bgsegm.createBackgroundSubtractorMOG(history = 50)#,detect_shadow = False) #, varThreshold = 0.4)\n",
        "\n",
        "  fgmask = fgbg.apply(img_src)\n",
        "  fgmask = cv2.morphologyEx(fgmask, cv2.MORPH_OPEN, kernel)\n",
        "  #fgmask2 = fgbg.apply(img_src2)\n",
        "\n",
        "  #display\n",
        "  print(\"///mask\")\n",
        "  cv2_imshow(fgmask)\n",
        "  #print(\"////second image mask\")\n",
        "  #cv2_imshow(fgmask2)\n",
        "  #print(\"_____\")\n",
        "\n",
        "  #detected image\n",
        "  #comparison image\n",
        "  img_src = np.array(img_src,dtype=uint8)\n",
        "  fgmask = np.array(fgmask,dtype=uint8)\n",
        "      # グレースケールに変換する。\n",
        "  gray_src = cv2.cvtColor(img_src, cv2.COLOR_BGR2GRAY)\n",
        "  #gray_fgmask = cv2.cvtColor(fgmask,cv2.COLOR_BGR2GRAY)\n",
        "\n",
        "    # 2値化する\n",
        "  #ret_src, bin_src = cv2.threshold(gray_src,1,255, cv2.THRESH_BINARY)\n",
        "  ret_bgs, bin_bgs = cv2.threshold(fgmask,30,255, cv2.THRESH_BINARY)\n",
        "  #for i in range(len(bin_src)):\n",
        "   # for j in range(len(bin_src[1])):\n",
        "    #  if bin_src[i][j] == 255\n",
        "  #print(\"binary image\")\n",
        "  #cv2_imshow(bin_src)\n",
        "  #cv2_imshow(img_src1)\n",
        "  print(\"binary bgs image\")\n",
        "  cv2_imshow(bin_bgs)\n",
        "  # 輪郭を抽出する。\n",
        "  #contours_src, hierarchy_src = cv2.findContours(np.array(bin_src,dtype=uint8), cv2.RETR_EXTERNAL, cv2.CHAIN_APPROX_SIMPLE)\n",
        "  contours_bgs, hierachy_bgs = cv2.findContours(np.array(bin_bgs, dtype = uint8),cv2.RETR_EXTERNAL, cv2.CHAIN_APPROX_SIMPLE)\n",
        "\n",
        "    # 小さい輪郭は誤検出として削除する\n",
        "    #contours = list(filter(lambda x: cv2.contourArea(x) <50, contours)\n",
        "  \n",
        "     #calculate area:\n",
        "  area_src = 0\n",
        "  area_bgs = 0\n",
        "  count=0\n",
        "  area_bgs = []\n",
        "      #source image area\n",
        "  print(contours_bgs)\n",
        "  if contours_bgs:\n",
        "      #for c in contours_bgs:\n",
        "      #  area_src += cv2.contourArea(c)\n",
        "          #bgs image area:\n",
        "      for c in contours_bgs:\n",
        "        area_bgs.append(cv2.contourArea(c))\n",
        "        \"\"\"\n",
        "    if area_src!=0:\n",
        "      print(area_src)\n",
        "      print(area_bgs)\n",
        "      ratio = (area_bgs/area_src)*10000\n",
        "      \"\"\"\n",
        "        index = np.argmax(area_bgs)\n",
        "        cnt = contours_bgs[index]\n",
        "\n",
        "        mu=cv2.moments(c)\n",
        "        x=int(mu[\"m10\"]/mu[\"m00\"])\n",
        "        y=int(mu[\"m01\"]/mu[\"m00\"])\n",
        "        print((x,y))\n",
        "        cv2.circle(img_src,center=(x,y),radius=10,color=(243,152,0),thickness=-1)\n",
        "\n",
        "  cv2_imshow(img_src)\n",
        "#bg_diff_path = \"/content/gdrive/My Drive/YAMAKAWA_LAB/技術補佐員/動画/20220401/video/diff.jpg\"\n",
        "#cv2.imwrite(bg_diff_path,fgmask)\n",
        "  \"\"\"\n",
        "  cv2.waitKey(0)\n",
        "  cv2.destroyAllWindows()\n",
        "  \"\"\""
      ],
      "metadata": {
        "colab": {
          "base_uri": "https://localhost:8080/",
          "height": 1000
        },
        "id": "UHgbj5SxLC3c",
        "outputId": "0e554261-cd7c-42d5-d2c6-820509c9045d"
      },
      "execution_count": null,
      "outputs": [
        {
          "output_type": "stream",
          "name": "stdout",
          "text": [
            "///mask\n"
          ]
        },
        {
          "output_type": "display_data",
          "data": {
            "text/plain": [
              "<PIL.Image.Image image mode=L size=400x300 at 0x7F4B7E2119D0>"
            ],
            "image/png": "[encoded data removed]"
          },
          "metadata": {}
        },
        {
          "output_type": "stream",
          "name": "stdout",
          "text": [
            "binary bgs image\n"
          ]
        },
        {
          "output_type": "display_data",
          "data": {
            "text/plain": [
              "<PIL.Image.Image image mode=L size=400x300 at 0x7F4B7E2119D0>"
            ],
            "image/png": "[encoded data removed]"
          },
          "metadata": {}
        },
        {
          "output_type": "stream",
          "name": "stdout",
          "text": [
            "(array([[[  2,   2]],\n",
            "\n",
            "       [[  2, 299]],\n",
            "\n",
            "       [[  3, 299]],\n",
            "\n",
            "       [[  3,   4]],\n",
            "\n",
            "       [[  4,   3]],\n",
            "\n",
            "       [[399,   3]],\n",
            "\n",
            "       [[399,   2]]], dtype=int32),)\n",
            "(115, 65)\n"
          ]
        },
        {
          "output_type": "display_data",
          "data": {
            "text/plain": [
              "<PIL.Image.Image image mode=RGB size=400x300 at 0x7F4B9A5ABAC0>"
            ],
            "image/png": "[encoded data removed]"
          },
          "metadata": {}
        }
      ]
    },
    {
      "cell_type": "code",
      "source": [
        "# calculate the center position from image :video\n",
        "import cv2\n",
        "import numpy as np\n",
        "from IPython import display\n",
        "from matplotlib import pyplot as plt\n",
        "import time\n",
        "from numpy import dtype,uint8\n",
        "import scipy.ndimage as ndimage\n",
        "import math\n",
        "import glob\n",
        "import os\n",
        "import time\n",
        "\n",
        "length = 40\n",
        "\n",
        "#入力画像取得\n",
        "#///////////////////////\n",
        "src_img_dir='/content/gdrive/My Drive/YAMAKAWA_LAB/ObjectTracking/20221221/1/cam_1' ##Chnage here\n",
        "#//////////////////////\n",
        "\n",
        "src_files=glob.glob(\"{}/*.jpg\".format(src_img_dir))\n",
        "src_files.sort()\n",
        "print(src_files)\n",
        "#画像の保存ディレクトリ\n",
        "# Change here /////////////\n",
        "dst_img_dir='/content/gdrive/My Drive/YAMAKAWA_LAB/ObjectTracking/20221221/1/cam_1/BGS'\n",
        "#///////////////////////\n",
        "\n",
        "if not os.path.exists(dst_img_dir):\n",
        "  os.makedirs(dst_img_dir)\n",
        "\n",
        "num = []\n",
        "ratio = []\n",
        "\n",
        "X = []\n",
        "Y = []\n",
        "\n",
        "t = 0\n",
        "\n",
        "for i in range(1,len(src_files)+1): #index,components=enumerate(file)[]\n",
        "  print(i)\n",
        "  t1 = time.time()\n",
        "  #read image\n",
        "  img_src = cv2.imread(\"{dir}/{index:03d}.jpg\".format(dir= src_img_dir,index=(i)))\n",
        "  #img_src2 = cv2.imread(\"{dir}/{index:03d}.jpg\".format(dir= src_img_dir,index=(i)))\n",
        "\n",
        "  fgbg = cv2.bgsegm.createBackgroundSubtractorMOG(history = 60)\n",
        "\n",
        "  #fgmask = fgbg.apply(img_src1)\n",
        "  fgmask = fgbg.apply(img_src)\n",
        "\n",
        "  #comparison image\n",
        "  #img_src1 = np.array(img_src2,dtype=uint8)\n",
        "  fgmask = np.array(fgmask,dtype=uint8)\n",
        "  # グレースケールに変換する。\n",
        "  #gray_src = cv2.cvtColor(img_src, cv2.COLOR_BGR2GRAY)\n",
        "  #gray_fgmask = cv2.cvtColor(fgmask,cv2.COLOR_BGR2GRAY)\n",
        "\n",
        "# 2値化する\n",
        "  #ret_src, bin_src = cv2.threshold(gray_src, 1, 255, cv2.THRESH_BINARY)\n",
        "  ret_bgs, bin_bgs = cv2.threshold(fgmask, 1,  255,cv2.THRESH_BINARY)\n",
        "\n",
        "# 輪郭を抽出する。\n",
        "  #contours_src, hierarchy_src = cv2.findContours(np.array(bin_src,dtype=uint8), cv2.RETR_EXTERNAL, cv2.CHAIN_APPROX_SIMPLE)\n",
        "  contours_bgs, hierachy_bgs = cv2.findContours(np.array(bin_bgs, dtype = uint8),cv2.RETR_EXTERNAL, cv2.CHAIN_APPROX_SIMPLE)\n",
        "\n",
        "  area_bgs = []\n",
        "  #source image area\n",
        "  #print(bool(contours_bgs))\n",
        "  #if bool(contours_bgs) == True:\n",
        "      #for c in contours_bgs:\n",
        "      #  area_src += cv2.contourArea(c)\n",
        "          #bgs image area:\n",
        "  for c in contours_bgs:\n",
        "    area_bgs.append(cv2.contourArea(c))\n",
        "  \"\"\"\n",
        "  if area_src!=0:\n",
        "    print(area_src)\n",
        "    print(area_bgs)\n",
        "    ratio = (area_bgs/area_src)*10000\n",
        "  \"\"\"\n",
        "  if area_bgs != []:\n",
        "    index = np.argmax(area_bgs)\n",
        "    cnt = contours_bgs[index]\n",
        "\n",
        "    if mu[\"m00\"] != 0:\n",
        "      mu=cv2.moments(cnt)\n",
        "      x=int(mu[\"m10\"]/mu[\"m00\"])\n",
        "      y=int(mu[\"m01\"]/mu[\"m00\"])\n",
        "    else:\n",
        "      x = None\n",
        "      y = None\n",
        "  else:\n",
        "        x = None\n",
        "        y = None\n",
        "\n",
        "  t2 = time.time()\n",
        "\n",
        "  t += (t2-t1)\n",
        "\n",
        "  X.append(x)\n",
        "  Y.append(y)\n",
        "\n",
        "  cv2.circle(img_src,center=(x,y),radius=10,color=(243,152,0),thickness=-1)\n",
        "  save_dir = os.path.join(dst_img_dir,\"{:03d}.jpg\".format(i))\n",
        "  cv2.imwrite(save_dir,img_src)\n",
        "\n",
        "print(\"Process time for BGS:{:.1f}\".format(len(src_files)/t)) #83.6Hz"
      ],
      "metadata": {
        "colab": {
          "base_uri": "https://localhost:8080/"
        },
        "id": "loojyGxOFCiA",
        "outputId": "8e3be3bd-c3ed-4001-d0d4-a95011450cab"
      },
      "execution_count": null,
      "outputs": [
        {
          "output_type": "stream",
          "name": "stdout",
          "text": [
            "['/content/gdrive/My Drive/YAMAKAWA_LAB/ObjectTracking/20221221/1/cam_1/001.jpg', '/content/gdrive/My Drive/YAMAKAWA_LAB/ObjectTracking/20221221/1/cam_1/002.jpg', '/content/gdrive/My Drive/YAMAKAWA_LAB/ObjectTracking/20221221/1/cam_1/003.jpg', '/content/gdrive/My Drive/YAMAKAWA_LAB/ObjectTracking/20221221/1/cam_1/004.jpg', '/content/gdrive/My Drive/YAMAKAWA_LAB/ObjectTracking/20221221/1/cam_1/005.jpg', '/content/gdrive/My Drive/YAMAKAWA_LAB/ObjectTracking/20221221/1/cam_1/006.jpg', '/content/gdrive/My Drive/YAMAKAWA_LAB/ObjectTracking/20221221/1/cam_1/007.jpg', '/content/gdrive/My Drive/YAMAKAWA_LAB/ObjectTracking/20221221/1/cam_1/008.jpg', '/content/gdrive/My Drive/YAMAKAWA_LAB/ObjectTracking/20221221/1/cam_1/009.jpg', '/content/gdrive/My Drive/YAMAKAWA_LAB/ObjectTracking/20221221/1/cam_1/010.jpg', '/content/gdrive/My Drive/YAMAKAWA_LAB/ObjectTracking/20221221/1/cam_1/011.jpg', '/content/gdrive/My Drive/YAMAKAWA_LAB/ObjectTracking/20221221/1/cam_1/012.jpg', '/content/gdrive/My Drive/YAMAKAWA_LAB/ObjectTracking/20221221/1/cam_1/013.jpg', '/content/gdrive/My Drive/YAMAKAWA_LAB/ObjectTracking/20221221/1/cam_1/014.jpg', '/content/gdrive/My Drive/YAMAKAWA_LAB/ObjectTracking/20221221/1/cam_1/015.jpg', '/content/gdrive/My Drive/YAMAKAWA_LAB/ObjectTracking/20221221/1/cam_1/016.jpg', '/content/gdrive/My Drive/YAMAKAWA_LAB/ObjectTracking/20221221/1/cam_1/017.jpg', '/content/gdrive/My Drive/YAMAKAWA_LAB/ObjectTracking/20221221/1/cam_1/018.jpg', '/content/gdrive/My Drive/YAMAKAWA_LAB/ObjectTracking/20221221/1/cam_1/019.jpg', '/content/gdrive/My Drive/YAMAKAWA_LAB/ObjectTracking/20221221/1/cam_1/020.jpg', '/content/gdrive/My Drive/YAMAKAWA_LAB/ObjectTracking/20221221/1/cam_1/021.jpg', '/content/gdrive/My Drive/YAMAKAWA_LAB/ObjectTracking/20221221/1/cam_1/022.jpg', '/content/gdrive/My Drive/YAMAKAWA_LAB/ObjectTracking/20221221/1/cam_1/023.jpg', '/content/gdrive/My Drive/YAMAKAWA_LAB/ObjectTracking/20221221/1/cam_1/024.jpg', '/content/gdrive/My Drive/YAMAKAWA_LAB/ObjectTracking/20221221/1/cam_1/025.jpg', '/content/gdrive/My Drive/YAMAKAWA_LAB/ObjectTracking/20221221/1/cam_1/026.jpg', '/content/gdrive/My Drive/YAMAKAWA_LAB/ObjectTracking/20221221/1/cam_1/027.jpg', '/content/gdrive/My Drive/YAMAKAWA_LAB/ObjectTracking/20221221/1/cam_1/028.jpg', '/content/gdrive/My Drive/YAMAKAWA_LAB/ObjectTracking/20221221/1/cam_1/029.jpg', '/content/gdrive/My Drive/YAMAKAWA_LAB/ObjectTracking/20221221/1/cam_1/030.jpg', '/content/gdrive/My Drive/YAMAKAWA_LAB/ObjectTracking/20221221/1/cam_1/031.jpg', '/content/gdrive/My Drive/YAMAKAWA_LAB/ObjectTracking/20221221/1/cam_1/032.jpg', '/content/gdrive/My Drive/YAMAKAWA_LAB/ObjectTracking/20221221/1/cam_1/033.jpg', '/content/gdrive/My Drive/YAMAKAWA_LAB/ObjectTracking/20221221/1/cam_1/034.jpg', '/content/gdrive/My Drive/YAMAKAWA_LAB/ObjectTracking/20221221/1/cam_1/035.jpg', '/content/gdrive/My Drive/YAMAKAWA_LAB/ObjectTracking/20221221/1/cam_1/036.jpg', '/content/gdrive/My Drive/YAMAKAWA_LAB/ObjectTracking/20221221/1/cam_1/037.jpg', '/content/gdrive/My Drive/YAMAKAWA_LAB/ObjectTracking/20221221/1/cam_1/038.jpg', '/content/gdrive/My Drive/YAMAKAWA_LAB/ObjectTracking/20221221/1/cam_1/039.jpg', '/content/gdrive/My Drive/YAMAKAWA_LAB/ObjectTracking/20221221/1/cam_1/040.jpg', '/content/gdrive/My Drive/YAMAKAWA_LAB/ObjectTracking/20221221/1/cam_1/041.jpg', '/content/gdrive/My Drive/YAMAKAWA_LAB/ObjectTracking/20221221/1/cam_1/042.jpg', '/content/gdrive/My Drive/YAMAKAWA_LAB/ObjectTracking/20221221/1/cam_1/043.jpg', '/content/gdrive/My Drive/YAMAKAWA_LAB/ObjectTracking/20221221/1/cam_1/044.jpg', '/content/gdrive/My Drive/YAMAKAWA_LAB/ObjectTracking/20221221/1/cam_1/045.jpg', '/content/gdrive/My Drive/YAMAKAWA_LAB/ObjectTracking/20221221/1/cam_1/046.jpg', '/content/gdrive/My Drive/YAMAKAWA_LAB/ObjectTracking/20221221/1/cam_1/047.jpg', '/content/gdrive/My Drive/YAMAKAWA_LAB/ObjectTracking/20221221/1/cam_1/048.jpg', '/content/gdrive/My Drive/YAMAKAWA_LAB/ObjectTracking/20221221/1/cam_1/049.jpg', '/content/gdrive/My Drive/YAMAKAWA_LAB/ObjectTracking/20221221/1/cam_1/050.jpg', '/content/gdrive/My Drive/YAMAKAWA_LAB/ObjectTracking/20221221/1/cam_1/051.jpg', '/content/gdrive/My Drive/YAMAKAWA_LAB/ObjectTracking/20221221/1/cam_1/052.jpg', '/content/gdrive/My Drive/YAMAKAWA_LAB/ObjectTracking/20221221/1/cam_1/053.jpg', '/content/gdrive/My Drive/YAMAKAWA_LAB/ObjectTracking/20221221/1/cam_1/054.jpg', '/content/gdrive/My Drive/YAMAKAWA_LAB/ObjectTracking/20221221/1/cam_1/055.jpg', '/content/gdrive/My Drive/YAMAKAWA_LAB/ObjectTracking/20221221/1/cam_1/056.jpg', '/content/gdrive/My Drive/YAMAKAWA_LAB/ObjectTracking/20221221/1/cam_1/057.jpg', '/content/gdrive/My Drive/YAMAKAWA_LAB/ObjectTracking/20221221/1/cam_1/058.jpg', '/content/gdrive/My Drive/YAMAKAWA_LAB/ObjectTracking/20221221/1/cam_1/059.jpg', '/content/gdrive/My Drive/YAMAKAWA_LAB/ObjectTracking/20221221/1/cam_1/060.jpg', '/content/gdrive/My Drive/YAMAKAWA_LAB/ObjectTracking/20221221/1/cam_1/061.jpg', '/content/gdrive/My Drive/YAMAKAWA_LAB/ObjectTracking/20221221/1/cam_1/062.jpg', '/content/gdrive/My Drive/YAMAKAWA_LAB/ObjectTracking/20221221/1/cam_1/063.jpg', '/content/gdrive/My Drive/YAMAKAWA_LAB/ObjectTracking/20221221/1/cam_1/064.jpg', '/content/gdrive/My Drive/YAMAKAWA_LAB/ObjectTracking/20221221/1/cam_1/065.jpg', '/content/gdrive/My Drive/YAMAKAWA_LAB/ObjectTracking/20221221/1/cam_1/066.jpg', '/content/gdrive/My Drive/YAMAKAWA_LAB/ObjectTracking/20221221/1/cam_1/067.jpg', '/content/gdrive/My Drive/YAMAKAWA_LAB/ObjectTracking/20221221/1/cam_1/068.jpg', '/content/gdrive/My Drive/YAMAKAWA_LAB/ObjectTracking/20221221/1/cam_1/069.jpg', '/content/gdrive/My Drive/YAMAKAWA_LAB/ObjectTracking/20221221/1/cam_1/070.jpg', '/content/gdrive/My Drive/YAMAKAWA_LAB/ObjectTracking/20221221/1/cam_1/071.jpg', '/content/gdrive/My Drive/YAMAKAWA_LAB/ObjectTracking/20221221/1/cam_1/072.jpg', '/content/gdrive/My Drive/YAMAKAWA_LAB/ObjectTracking/20221221/1/cam_1/073.jpg', '/content/gdrive/My Drive/YAMAKAWA_LAB/ObjectTracking/20221221/1/cam_1/074.jpg', '/content/gdrive/My Drive/YAMAKAWA_LAB/ObjectTracking/20221221/1/cam_1/075.jpg', '/content/gdrive/My Drive/YAMAKAWA_LAB/ObjectTracking/20221221/1/cam_1/076.jpg', '/content/gdrive/My Drive/YAMAKAWA_LAB/ObjectTracking/20221221/1/cam_1/077.jpg', '/content/gdrive/My Drive/YAMAKAWA_LAB/ObjectTracking/20221221/1/cam_1/078.jpg', '/content/gdrive/My Drive/YAMAKAWA_LAB/ObjectTracking/20221221/1/cam_1/079.jpg', '/content/gdrive/My Drive/YAMAKAWA_LAB/ObjectTracking/20221221/1/cam_1/080.jpg', '/content/gdrive/My Drive/YAMAKAWA_LAB/ObjectTracking/20221221/1/cam_1/081.jpg', '/content/gdrive/My Drive/YAMAKAWA_LAB/ObjectTracking/20221221/1/cam_1/082.jpg', '/content/gdrive/My Drive/YAMAKAWA_LAB/ObjectTracking/20221221/1/cam_1/083.jpg', '/content/gdrive/My Drive/YAMAKAWA_LAB/ObjectTracking/20221221/1/cam_1/084.jpg', '/content/gdrive/My Drive/YAMAKAWA_LAB/ObjectTracking/20221221/1/cam_1/085.jpg', '/content/gdrive/My Drive/YAMAKAWA_LAB/ObjectTracking/20221221/1/cam_1/086.jpg', '/content/gdrive/My Drive/YAMAKAWA_LAB/ObjectTracking/20221221/1/cam_1/087.jpg', '/content/gdrive/My Drive/YAMAKAWA_LAB/ObjectTracking/20221221/1/cam_1/088.jpg', '/content/gdrive/My Drive/YAMAKAWA_LAB/ObjectTracking/20221221/1/cam_1/089.jpg', '/content/gdrive/My Drive/YAMAKAWA_LAB/ObjectTracking/20221221/1/cam_1/090.jpg', '/content/gdrive/My Drive/YAMAKAWA_LAB/ObjectTracking/20221221/1/cam_1/091.jpg', '/content/gdrive/My Drive/YAMAKAWA_LAB/ObjectTracking/20221221/1/cam_1/092.jpg', '/content/gdrive/My Drive/YAMAKAWA_LAB/ObjectTracking/20221221/1/cam_1/093.jpg', '/content/gdrive/My Drive/YAMAKAWA_LAB/ObjectTracking/20221221/1/cam_1/094.jpg', '/content/gdrive/My Drive/YAMAKAWA_LAB/ObjectTracking/20221221/1/cam_1/095.jpg', '/content/gdrive/My Drive/YAMAKAWA_LAB/ObjectTracking/20221221/1/cam_1/096.jpg', '/content/gdrive/My Drive/YAMAKAWA_LAB/ObjectTracking/20221221/1/cam_1/097.jpg', '/content/gdrive/My Drive/YAMAKAWA_LAB/ObjectTracking/20221221/1/cam_1/098.jpg', '/content/gdrive/My Drive/YAMAKAWA_LAB/ObjectTracking/20221221/1/cam_1/099.jpg', '/content/gdrive/My Drive/YAMAKAWA_LAB/ObjectTracking/20221221/1/cam_1/100.jpg', '/content/gdrive/My Drive/YAMAKAWA_LAB/ObjectTracking/20221221/1/cam_1/101.jpg', '/content/gdrive/My Drive/YAMAKAWA_LAB/ObjectTracking/20221221/1/cam_1/102.jpg', '/content/gdrive/My Drive/YAMAKAWA_LAB/ObjectTracking/20221221/1/cam_1/103.jpg', '/content/gdrive/My Drive/YAMAKAWA_LAB/ObjectTracking/20221221/1/cam_1/104.jpg', '/content/gdrive/My Drive/YAMAKAWA_LAB/ObjectTracking/20221221/1/cam_1/105.jpg', '/content/gdrive/My Drive/YAMAKAWA_LAB/ObjectTracking/20221221/1/cam_1/106.jpg', '/content/gdrive/My Drive/YAMAKAWA_LAB/ObjectTracking/20221221/1/cam_1/107.jpg', '/content/gdrive/My Drive/YAMAKAWA_LAB/ObjectTracking/20221221/1/cam_1/108.jpg', '/content/gdrive/My Drive/YAMAKAWA_LAB/ObjectTracking/20221221/1/cam_1/109.jpg', '/content/gdrive/My Drive/YAMAKAWA_LAB/ObjectTracking/20221221/1/cam_1/110.jpg']\n",
            "1\n",
            "2\n",
            "3\n",
            "4\n",
            "5\n",
            "6\n",
            "7\n",
            "8\n",
            "9\n",
            "10\n",
            "11\n",
            "12\n",
            "13\n",
            "14\n",
            "15\n",
            "16\n",
            "17\n",
            "18\n",
            "19\n",
            "20\n",
            "21\n",
            "22\n",
            "23\n",
            "24\n",
            "25\n",
            "26\n",
            "27\n",
            "28\n",
            "29\n",
            "30\n",
            "31\n",
            "32\n",
            "33\n",
            "34\n",
            "35\n",
            "36\n",
            "37\n",
            "38\n",
            "39\n",
            "40\n",
            "41\n",
            "42\n",
            "43\n",
            "44\n",
            "45\n",
            "46\n",
            "47\n",
            "48\n",
            "49\n",
            "50\n",
            "51\n",
            "52\n",
            "53\n",
            "54\n",
            "55\n",
            "56\n",
            "57\n",
            "58\n",
            "59\n",
            "60\n",
            "61\n",
            "62\n",
            "63\n",
            "64\n",
            "65\n",
            "66\n",
            "67\n",
            "68\n",
            "69\n",
            "70\n",
            "71\n",
            "72\n",
            "73\n",
            "74\n",
            "75\n",
            "76\n",
            "77\n",
            "78\n",
            "79\n",
            "80\n",
            "81\n",
            "82\n",
            "83\n",
            "84\n",
            "85\n",
            "86\n",
            "87\n",
            "88\n",
            "89\n",
            "90\n",
            "91\n",
            "92\n",
            "93\n",
            "94\n",
            "95\n",
            "96\n",
            "97\n",
            "98\n",
            "99\n",
            "100\n",
            "101\n",
            "102\n",
            "103\n",
            "104\n",
            "105\n",
            "106\n",
            "107\n",
            "108\n",
            "109\n",
            "110\n",
            "Process time for BGS:81.4\n"
          ]
        }
      ]
    },
    {
      "cell_type": "code",
      "source": [
        "print(X)"
      ],
      "metadata": {
        "colab": {
          "base_uri": "https://localhost:8080/"
        },
        "id": "olunXMvSZgyV",
        "outputId": "8bfd0d7f-aa47-4031-a717-097eb61965a7"
      },
      "execution_count": null,
      "outputs": [
        {
          "output_type": "stream",
          "name": "stdout",
          "text": [
            "[None, None, None, None, None, None, None, None, None, None, None, None, None, None, None, None, None, None, None, None, None, None, None, None, None, None, None, None, None, None, None, None, None, None, None, None, None, None, None, None, None, None, None, None, None, None, None, None, None, None, None, None, None, None, None, None, None, None, None, None, None, None, None, None, None, None, None, None, None, None, None, None, None, None, None, None, None, None, None, None, None, None, None, None, None, None, None, None, None, None, None, None, None, None, None, None, None, None, None, None, None, None, None, None, None, None, None, None, None, None]\n"
          ]
        }
      ]
    },
    {
      "cell_type": "code",
      "source": [
        "import matplotlib.pyplot as plt\n",
        "\n",
        "fig,ax = plt.subplots(2,1)\n",
        "\n",
        "ax[0].plot(X)\n",
        "ax[1].plot(Y)\n",
        "plt.show()"
      ],
      "metadata": {
        "colab": {
          "base_uri": "https://localhost:8080/",
          "height": 265
        },
        "id": "cUrJ0RKfYBP0",
        "outputId": "fbf41c04-01d6-4d66-ef44-e05ba9dc6740"
      },
      "execution_count": null,
      "outputs": [
        {
          "output_type": "display_data",
          "data": {
            "text/plain": [
              "<Figure size 432x288 with 2 Axes>"
            ],
            "image/png": "[encoded data removed]"
          },
          "metadata": {
            "needs_background": "light"
          }
        }
      ]
    },
    {
      "cell_type": "code",
      "source": [],
      "metadata": {
        "id": "sGj5nqgBZepP"
      },
      "execution_count": null,
      "outputs": []
    }
  ]
}