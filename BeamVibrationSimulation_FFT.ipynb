{
  "nbformat": 4,
  "nbformat_minor": 0,
  "metadata": {
    "colab": {
      "provenance": [],
      "authorship_tag": "ABX9TyOO85fxCw5GhT/geL6JOdyF",
      "include_colab_link": true
    },
    "kernelspec": {
      "name": "python3",
      "display_name": "Python 3"
    },
    "language_info": {
      "name": "python"
    }
  },
  "cells": [
    {
      "cell_type": "markdown",
      "metadata": {
        "id": "view-in-github",
        "colab_type": "text"
      },
      "source": [
        "<a href=\"https://colab.research.google.com/github/yuki0703-sudo/Research/blob/main/BeamVibrationSimulation_FFT.ipynb\" target=\"_parent\"><img src=\"https://colab.research.google.com/assets/colab-badge.svg\" alt=\"Open In Colab\"/></a>"
      ]
    },
    {
      "cell_type": "markdown",
      "source": [
        "#Import Library"
      ],
      "metadata": {
        "id": "Rx09W1STgIb6"
      }
    },
    {
      "cell_type": "code",
      "execution_count": null,
      "metadata": {
        "id": "JYN9D-1XKwiU"
      },
      "outputs": [],
      "source": [
        "!pip install ita"
      ]
    },
    {
      "cell_type": "code",
      "source": [
        "import numpy as np\n",
        "import matplotlib.pyplot as plt\n",
        "#import ita\n",
        "import sympy as sp"
      ],
      "metadata": {
        "id": "tJHQP52uK3CY"
      },
      "execution_count": null,
      "outputs": []
    },
    {
      "cell_type": "markdown",
      "source": [
        "#Define physical property value"
      ],
      "metadata": {
        "id": "NTkvOpuGgLmr"
      }
    },
    {
      "cell_type": "code",
      "source": [
        "d=1000 #density kg/m^3\n",
        "A=0.06 #area: m^2\n",
        "l=3 #length m\n",
        "P=5.3*10**3 #force for the plate\n",
        "E=2.0*10**9 #Young's coefficient\n",
        "I=5*10**(-5) #Izz:(m^4)\n",
        "m=A*l*d\n",
        "\n",
        "#init condition\n",
        "x=np.arange(0,105)\n",
        "delta_x=l/len(x) #delta_x=0.1 m\n",
        "delta_t=1e-7   #delata_t=1 s\n",
        "time_step =2000  #time_step\n",
        "a=-E*I/(d*A)\n",
        "c=a*delta_t**2/delta_x**4\n",
        "\n",
        "#mathematical model coefficient\n",
        "a=-E*I/(d*A)\n",
        "print(a)\n",
        "print(a*delta_t**2/delta_x**4)\n",
        "c=a*delta_t**2/delta_x**4\n",
        "\n",
        "#eigen frequency\n",
        "freq=[]\n",
        "ramuda = [1.875, 4.694,7.855]\n",
        "for i in ramuda:\n",
        "  f=i**2/(2*np.pi*l**2)*(E*I/d/A)**(1/2)\n",
        "  freq.append(f)\n",
        "print(freq)\n",
        "eigen_freq=1/2/np.pi*(3*E*I/m/l**3)**(1/2)\n",
        "print(eigen_freq)"
      ],
      "metadata": {
        "colab": {
          "base_uri": "https://localhost:8080/"
        },
        "id": "b8InEOONLCZc",
        "outputId": "d759a71d-4bc3-4588-e083-5b011edcea7a"
      },
      "execution_count": null,
      "outputs": [
        {
          "output_type": "stream",
          "name": "stdout",
          "text": [
            "-1666.6666666666667\n",
            "-2.5010416666666667e-05\n",
            "[2.5380755248492064, 15.906995841432567, 44.54452946790657]\n",
            "1.2504393279959807\n"
          ]
        }
      ]
    },
    {
      "cell_type": "markdown",
      "source": [
        "#Beam Deformation Simulation"
      ],
      "metadata": {
        "id": "lWwA5IN_g1NR"
      }
    },
    {
      "cell_type": "code",
      "source": [
        "#initial board shape\n",
        "def shape(x):\n",
        "  return -P/(6*E*I)*(x**3-3*l*x**2)*10**3\n",
        "\n",
        "shape(2)"
      ],
      "metadata": {
        "colab": {
          "base_uri": "https://localhost:8080/"
        },
        "id": "j6ARNk6-MXNN",
        "outputId": "7b81c5d2-1101-4487-cd31-2a082c0f761b"
      },
      "execution_count": null,
      "outputs": [
        {
          "output_type": "execute_result",
          "data": {
            "text/plain": [
              "247.33333333333334"
            ]
          },
          "metadata": {},
          "execution_count": 320
        }
      ]
    },
    {
      "cell_type": "code",
      "source": [
        "#init condition\n",
        "x=np.arange(0,105)\n",
        "delta_x=3/len(x) #delta_x=0.1 m\n",
        "delta_t=1e-7   #delata_t=1 s\n",
        "time_step =2000  #time_step\n",
        "c=a*delta_t**2/delta_x**4\n",
        "y=np.zeros(len(x))\n",
        "#print(y)\n",
        "for i in range(2,len(x)):\n",
        "  y[i]=int(shape(delta_x*i))\n",
        "print(y[len(x)-1])"
      ],
      "metadata": {
        "colab": {
          "base_uri": "https://localhost:8080/"
        },
        "id": "rekXx82IM2SZ",
        "outputId": "9d912c67-b3a3-44b7-e9c7-1565fc27ec08"
      },
      "execution_count": null,
      "outputs": [
        {
          "output_type": "stream",
          "name": "stdout",
          "text": [
            "470.0\n"
          ]
        }
      ]
    },
    {
      "cell_type": "code",
      "source": [
        "##make simultation model: beam vibration\n",
        "def beam_vib(y_2,y_1): #y: displacement,y_1=y[t-1],y_2=y[t-2]:pass displacement\n",
        "  length=len(y_2)\n",
        "  new_y=np.zeros(length)\n",
        "  for i in range(2,length): #for 0,1, displacement is 0 because of boundary condition\n",
        "    if i<= length-3:\n",
        "      new_y[i]=2*y_1[i]-y_2[i]+a*delta_t**2/delta_x**4*(y_1[i+2]-4*y_1[i+1]+6*y_1[i]-4*y_1[i-1]+y_1[i-2])\n",
        "    else:\n",
        "      new_y[i]+=new_y[i-1]+(new_y[i-1]-new_y[i-2])\n",
        "  return new_y\n",
        "\n",
        "new_y=beam_vib(y,y)\n",
        "print(new_y[-1])"
      ],
      "metadata": {
        "colab": {
          "base_uri": "https://localhost:8080/"
        },
        "id": "o3KiXkoDO0fN",
        "outputId": "5b4a2472-2ab3-4168-f13c-e512e7c555ae"
      },
      "execution_count": null,
      "outputs": [
        {
          "output_type": "stream",
          "name": "stdout",
          "text": [
            "470.0000500208333\n"
          ]
        }
      ]
    },
    {
      "cell_type": "code",
      "source": [
        "##prepare for simulation : make an array\n",
        "simulation=np.arange((time_step+2)*len(y)).reshape((time_step+2,len(y))) #+2 : because array includes 2 initial conditions\n",
        "simulation[0]=y\n",
        "simulation[1]=y\n",
        "#print(simulation)"
      ],
      "metadata": {
        "id": "_Ps6t-q5TTMo"
      },
      "execution_count": null,
      "outputs": []
    },
    {
      "cell_type": "code",
      "source": [
        "##simulation\n",
        "for i in range(2,time_step+2):\n",
        "  new_y=beam_vib(simulation[i-2],simulation[i-1])\n",
        "  simulation[i]=new_y\n",
        "\n",
        "#print(simulation.shape)\n",
        "print(simulation[-15:-5 , :])"
      ],
      "metadata": {
        "id": "uKBypHBQT6Tw",
        "colab": {
          "base_uri": "https://localhost:8080/"
        },
        "outputId": "333e1fb3-c2c9-4709-b4b2-8b9bf522d000"
      },
      "execution_count": null,
      "outputs": [
        {
          "output_type": "stream",
          "name": "stdout",
          "text": [
            "[[0 0 0 ... 0 0 0]\n",
            " [0 0 0 ... 0 0 0]\n",
            " [0 0 0 ... 0 0 0]\n",
            " ...\n",
            " [0 0 0 ... 0 0 0]\n",
            " [0 0 0 ... 0 0 0]\n",
            " [0 0 0 ... 0 0 0]]\n"
          ]
        }
      ]
    },
    {
      "cell_type": "code",
      "source": [
        "#端点の軌跡\n",
        "\n",
        "#時間軸の設定\n",
        "time=np.zeros(time_step+2)\n",
        "for i in range(len(time)):\n",
        "  time[i]=delta_t*i\n",
        "\n",
        "plt.plot(time,simulation[:,-1])\n",
        "plt.xlabel(\"Time [sec]\")\n",
        "plt.ylabel(\"displacement [mm]\")\n",
        "plt.title(\"Δt= {}, Δx = {},λΔt^2/Δx^4 ={} \".format(delta_t,round(delta_x,3),round(c,5))) #c: descritization coefficient\n",
        "plt.show()"
      ],
      "metadata": {
        "colab": {
          "base_uri": "https://localhost:8080/",
          "height": 295
        },
        "id": "UW-eLWMOVmgi",
        "outputId": "1423ed1e-8347-43a9-c651-23940c017053"
      },
      "execution_count": null,
      "outputs": [
        {
          "output_type": "display_data",
          "data": {
            "text/plain": [
              "<Figure size 432x288 with 1 Axes>"
            ],
            "image/png": "[encoded data removed]"
          },
          "metadata": {
            "needs_background": "light"
          }
        }
      ]
    },
    {
      "cell_type": "code",
      "source": [
        "x=[0,-0.1,-0.15,-0.2,-0.25,-0.3]\n",
        "y=[241,30, 9,3,0,1000]\n",
        "plt.plot(x,y)\n",
        "plt.xlabel(\"λΔt^2/Δx^4 \")\n",
        "plt.ylabel(\"Amplitude [mm]\")\n",
        "plt.show()"
      ],
      "metadata": {
        "id": "nPxQxfT9W3bK",
        "colab": {
          "base_uri": "https://localhost:8080/",
          "height": 279
        },
        "outputId": "b16e5bab-aa93-4d11-912f-f59cab342dda"
      },
      "execution_count": null,
      "outputs": [
        {
          "output_type": "display_data",
          "data": {
            "text/plain": [
              "<Figure size 432x288 with 1 Axes>"
            ],
            "image/png": "[encoded data removed]"
          },
          "metadata": {
            "needs_background": "light"
          }
        }
      ]
    },
    {
      "cell_type": "code",
      "source": [
        "km=(50000*2*np.pi)**(1/2)*(d*A/E/I)**(-1/4)\n",
        "print(km*l)\n",
        "print(np.cos(km*l))\n",
        "print(np.cosh(km*l))\n",
        "r=1+np.cos(3)*np.cosh(36)\n",
        "print(r)"
      ],
      "metadata": {
        "id": "hN7YdwthaDHp",
        "colab": {
          "base_uri": "https://localhost:8080/"
        },
        "outputId": "09b0ae11-8c4f-4482-a858-89d24880c86f"
      },
      "execution_count": null,
      "outputs": [
        {
          "output_type": "stream",
          "name": "stdout",
          "text": [
            "10743.81146123515\n",
            "0.9066954829899511\n",
            "inf\n",
            "-2134043441375585.2\n"
          ]
        },
        {
          "output_type": "stream",
          "name": "stderr",
          "text": [
            "/usr/local/lib/python3.7/dist-packages/ipykernel_launcher.py:4: RuntimeWarning: overflow encountered in cosh\n",
            "  after removing the cwd from sys.path.\n"
          ]
        }
      ]
    },
    {
      "cell_type": "code",
      "source": [
        "pm=(4.6941**2)/3**2*(E*I/d/A)**(1/2)\n",
        "print(pm)"
      ],
      "metadata": {
        "colab": {
          "base_uri": "https://localhost:8080/"
        },
        "id": "IuRrPmJCcTEK",
        "outputId": "a0484501-e502-4556-ade1-8b6166b70550"
      },
      "execution_count": null,
      "outputs": [
        {
          "output_type": "stream",
          "name": "stdout",
          "text": [
            "99.95086108089555\n"
          ]
        }
      ]
    },
    {
      "cell_type": "code",
      "source": [
        "a=(E*I/d/A)**(1/2)\n",
        "print(a)\n",
        "f=a/2/np.pi\n",
        "print(f)\n"
      ],
      "metadata": {
        "colab": {
          "base_uri": "https://localhost:8080/"
        },
        "id": "9ptXbBz9U-ky",
        "outputId": "cde2db6f-f173-444d-b0e5-19710d7b2cdb"
      },
      "execution_count": null,
      "outputs": [
        {
          "output_type": "stream",
          "name": "stdout",
          "text": [
            "40.824829046386306\n",
            "6.497473343613969\n"
          ]
        }
      ]
    },
    {
      "cell_type": "markdown",
      "source": [
        "#FFT(Fast Fourier Transformation)"
      ],
      "metadata": {
        "id": "Nvv3-ljTgt-Q"
      }
    },
    {
      "cell_type": "code",
      "source": [
        "import numpy as np\n",
        "import matplotlib.pyplot as plt\n",
        "from scipy.fftpack import fft, fftshift\n",
        "\n",
        "#サンプリング周波数 : fs\n",
        "fs=1e7\n",
        "\n",
        "#時間ポイント\n",
        "t=np.arange(0,2.002e-4,1/fs)\n",
        "\n",
        "#信号\n",
        "x=simulation[:,-1]\n",
        "\n",
        "# ------------------------------------------------------\n",
        "# FFTサンプル点数(>1周期の時間ポイント数)\n",
        "N = 200\n",
        "# FFT実行(N点)\n",
        "X = fft(x, N)\n",
        "# 周波数軸の生成\n",
        "# 1[周波数index]あたりの周波数間隔df=fs/N\n",
        "df = fs/N\n",
        "\n",
        "# ------------------------------------------------------\n",
        "# FFTシフト\n",
        "Shifted_X = fftshift(X)\n",
        "# FFTシフト後の[周波数index]生成(//は整数割り)\n",
        "Shifted_sampleIndex = np.arange(-N//2, N//2)\n",
        "# FFTシフト後の[周波数index] --> 周波数間隔dfへ\n",
        "Shifted_f = Shifted_sampleIndex*df\n",
        "\n",
        "# ------------------------------------------------------\n",
        "# プロット(ax[0]:時間波形，ax[1]:周波数波形)\n",
        "fig, ax = plt.subplots(2)\n",
        "ax[0].plot(t, x, \".-\")\n",
        "ax[0].set_xlabel(\"time\"), ax[0].set_ylabel(\"amplitude\")\n",
        "ax[1].stem(Shifted_f, np.abs(Shifted_X)/N, use_line_collection=True)\n",
        "ax[1].set_xlabel(\"frequency\"), ax[1].set_ylabel(\"amplitude\")\n",
        "plt.tight_layout()\n",
        "plt.show()"
      ],
      "metadata": {
        "colab": {
          "base_uri": "https://localhost:8080/",
          "height": 297
        },
        "id": "kSi7cmv1Yrte",
        "outputId": "f9078d08-417d-49aa-d817-db1bc6301644"
      },
      "execution_count": null,
      "outputs": [
        {
          "output_type": "display_data",
          "data": {
            "text/plain": [
              "<Figure size 432x288 with 2 Axes>"
            ],
            "image/png": "[encoded data removed]"
          },
          "metadata": {
            "needs_background": "light"
          }
        }
      ]
    },
    {
      "cell_type": "code",
      "source": [
        "freq=0\n",
        "for i in range(0,len(Shifted_f)):\n",
        "  if np.abs(Shifted_X[i])/N >freq:\n",
        "    freq=Shifted_f[i]\n",
        "print(freq)"
      ],
      "metadata": {
        "colab": {
          "base_uri": "https://localhost:8080/"
        },
        "id": "D6R2C1UdklhX",
        "outputId": "f7e7c50a-d9cf-4880-b8a6-fe17b810e0fc"
      },
      "execution_count": null,
      "outputs": [
        {
          "output_type": "stream",
          "name": "stdout",
          "text": [
            "50000.0\n"
          ]
        }
      ]
    }
  ]
}