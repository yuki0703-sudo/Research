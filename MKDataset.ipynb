{
  "nbformat": 4,
  "nbformat_minor": 0,
  "metadata": {
    "colab": {
      "provenance": [],
      "authorship_tag": "ABX9TyNG+F30VS35vpLDkKnVgW6j",
      "include_colab_link": true
    },
    "kernelspec": {
      "name": "python3",
      "display_name": "Python 3"
    },
    "language_info": {
      "name": "python"
    }
  },
  "cells": [
    {
      "cell_type": "markdown",
      "metadata": {
        "id": "view-in-github",
        "colab_type": "text"
      },
      "source": [
        "<a href=\"https://colab.research.google.com/github/yuki0703-sudo/Research/blob/main/MKDataset.ipynb\" target=\"_parent\"><img src=\"https://colab.research.google.com/assets/colab-badge.svg\" alt=\"Open In Colab\"/></a>"
      ]
    },
    {
      "cell_type": "markdown",
      "source": [
        "#Import libraly"
      ],
      "metadata": {
        "id": "awhJXs6jS5Y_"
      }
    },
    {
      "cell_type": "code",
      "execution_count": null,
      "metadata": {
        "id": "a_12WFxTNeUQ"
      },
      "outputs": [],
      "source": [
        "## single frame analysis: whether there are large spatta?\n",
        "import cv2\n",
        "from IPython import display\n",
        "from matplotlib import pyplot as plt\n",
        "import time\n",
        "from numpy import dtype,uint8\n",
        "import scipy.ndimage as ndimage\n",
        "import glob\n",
        "import pandas as pd"
      ]
    },
    {
      "cell_type": "markdown",
      "source": [
        "#Mounted on gdrive"
      ],
      "metadata": {
        "id": "3ykpr85nTCLE"
      }
    },
    {
      "cell_type": "code",
      "source": [
        "from google.colab import drive\n",
        "drive.mount('/content/gdrive/')"
      ],
      "metadata": {
        "colab": {
          "base_uri": "https://localhost:8080/"
        },
        "id": "Y8IQetfbN7j5",
        "outputId": "06f89567-137c-4790-b440-4ee449b19f39"
      },
      "execution_count": null,
      "outputs": [
        {
          "output_type": "stream",
          "name": "stdout",
          "text": [
            "Mounted at /content/gdrive/\n"
          ]
        }
      ]
    },
    {
      "cell_type": "markdown",
      "source": [
        "#Distuibution of brightness"
      ],
      "metadata": {
        "id": "oTfn48yDTPoe"
      }
    },
    {
      "cell_type": "code",
      "source": [
        "## survey of brightness of the image\n",
        "import numpy as np\n",
        "import matplotlib.pyplot as plt\n",
        "#csvファイルのダウンロード\n",
        "import pandas as pd\n",
        "from PIL import Image\n",
        "import cv2\n",
        "import glob\n",
        "\n",
        "filename=\"/content/gdrive/My Drive/YAMAKAWA_LAB/技術補佐員/動画/20220603/video/xiQ_20220603_1_1_cropped/0300.jpg\"\n",
        "\n",
        "def color_hist(filename):\n",
        "    img = np.asarray(Image.open(filename).convert(\"L\")).reshape(-1,1)\n",
        "    plt.hist(img,bins=50,range=(60,255)) #bin:分割数,range:範囲指定\n",
        "    plt.show()\n",
        "\n",
        "color_hist(filename)"
      ],
      "metadata": {
        "colab": {
          "base_uri": "https://localhost:8080/",
          "height": 265
        },
        "id": "l3yp-8LVN3pg",
        "outputId": "2575fa24-1505-44ff-89fe-d0bb87130e90"
      },
      "execution_count": null,
      "outputs": [
        {
          "output_type": "display_data",
          "data": {
            "text/plain": [
              "<Figure size 432x288 with 1 Axes>"
            ],
            "image/png": "[encoded data removed]"
          },
          "metadata": {
            "needs_background": "light"
          }
        }
      ]
    },
    {
      "cell_type": "markdown",
      "source": [
        "#Define Spatter"
      ],
      "metadata": {
        "id": "Hfio40vvTY38"
      }
    },
    {
      "cell_type": "code",
      "source": [
        "##writing the image number of spatter to CSV file \n",
        "\n",
        "import csv\n",
        "\n",
        "#max : y coordination of max size of spatter \n",
        "max=0\n",
        "\n",
        "src_img_dir=\"/content/gdrive/My Drive/YAMAKAWA_LAB/技術補佐員/動画/20220401/Lateral/220401_ACS1_12-1\"\n",
        "\n",
        "#フォルダに存在するファイルを取得する、0001.jpg~0005.jpg→{}/*.jpg\n",
        "src_files=glob.glob(\"{}/*.jpg\".format(src_img_dir))\n",
        "src_files.sort()\n",
        "\n",
        "#出力ファイル名\n",
        "filename='/content/gdrive/My Drive/YAMAKAWA_LAB/技術補佐員/動画/20220401/spatter_12-1.csv'\n",
        "\n",
        "#ファイルを作成\n",
        "with open(filename,\"w\") as f:\n",
        "  writer = csv.writer(f)\n",
        "  writer.writerow(\"Path\")\n",
        "\n",
        "for i,file in enumerate(src_files): #index,components=enumerate(file)\n",
        "  #print(i)\n",
        "  # 画像を読み込む。\n",
        "  img=cv2.imread(file)\n",
        "  img=np.array(img,dtype=uint8)\n",
        "\n",
        "  # グレースケールに変換する。\n",
        "  gray = cv2.cvtColor(img, cv2.COLOR_BGR2GRAY)\n",
        "\n",
        "  # 2値化する\n",
        "  ret, bin_img = cv2.threshold(gray, 225, 255, cv2.THRESH_BINARY)\n",
        "\n",
        "  # 輪郭を抽出する。\n",
        "  contours, hierarchy = cv2.findContours(np.array(bin_img,dtype=uint8), cv2.RETR_EXTERNAL, cv2.CHAIN_APPROX_SIMPLE)\n",
        "\n",
        "  #スパッタの数を数えるパラメータ\n",
        "  count_spatter=0\n",
        "\n",
        "  for c in contours:\n",
        "\n",
        "    #面積(px*px)\n",
        "    area = cv2.contourArea(c)\n",
        "    #Areas.append(area)\n",
        "\n",
        "    #マーカー位置計算\n",
        "    if area >=600 and area <1100:\n",
        "      mu=cv2.moments(c)\n",
        "      x=int(mu[\"m10\"]/mu[\"m00\"])\n",
        "      y=int(mu[\"m01\"]/mu[\"m00\"])\n",
        "      #spatter.append([area,y])\n",
        "\n",
        "      if (y >= 810 and y<860) and (x >= 550 and x <= 750): #レーザによる光の影響を無視するため\n",
        "        with open(filename,\"a\",newline='') as f:\n",
        "          writer = csv.writer(f)\n",
        "          #writer.writerow([\"/content/gdrive/My Drive/YAMAKAWA_LAB/技術補佐員/動画/20220401/Lateral/220401_ACS1_12-2/{}.jpg\".format(i),1])\n",
        "          writer.writerow([i])\n",
        "      \n",
        "\n",
        "  \n",
        "#print(\"frequency from reading to writing =\",1/(s/len(src_files))) #周波数 #円形度あり：68.25Hz,円形度なし:81.2Hz\n",
        "#print(accuracy,len(src_files))"
      ],
      "metadata": {
        "id": "SWbQCTZ4NuNF"
      },
      "execution_count": null,
      "outputs": []
    },
    {
      "cell_type": "code",
      "source": [
        "import pandas as pd\n",
        "file1=pd.read_csv(filepath_or_buffer=\"/content/gdrive/My Drive/YAMAKAWA_LAB/技術補佐員/動画/20220401/spatter_10-１.csv\")\n",
        "value1=file1.values\n",
        "print(value1.shape)\n",
        "print(value1[:10,:])"
      ],
      "metadata": {
        "id": "l8czHkkoZhR3"
      },
      "execution_count": null,
      "outputs": []
    },
    {
      "cell_type": "code",
      "source": [
        "## Making dataset if spatter is or not"
      ],
      "metadata": {
        "id": "-77NBRYoOFza"
      },
      "execution_count": null,
      "outputs": []
    },
    {
      "cell_type": "code",
      "source": [
        "##Captrure the number of frames of Lateral video and above video : calculating transformation coefficients(c) from lateral to above\n",
        "\n",
        "import cv2\n",
        "#/////////////////change here ////////\n",
        "movie_lateral= \"/content/gdrive/My Drive/YAMAKAWA_LAB/技術補佐員/動画/20220401/Lateral/220401_ACS1_12-2.avi\"\n",
        "movie_above=\"/content/gdrive/My Drive/YAMAKAWA_LAB/技術補佐員/動画/20220401/video/220401_xiQ_12-2.avi\"\n",
        "#////////////////////////////////////\n",
        "\n",
        "cap_lateral = cv2.VideoCapture(movie_lateral)\n",
        "cap_above = cv2.VideoCapture(movie_above)\n",
        "# 総フレーム数\n",
        "num_frame_lateral = cap_lateral.get(cv2.CAP_PROP_FRAME_COUNT)\n",
        "num_frame_above = cap_above.get(cv2.CAP_PROP_FRAME_COUNT)\n",
        "#フレーム番号の調整係数:c\n",
        "c = num_frame_above/num_frame_lateral\n",
        "\n",
        "print(num_frame_lateral)\n",
        "print(num_frame_above)\n",
        "print(c)"
      ],
      "metadata": {
        "id": "voF5V6D4OGpU"
      },
      "execution_count": null,
      "outputs": []
    },
    {
      "cell_type": "code",
      "source": [
        "#スパッタ発生時の上部画像番号を取得\n",
        "import pandas as pd\n",
        "\n",
        "#///////// Changge here /////////////\n",
        "file=pd.read_csv(filepath_or_buffer=\"/content/gdrive/My Drive/YAMAKAWA_LAB/技術補佐員/動画/20220603/spatter_1-1.csv\")\n",
        "#/////////////////////////////////////\n",
        "\n",
        "value=file.values\n",
        "print(value.shape)\n",
        "print(value[:5,0]) #横から見た画像のiが表示される\n",
        "value = value[:,0]\n",
        "print(value.shape)\n",
        "\n",
        "#num_spatter : the number of frame with spatter\n",
        "num_spatter=[]\n",
        "for i in range(len(value)):\n",
        "  n = int(c*value[i])\n",
        "  if n not in num_spatter:\n",
        "    num_spatter.append(n)\n",
        "print(len(num_spatter))"
      ],
      "metadata": {
        "id": "a4O5N4JGOMVY"
      },
      "execution_count": null,
      "outputs": []
    },
    {
      "cell_type": "markdown",
      "source": [
        "#Make dataset"
      ],
      "metadata": {
        "id": "UzgWf6UrTcmf"
      }
    },
    {
      "cell_type": "markdown",
      "source": [
        "#20220603"
      ],
      "metadata": {
        "id": "b_IIRFY_V2qu"
      }
    },
    {
      "cell_type": "code",
      "source": [
        "#judged by ML\n",
        "num_sputter_1_1 = []\n",
        "num_sputter_1_2 = [206]\n",
        "num_sputter_2_1 = [418, 800]\n",
        "num_sputter_2_2 = []\n",
        "num_sputter_3_1 = []\n",
        "num_sputter_3_2 = [244]\n",
        "num_sputter_4_1 = [372]\n",
        "num_sputter_4_2 = []\n",
        "num_sputter_5_1 = [149, 232, 551]\n",
        "num_sputter_5_2 = [707]\n",
        "num_sputter_6_1 = [691, 766, 1081, 1095, 1100, 1406]\n",
        "num_sputter_6_2 = [275, 409, 596, 720, 724, 767, 884, 888, 1015, 1624]\n",
        "num_sputter_7_1 = []\n",
        "num_sputter_7_2 = []\n",
        "num_sputter_8_1 = []\n",
        "num_sputter_8_2 = [99, 685, 689, 825]\n",
        "num_sputter_9_1 = [486,1297,1531]\n",
        "num_sputter_9_2 = [300, 310, 331, 334, 367, 370, 375, 482, 611, 616, 620, 627, 632, 928, 945, 1005, 1261]\n",
        "num_sputter_10_1 = [273, 294, 304]\n",
        "num_sputter_10_2 = [149]\n",
        "num_sputter_11_1 = [428, 925, 953, 959]\n",
        "num_sputter_11_2 = [359,386, 388, 423, 530, 54, 697, 891]\n",
        "num_sputter_12_1 = [203, 481, 487, 490, 865, 878, 885, 890]\n",
        "num_sputter_12_2 = [357, 363, 520, 542, 548, 558, 1251, 1670, 1680, 1690, 1695, 1699, 1786, 1789, 1791, 1793]\n",
        "spatter = [[],[206],[418,800],[],[],[244],[372],[],[149, 232, 551],[707],[691, 766, 1081, 1095, 1100, 1406],\n",
        "           [275, 409, 596, 720, 724, 767, 884, 888, 1015, 1624],[],[],[],[99, 685, 689, 825],[486,1297,1531],\n",
        "           [300, 310, 331, 334, 367, 370, 375, 482, 611, 616, 620, 627, 632, 928, 945, 1005, 1261],[273, 294, 304],\n",
        "           [149],[428, 925, 953, 959],[359,386, 388, 423, 530, 54, 697, 891],[203, 481, 487, 490, 865, 878, 885, 890],\n",
        "           [357, 363, 520, 542, 548, 558, 1251, 1670, 1680, 1690, 1695, 1699, 1786, 1789, 1791, 1793]]\n",
        "print(len(spatter))"
      ],
      "metadata": {
        "id": "25GekdPzmdCe",
        "colab": {
          "base_uri": "https://localhost:8080/"
        },
        "outputId": "f57737c8-913e-41fc-f885-da3e5e8c17a6"
      },
      "execution_count": null,
      "outputs": [
        {
          "output_type": "stream",
          "name": "stdout",
          "text": [
            "24\n"
          ]
        }
      ]
    },
    {
      "cell_type": "markdown",
      "source": [
        "## 20220401 spatter data"
      ],
      "metadata": {
        "id": "CrokkZCa3d9x"
      }
    },
    {
      "cell_type": "code",
      "source": [
        "n_spatter_1_1 = [127 ,157 ,198]\n",
        "n_spatter_1_2 = []\n"
      ],
      "metadata": {
        "id": "fqDOyOXX3gcq"
      },
      "execution_count": null,
      "outputs": []
    },
    {
      "cell_type": "code",
      "source": [
        "a = np.asarray([])\n",
        "print(a)"
      ],
      "metadata": {
        "colab": {
          "base_uri": "https://localhost:8080/"
        },
        "id": "J-urvNPhGgqj",
        "outputId": "6fc09e21-2b11-40fb-93e9-7be698afbc71"
      },
      "execution_count": null,
      "outputs": [
        {
          "output_type": "stream",
          "name": "stdout",
          "text": [
            "[]\n"
          ]
        }
      ]
    },
    {
      "cell_type": "markdown",
      "source": [
        "## 20220401"
      ],
      "metadata": {
        "id": "nwFfJqwJV48H"
      }
    },
    {
      "cell_type": "code",
      "source": [
        "import numpy as np\n",
        "\n",
        "spatter_data_1_1 = np.loadtxt('/content/gdrive/My Drive/YAMAKAWA_LAB/技術補佐員/動画/20220401/video/220401_xiQ_{}-{}_spatter.txt'.format(1,1), delimiter=' ', dtype='int').tolist()\n",
        "spatter_data_1_2 = np.loadtxt('/content/gdrive/My Drive/YAMAKAWA_LAB/技術補佐員/動画/20220401/video/220401_xiQ_{}-{}_spatter.txt'.format(1,2), delimiter=' ', dtype='int').tolist()\n",
        "spatter_data_2_1 = np.loadtxt('/content/gdrive/My Drive/YAMAKAWA_LAB/技術補佐員/動画/20220401/video/220401_xiQ_{}-{}_spatter.txt'.format(2,1), delimiter=' ', dtype='int').tolist()\n",
        "spatter_data_2_2 = np.loadtxt('/content/gdrive/My Drive/YAMAKAWA_LAB/技術補佐員/動画/20220401/video/220401_xiQ_{}-{}_spatter.txt'.format(2,2), delimiter=' ', dtype='int').tolist()\n",
        "spatter_data_3_1 = np.loadtxt('/content/gdrive/My Drive/YAMAKAWA_LAB/技術補佐員/動画/20220401/video/220401_xiQ_{}-{}_spatter.txt'.format(3,1), delimiter=' ', dtype='int').tolist()\n",
        "spatter_data_3_2 = np.loadtxt('/content/gdrive/My Drive/YAMAKAWA_LAB/技術補佐員/動画/20220401/video/220401_xiQ_{}-{}_spatter.txt'.format(3,3), delimiter=' ', dtype='int').tolist()\n",
        "spatter_data_4_1 = np.loadtxt('/content/gdrive/My Drive/YAMAKAWA_LAB/技術補佐員/動画/20220401/video/220401_xiQ_{}-{}_spatter.txt'.format(4,2), delimiter=' ', dtype='int').tolist()\n",
        "spatter_data_4_2 = np.loadtxt('/content/gdrive/My Drive/YAMAKAWA_LAB/技術補佐員/動画/20220401/video/220401_xiQ_{}-{}_spatter.txt'.format(4,3), delimiter=' ', dtype='int').tolist()\n",
        "spatter_data_5_1 = np.loadtxt('/content/gdrive/My Drive/YAMAKAWA_LAB/技術補佐員/動画/20220401/video/220401_xiQ_{}-{}_spatter.txt'.format(5,3), delimiter=' ', dtype='int').tolist()\n",
        "spatter_data_5_2 = np.loadtxt('/content/gdrive/My Drive/YAMAKAWA_LAB/技術補佐員/動画/20220401/video/220401_xiQ_{}-{}_spatter.txt'.format(5,4), delimiter=' ', dtype='int').tolist()\n",
        "spatter_data_6_1 = np.loadtxt('/content/gdrive/My Drive/YAMAKAWA_LAB/技術補佐員/動画/20220401/video/220401_xiQ_{}-{}_spatter.txt'.format(6,2), delimiter=' ', dtype='int').tolist()\n",
        "spatter_data_6_2 = np.loadtxt('/content/gdrive/My Drive/YAMAKAWA_LAB/技術補佐員/動画/20220401/video/220401_xiQ_{}-{}_spatter.txt'.format(6,3), delimiter=' ', dtype='int').tolist()\n",
        "spatter_data_7_1 = np.loadtxt('/content/gdrive/My Drive/YAMAKAWA_LAB/技術補佐員/動画/20220401/video/220401_xiQ_{}-{}_spatter.txt'.format(7,1), delimiter=' ', dtype='int').tolist()\n",
        "spatter_data_7_2 = np.loadtxt('/content/gdrive/My Drive/YAMAKAWA_LAB/技術補佐員/動画/20220401/video/220401_xiQ_{}-{}_spatter.txt'.format(7,2), delimiter=' ', dtype='int').tolist()\n",
        "spatter_data_8_1 = np.loadtxt('/content/gdrive/My Drive/YAMAKAWA_LAB/技術補佐員/動画/20220401/video/220401_xiQ_{}-{}_spatter.txt'.format(8,1), delimiter=' ', dtype='int').tolist()\n",
        "spatter_data_8_2 = np.loadtxt('/content/gdrive/My Drive/YAMAKAWA_LAB/技術補佐員/動画/20220401/video/220401_xiQ_{}-{}_spatter.txt'.format(8,2), delimiter=' ', dtype='int').tolist()\n",
        "spatter_data_9_1 = np.loadtxt('/content/gdrive/My Drive/YAMAKAWA_LAB/技術補佐員/動画/20220401/video/220401_xiQ_{}-{}_spatter.txt'.format(9,1), delimiter=' ', dtype='int').tolist()\n",
        "spatter_data_9_2 = np.loadtxt('/content/gdrive/My Drive/YAMAKAWA_LAB/技術補佐員/動画/20220401/video/220401_xiQ_{}-{}_spatter.txt'.format(9,2), delimiter=' ', dtype='int').tolist()\n",
        "spatter_data_10_1 = np.loadtxt('/content/gdrive/My Drive/YAMAKAWA_LAB/技術補佐員/動画/20220401/video/220401_xiQ_{}-{}_spatter.txt'.format(10,1), delimiter=' ', dtype='int').tolist()\n",
        "spatter_data_10_2 = np.loadtxt('/content/gdrive/My Drive/YAMAKAWA_LAB/技術補佐員/動画/20220401/video/220401_xiQ_{}-{}_spatter.txt'.format(10,2), delimiter=' ', dtype='int').tolist()\n",
        "spatter_data_11_1 = np.loadtxt('/content/gdrive/My Drive/YAMAKAWA_LAB/技術補佐員/動画/20220401/video/220401_xiQ_{}-{}_spatter.txt'.format(11,1), delimiter=' ', dtype='int').tolist()\n",
        "spatter_data_11_2 = np.loadtxt('/content/gdrive/My Drive/YAMAKAWA_LAB/技術補佐員/動画/20220401/video/220401_xiQ_{}-{}_spatter.txt'.format(11,2), delimiter=' ', dtype='int').tolist()\n",
        "spatter_data_12_1 = np.loadtxt('/content/gdrive/My Drive/YAMAKAWA_LAB/技術補佐員/動画/20220401/video/220401_xiQ_{}-{}_spatter.txt'.format(12,1), delimiter=' ', dtype='int').tolist()\n",
        "spatter_data_12_2 = np.loadtxt('/content/gdrive/My Drive/YAMAKAWA_LAB/技術補佐員/動画/20220401/video/220401_xiQ_{}-{}_spatter.txt'.format(12,2), delimiter=' ', dtype='int').tolist()\n",
        "\n",
        "print(\"spatter12_2 :\", type(spatter_data_12_2))"
      ],
      "metadata": {
        "colab": {
          "base_uri": "https://localhost:8080/"
        },
        "id": "STR84WT35Q5z",
        "outputId": "74b03c7a-fe71-4292-d6f2-7ba63c113135"
      },
      "execution_count": null,
      "outputs": [
        {
          "output_type": "stream",
          "name": "stdout",
          "text": [
            "spatter12_2 : <class 'list'>\n"
          ]
        }
      ]
    },
    {
      "cell_type": "code",
      "source": [
        "spatter = np.zeros(13,2,30)\n",
        "spatter[]"
      ],
      "metadata": {
        "id": "opK2-txsSjcw"
      },
      "execution_count": null,
      "outputs": []
    },
    {
      "cell_type": "markdown",
      "source": [
        "## Make Time-series dataset"
      ],
      "metadata": {
        "id": "L-C05cgpFYle"
      }
    },
    {
      "cell_type": "code",
      "source": [
        "## make dataset for sequential model\n",
        "## For making dataset : simple dataset\n",
        "\n",
        "import csv\n",
        "import glob\n",
        "\n",
        "## train data or test data   //////       INput is needed    /////////////\n",
        "\n",
        "#src_img_dir=\"/content/gdrive/My Drive/YAMAKAWA_LAB/技術補佐員/動画/20220603/video/xiQ_20220603_1_1_cropped\"\n",
        "#src = glob.glob(\"{}/*.jpg\".format(src_img_dir))\n",
        "#src_files.sort()\n",
        "#print(len(src_files))\n",
        "#making file for if there is a large spatters, signal=1, else: signal=0\n",
        "#//// chagen here ///\n",
        "filename=\"/content/gdrive/My Drive/YAMAKAWA_LAB/技術補佐員/NN/dataset/20220603/cropped_image/MLjudge/ts_train_18input_9advance_3.csv\"\n",
        "filename_test=\"/content/gdrive/My Drive/YAMAKAWA_LAB/技術補佐員/NN/dataset/20220603/cropped_image/MLjudge/ts_test_18input_9advance_3.csv\"\n",
        "#///////////////////\n",
        "\n",
        "with open(filename,\"w\") as f:\n",
        "  writer = csv.writer(f)\n",
        "  writer.writerow([\"Spatter\",\"Path(t)\",\"Path(t-1)\",\"Path(t-2)\",\"Path(t-3)\",\"Path(t-4)\",\"Path(t-5)\",\"Path(t-6)\",\"Path(t-7)\",\"Path(t-8)\",\"Path(t-9)\",\"Path(t-10)\",\"Path(t-11)\",\"Path(t-12)\",\"Path(t-13)\",\"Path(t-14)\",\"Path(t-15)\",\"Path(t-16)\",\"Path(t-17)\"])\n",
        "\n",
        "with open(filename_test,\"w\") as f:\n",
        "  writer = csv.writer(f)\n",
        "  writer.writerow([\"Spatter\",\"Path(t)\",\"Path(t-1)\",\"Path(t-2)\",\"Path(t-3)\",\"Path(t-4)\",\"Path(t-5)\",\"Path(t-6)\",\"Path(t-7)\",\"Path(t-8)\",\"Path(t-9)\",\"Path(t-10)\",\"Path(t-11)\",\"Path(t-12)\",\"Path(t-13)\",\"Path(t-14)\",\"Path(t-15)\",\"Path(t-16)\",\"Path(t-17)\"])\n"
      ],
      "metadata": {
        "id": "rxWLpYqA6ETP"
      },
      "execution_count": null,
      "outputs": []
    },
    {
      "cell_type": "markdown",
      "source": [
        "##20220401"
      ],
      "metadata": {
        "id": "X828A5IJSPfe"
      }
    },
    {
      "cell_type": "code",
      "source": [
        "spatter = [[[],[]],\n",
        "             [spatter_data_1_1,[spatter_data_1_2]],\n",
        "             [spatter_data_2_1,spatter_data_2_2],\n",
        "             [spatter_data_3_1,spatter_data_3_2],\n",
        "             [spatter_data_4_1,spatter_data_4_2],\n",
        "             [spatter_data_5_1,spatter_data_5_2],\n",
        "             [spatter_data_6_1,spatter_data_6_2],\n",
        "             [spatter_data_7_1,spatter_data_7_2],\n",
        "             [spatter_data_8_1,spatter_data_8_2],\n",
        "             [spatter_data_9_1,spatter_data_9_2],\n",
        "             [spatter_data_10_1,spatter_data_10_2],\n",
        "             [spatter_data_11_1,spatter_data_11_2],\n",
        "             [spatter_data_12_1,spatter_data_12_2]]\n",
        "print(len(spatter_data_12_1))\n",
        "print(len(spatter_data_9_1))"
      ],
      "metadata": {
        "colab": {
          "base_uri": "https://localhost:8080/"
        },
        "id": "7QIA1oWqW8oS",
        "outputId": "be05b3f1-2911-402b-e421-5ee86df39bdb"
      },
      "execution_count": null,
      "outputs": [
        {
          "output_type": "stream",
          "name": "stdout",
          "text": [
            "45\n",
            "27\n"
          ]
        }
      ]
    },
    {
      "cell_type": "code",
      "source": [],
      "metadata": {
        "id": "U8iPjFHTzgqB"
      },
      "execution_count": null,
      "outputs": []
    },
    {
      "cell_type": "code",
      "source": [
        "import numpy as np\n",
        "\n",
        "spatter_data_1_1 = np.loadtxt('/content/gdrive/My Drive/YAMAKAWA_LAB/技術補佐員/動画/20220401/video/220401_xiQ_{}-{}_spatter.txt'.format(1,1), delimiter=' ', dtype='int').tolist()\n",
        "spatter_data_1_2 = np.loadtxt('/content/gdrive/My Drive/YAMAKAWA_LAB/技術補佐員/動画/20220401/video/220401_xiQ_{}-{}_spatter.txt'.format(1,2), delimiter=' ', dtype='int').tolist()\n",
        "spatter_data_2_1 = np.loadtxt('/content/gdrive/My Drive/YAMAKAWA_LAB/技術補佐員/動画/20220401/video/220401_xiQ_{}-{}_spatter.txt'.format(2,1), delimiter=' ', dtype='int').tolist()\n",
        "spatter_data_2_2 = np.loadtxt('/content/gdrive/My Drive/YAMAKAWA_LAB/技術補佐員/動画/20220401/video/220401_xiQ_{}-{}_spatter.txt'.format(2,2), delimiter=' ', dtype='int').tolist()\n",
        "spatter_data_3_1 = np.loadtxt('/content/gdrive/My Drive/YAMAKAWA_LAB/技術補佐員/動画/20220401/video/220401_xiQ_{}-{}_spatter.txt'.format(3,1), delimiter=' ', dtype='int').tolist()\n",
        "spatter_data_3_2 = np.loadtxt('/content/gdrive/My Drive/YAMAKAWA_LAB/技術補佐員/動画/20220401/video/220401_xiQ_{}-{}_spatter.txt'.format(3,3), delimiter=' ', dtype='int').tolist()\n",
        "spatter_data_4_1 = np.loadtxt('/content/gdrive/My Drive/YAMAKAWA_LAB/技術補佐員/動画/20220401/video/220401_xiQ_{}-{}_spatter.txt'.format(4,2), delimiter=' ', dtype='int').tolist()\n",
        "spatter_data_4_2 = np.loadtxt('/content/gdrive/My Drive/YAMAKAWA_LAB/技術補佐員/動画/20220401/video/220401_xiQ_{}-{}_spatter.txt'.format(4,3), delimiter=' ', dtype='int').tolist()\n",
        "spatter_data_5_1 = np.loadtxt('/content/gdrive/My Drive/YAMAKAWA_LAB/技術補佐員/動画/20220401/video/220401_xiQ_{}-{}_spatter.txt'.format(5,3), delimiter=' ', dtype='int').tolist()\n",
        "spatter_data_5_2 = np.loadtxt('/content/gdrive/My Drive/YAMAKAWA_LAB/技術補佐員/動画/20220401/video/220401_xiQ_{}-{}_spatter.txt'.format(5,4), delimiter=' ', dtype='int').tolist()\n",
        "spatter_data_6_1 = np.loadtxt('/content/gdrive/My Drive/YAMAKAWA_LAB/技術補佐員/動画/20220401/video/220401_xiQ_{}-{}_spatter.txt'.format(6,2), delimiter=' ', dtype='int').tolist()\n",
        "spatter_data_6_2 = np.loadtxt('/content/gdrive/My Drive/YAMAKAWA_LAB/技術補佐員/動画/20220401/video/220401_xiQ_{}-{}_spatter.txt'.format(6,3), delimiter=' ', dtype='int').tolist()\n",
        "spatter_data_7_1 = np.loadtxt('/content/gdrive/My Drive/YAMAKAWA_LAB/技術補佐員/動画/20220401/video/220401_xiQ_{}-{}_spatter.txt'.format(7,1), delimiter=' ', dtype='int').tolist()\n",
        "spatter_data_7_2 = np.loadtxt('/content/gdrive/My Drive/YAMAKAWA_LAB/技術補佐員/動画/20220401/video/220401_xiQ_{}-{}_spatter.txt'.format(7,2), delimiter=' ', dtype='int').tolist()\n",
        "spatter_data_8_1 = np.loadtxt('/content/gdrive/My Drive/YAMAKAWA_LAB/技術補佐員/動画/20220401/video/220401_xiQ_{}-{}_spatter.txt'.format(8,1), delimiter=' ', dtype='int').tolist()\n",
        "spatter_data_8_2 = np.loadtxt('/content/gdrive/My Drive/YAMAKAWA_LAB/技術補佐員/動画/20220401/video/220401_xiQ_{}-{}_spatter.txt'.format(8,2), delimiter=' ', dtype='int').tolist()\n",
        "spatter_data_9_1 = np.loadtxt('/content/gdrive/My Drive/YAMAKAWA_LAB/技術補佐員/動画/20220401/video/220401_xiQ_{}-{}_spatter.txt'.format(9,1), delimiter=' ', dtype='int').tolist()\n",
        "spatter_data_9_2 = np.loadtxt('/content/gdrive/My Drive/YAMAKAWA_LAB/技術補佐員/動画/20220401/video/220401_xiQ_{}-{}_spatter.txt'.format(9,2), delimiter=' ', dtype='int').tolist()\n",
        "spatter_data_10_1 = np.loadtxt('/content/gdrive/My Drive/YAMAKAWA_LAB/技術補佐員/動画/20220401/video/220401_xiQ_{}-{}_spatter.txt'.format(10,1), delimiter=' ', dtype='int').tolist()\n",
        "spatter_data_10_2 = np.loadtxt('/content/gdrive/My Drive/YAMAKAWA_LAB/技術補佐員/動画/20220401/video/220401_xiQ_{}-{}_spatter.txt'.format(10,2), delimiter=' ', dtype='int').tolist()\n",
        "spatter_data_11_1 = np.loadtxt('/content/gdrive/My Drive/YAMAKAWA_LAB/技術補佐員/動画/20220401/video/220401_xiQ_{}-{}_spatter.txt'.format(11,1), delimiter=' ', dtype='int').tolist()\n",
        "spatter_data_11_2 = np.loadtxt('/content/gdrive/My Drive/YAMAKAWA_LAB/技術補佐員/動画/20220401/video/220401_xiQ_{}-{}_spatter.txt'.format(11,2), delimiter=' ', dtype='int').tolist()\n",
        "spatter_data_12_1 = np.loadtxt('/content/gdrive/My Drive/YAMAKAWA_LAB/技術補佐員/動画/20220401/video/220401_xiQ_{}-{}_spatter.txt'.format(12,1), delimiter=' ', dtype='int').tolist()\n",
        "spatter_data_12_2 = np.loadtxt('/content/gdrive/My Drive/YAMAKAWA_LAB/技術補佐員/動画/20220401/video/220401_xiQ_{}-{}_spatter.txt'.format(12,2), delimiter=' ', dtype='int').tolist()\n",
        "\n",
        "print(\"spatter12_2 :\", type(spatter_data_12_2))\n",
        "\n",
        "# adjust the number of no spatter below 51\n",
        "def make_ts_dataset_0401(filename ,div, sec):\n",
        "  #フォルダに存在するファイルを取得する、0001.jpg~0005.jpg→{}/*.jpg\n",
        "  spatter = [[[],[]],\n",
        "             [spatter_data_1_1,[spatter_data_1_2]],\n",
        "             [spatter_data_2_1,spatter_data_2_2],\n",
        "             [spatter_data_3_1,spatter_data_3_2],\n",
        "             [spatter_data_4_1,spatter_data_4_2],\n",
        "             [spatter_data_5_1,spatter_data_5_2],\n",
        "             [spatter_data_6_1,spatter_data_6_2],\n",
        "             [spatter_data_7_1,spatter_data_7_2],\n",
        "             [spatter_data_8_1,spatter_data_8_2],\n",
        "             [spatter_data_9_1,spatter_data_9_2],\n",
        "             [spatter_data_10_1,spatter_data_10_2],\n",
        "             [spatter_data_11_1,spatter_data_11_2],\n",
        "             [spatter_data_12_1,spatter_data_12_2]]\n",
        "  \n",
        "  spatter = np.asarray(spatter)\n",
        "  count = 0\n",
        "  for i in range(2200):\n",
        "    if i in spatter[div][sec-1] and (i>36): #スパッタ発生時\n",
        "      with open(filename,\"a\",newline='') as f:\n",
        "        writer = csv.writer(f)\n",
        "      #///// change here ////////\n",
        "        writer.writerow([1,\n",
        "                       \"/content/gdrive/My Drive/YAMAKAWA_LAB/技術補佐員/動画/20220401/{}_{}_cropped/{:0>4}.jpg\".format(div,sec,i-9),\n",
        "                       \"/content/gdrive/My Drive/YAMAKAWA_LAB/技術補佐員/動画/20220401/{}_{}_cropped/{:0>4}.jpg\".format(div,sec,i-10),\n",
        "                       \"/content/gdrive/My Drive/YAMAKAWA_LAB/技術補佐員/動画/20220401/{}_{}_cropped/{:0>4}.jpg\".format(div,sec,i-11),\n",
        "                       \"/content/gdrive/My Drive/YAMAKAWA_LAB/技術補佐員/動画/20220401/{}_{}_cropped/{:0>4}.jpg\".format(div,sec,i-12),\n",
        "                       \"/content/gdrive/My Drive/YAMAKAWA_LAB/技術補佐員/動画/20220401/{}_{}_cropped/{:0>4}.jpg\".format(div,sec,i-13),\n",
        "                       \"/content/gdrive/My Drive/YAMAKAWA_LAB/技術補佐員/動画/20220401/{}_{}_cropped/{:0>4}.jpg\".format(div,sec,i-14),\n",
        "                       \"/content/gdrive/My Drive/YAMAKAWA_LAB/技術補佐員/動画/20220401/{}_{}_cropped/{:0>4}.jpg\".format(div,sec,i-15),\n",
        "                       \"/content/gdrive/My Drive/YAMAKAWA_LAB/技術補佐員/動画/20220401/{}_{}_cropped/{:0>4}.jpg\".format(div,sec,i-16),\n",
        "                       \"/content/gdrive/My Drive/YAMAKAWA_LAB/技術補佐員/動画/20220401/{}_{}_cropped/{:0>4}.jpg\".format(div,sec,i-17),\n",
        "                      \"/content/gdrive/My Drive/YAMAKAWA_LAB/技術補佐員/動画/20220401/{}_{}_cropped/{:0>4}.jpg\".format(div,sec,i-18),\n",
        "                       \"/content/gdrive/My Drive/YAMAKAWA_LAB/技術補佐員/動画/20220401/{}_{}_cropped/{:0>4}.jpg\".format(div,sec,i-19),\n",
        "                      \"/content/gdrive/My Drive/YAMAKAWA_LAB/技術補佐員/動画/20220401/{}_{}_cropped/{:0>4}.jpg\".format(div,sec,i-20),\n",
        "                      \"/content/gdrive/My Drive/YAMAKAWA_LAB/技術補佐員/動画/20220401/{}_{}_cropped/{:0>4}.jpg\".format(div,sec,i-21),\n",
        "                      \"/content/gdrive/My Drive/YAMAKAWA_LAB/技術補佐員/動画/20220401/{}_{}_cropped/{:0>4}.jpg\".format(div,sec,i-22),\n",
        "                      \"/content/gdrive/My Drive/YAMAKAWA_LAB/技術補佐員/動画/20220401/{}_{}_cropped/{:0>4}.jpg\".format(div,sec,i-23),\n",
        "                      \"/content/gdrive/My Drive/YAMAKAWA_LAB/技術補佐員/動画/20220401/{}_{}_cropped/{:0>4}.jpg\".format(div,sec,i-24),\n",
        "                      \"/content/gdrive/My Drive/YAMAKAWA_LAB/技術補佐員/動画/20220401/{}_{}_cropped/{:0>4}.jpg\".format(div,sec,i-25),\n",
        "                      \"/content/gdrive/My Drive/YAMAKAWA_LAB/技術補佐員/動画/20220401/{}_{}_cropped/{:0>4}.jpg\".format(div,sec,i-26)])\n",
        "      #/////////////////////////\n",
        "\n",
        "    else: #スパッタ発生時ではない\n",
        "      if 5*i+1>100 :\n",
        "        if 5*i in spatter[div][sec-1] and (5*i>36):\n",
        "          continue\n",
        "        else:\n",
        "          if count < 60:\n",
        "            with open(filename,\"a\",newline='') as f:\n",
        "              writer = csv.writer(f)\n",
        "        #////// change here ///////\n",
        "              writer.writerow([0,\n",
        "                       \"/content/gdrive/My Drive/YAMAKAWA_LAB/技術補佐員/動画/20220401/{}_{}_cropped/{:0>4}.jpg\".format(div,sec,5*i-9),\n",
        "                       \"/content/gdrive/My Drive/YAMAKAWA_LAB/技術補佐員/動画/20220401/{}_{}_cropped/{:0>4}.jpg\".format(div,sec,5*i-10),\n",
        "                       \"/content/gdrive/My Drive/YAMAKAWA_LAB/技術補佐員/動画/20220401/{}_{}_cropped/{:0>4}.jpg\".format(div,sec,5*i-11),\n",
        "                       \"/content/gdrive/My Drive/YAMAKAWA_LAB/技術補佐員/動画/20220401/{}_{}_cropped/{:0>4}.jpg\".format(div,sec,5*i-12),\n",
        "                       \"/content/gdrive/My Drive/YAMAKAWA_LAB/技術補佐員/動画/20220401/{}_{}_cropped/{:0>4}.jpg\".format(div,sec,5*i-13),\n",
        "                      \"/content/gdrive/My Drive/YAMAKAWA_LAB/技術補佐員/動画/20220401/{}_{}_cropped/{:0>4}.jpg\".format(div,sec,5*i-14),\n",
        "                       \"/content/gdrive/My Drive/YAMAKAWA_LAB/技術補佐員/動画/20220401/{}_{}_cropped/{:0>4}.jpg\".format(div,sec,5*i-15),\n",
        "                       \"/content/gdrive/My Drive/YAMAKAWA_LAB/技術補佐員/動画/20220401/{}_{}_cropped/{:0>4}.jpg\".format(div,sec,5*i-16),\n",
        "                       \"/content/gdrive/My Drive/YAMAKAWA_LAB/技術補佐員/動画/20220401/{}_{}_cropped/{:0>4}.jpg\".format(div,sec,5*i-17),\n",
        "                      \"/content/gdrive/My Drive/YAMAKAWA_LAB/技術補佐員/動画/20220401/{}_{}_cropped/{:0>4}.jpg\".format(div,sec,5*i-18),\n",
        "                       \"/content/gdrive/My Drive/YAMAKAWA_LAB/技術補佐員/動画/20220401/{}_{}_cropped/{:0>4}.jpg\".format(div,sec,5*i-19),\n",
        "                       \"/content/gdrive/My Drive/YAMAKAWA_LAB/技術補佐員/動画/20220401/{}_{}_cropped/{:0>4}.jpg\".format(div,sec,5*i-20),\n",
        "                       \"/content/gdrive/My Drive/YAMAKAWA_LAB/技術補佐員/動画/20220401/{}_{}_cropped/{:0>4}.jpg\".format(div,sec,5*i-21),\n",
        "                       \"/content/gdrive/My Drive/YAMAKAWA_LAB/技術補佐員/動画/20220401/{}_{}_cropped/{:0>4}.jpg\".format(div,sec,5*i-22),\n",
        "                       \"/content/gdrive/My Drive/YAMAKAWA_LAB/技術補佐員/動画/20220401/{}_{}_cropped/{:0>4}.jpg\".format(div,sec,5*i-23),\n",
        "                       \"/content/gdrive/My Drive/YAMAKAWA_LAB/技術補佐員/動画/20220401/{}_{}_cropped/{:0>4}.jpg\".format(div,sec,5*i-24),\n",
        "                      \"/content/gdrive/My Drive/YAMAKAWA_LAB/技術補佐員/動画/20220401/{}_{}_cropped/{:0>4}.jpg\".format(div,sec,5*i-25),\n",
        "                       \"/content/gdrive/My Drive/YAMAKAWA_LAB/技術補佐員/動画/20220401/{}_{}_cropped/{:0>4}.jpg\".format(div,sec,5*i-26)])\n",
        "        #//////////////////////////\n",
        "            count += 1\n",
        "          else:\n",
        "            continue\n",
        "  return count\n"
      ],
      "metadata": {
        "id": "o80qcq_HaqIb",
        "colab": {
          "base_uri": "https://localhost:8080/"
        },
        "outputId": "e85c8984-d304-46b9-f038-77a160022df4"
      },
      "execution_count": null,
      "outputs": [
        {
          "output_type": "stream",
          "name": "stdout",
          "text": [
            "spatter12_2 : <class 'list'>\n"
          ]
        }
      ]
    },
    {
      "cell_type": "code",
      "source": [
        "make_ts_dataset_0401(filename_test,div=12,sec=1)\n",
        "make_ts_dataset_0401(filename_test,div=9,sec=1)"
      ],
      "metadata": {
        "colab": {
          "base_uri": "https://localhost:8080/"
        },
        "id": "BE_OUXZ-6i2s",
        "outputId": "0e70c43c-d570-472c-9c7c-bc23f7d5f2b5"
      },
      "execution_count": null,
      "outputs": [
        {
          "output_type": "stream",
          "name": "stderr",
          "text": [
            "<ipython-input-6-5da5b7891680>:47: VisibleDeprecationWarning: Creating an ndarray from ragged nested sequences (which is a list-or-tuple of lists-or-tuples-or ndarrays with different lengths or shapes) is deprecated. If you meant to do this, you must specify 'dtype=object' when creating the ndarray.\n",
            "  spatter = np.asarray(spatter)\n"
          ]
        },
        {
          "output_type": "execute_result",
          "data": {
            "text/plain": [
              "60"
            ]
          },
          "metadata": {},
          "execution_count": 12
        }
      ]
    },
    {
      "cell_type": "code",
      "source": [
        "for i in range(1,13):\n",
        "  for j in range(1,3):\n",
        "    print((i,j))\n",
        "    if i==1:\n",
        "      continue\n",
        "    else:\n",
        "      if (i== 12 and j==1) or (i== 9 and j==1):\n",
        "        continue\n",
        "        #make_ts_dataset_0401(filename_test, div = i,sec = j)\n",
        "      else:\n",
        "        make_ts_dataset_0401(filename,div = i,sec = j)\n"
      ],
      "metadata": {
        "colab": {
          "base_uri": "https://localhost:8080/"
        },
        "id": "4EdOI60MX3y3",
        "outputId": "96cbb6e1-44ec-4147-ecd5-05a198b56361"
      },
      "execution_count": null,
      "outputs": [
        {
          "output_type": "stream",
          "name": "stdout",
          "text": [
            "(1, 1)\n",
            "(1, 2)\n",
            "(2, 1)\n"
          ]
        },
        {
          "output_type": "stream",
          "name": "stderr",
          "text": [
            "<ipython-input-6-5da5b7891680>:47: VisibleDeprecationWarning: Creating an ndarray from ragged nested sequences (which is a list-or-tuple of lists-or-tuples-or ndarrays with different lengths or shapes) is deprecated. If you meant to do this, you must specify 'dtype=object' when creating the ndarray.\n",
            "  spatter = np.asarray(spatter)\n"
          ]
        },
        {
          "output_type": "stream",
          "name": "stdout",
          "text": [
            "(2, 2)\n",
            "(3, 1)\n",
            "(3, 2)\n",
            "(4, 1)\n",
            "(4, 2)\n",
            "(5, 1)\n",
            "(5, 2)\n",
            "(6, 1)\n",
            "(6, 2)\n",
            "(7, 1)\n",
            "(7, 2)\n",
            "(8, 1)\n",
            "(8, 2)\n",
            "(9, 1)\n",
            "(9, 2)\n",
            "(10, 1)\n",
            "(10, 2)\n",
            "(11, 1)\n",
            "(11, 2)\n",
            "(12, 1)\n",
            "(12, 2)\n"
          ]
        }
      ]
    },
    {
      "cell_type": "code",
      "source": [
        "import pandas as pd\n",
        "file = pd.read_csv(filepath_or_buffer = filename)\n",
        "value =file.values\n",
        "count = 0\n",
        "for i in range(len(value)):\n",
        "  if value[i,0] == 1:\n",
        "    count += 1\n",
        "print(count)\n",
        "print(len(value))"
      ],
      "metadata": {
        "colab": {
          "base_uri": "https://localhost:8080/"
        },
        "id": "ZhIhWbS-YyuR",
        "outputId": "136ea740-fc79-4052-f8f3-fe16ba08bdf2"
      },
      "execution_count": null,
      "outputs": [
        {
          "output_type": "stream",
          "name": "stdout",
          "text": [
            "1736\n",
            "9817\n"
          ]
        }
      ]
    },
    {
      "cell_type": "markdown",
      "source": [
        "## 20220603"
      ],
      "metadata": {
        "id": "0Bbu4QjSSRwf"
      }
    },
    {
      "cell_type": "code",
      "source": [
        "def make_ts_dataset_0603(filename ,div, sec):\n",
        "  spatter = [[[],[]],\n",
        "             [[],[206]],\n",
        "             [[418,800],[]],\n",
        "             [[],[244]],\n",
        "             [[372],[]],\n",
        "             [[149, 232, 551],[707]],\n",
        "             [[691, 766, 1081, 1095, 1100, 1406],[275, 409, 596, 720, 724, 767, 884, 888, 1015, 1624]],\n",
        "             [[],[]],\n",
        "             [[],[99, 685, 689, 825]],\n",
        "             [[486,1297,1531],[300, 310, 331, 334, 367, 370, 375, 482, 611, 616, 620, 627, 632, 928, 945, 1005, 1261]],\n",
        "             [[273, 294, 304],[149]],\n",
        "             [[428, 925, 953, 959],[359,386, 388, 423, 530, 54, 697, 891]],\n",
        "             [[203, 481, 487, 490, 865, 878, 885, 890],[357, 363, 520, 542, 548, 558, 1251, 1670, 1680, 1690, 1695, 1699, 1786, 1789, 1791, 1793]]\n",
        "           ]\n",
        "  #フォルダに存在するファイルを取得する、0001.jpg~0005.jpg→{}/*.jpg\n",
        "  spatter = np.asarray(spatter)\n",
        "  count = 0\n",
        "  for i in range(2200):\n",
        "    if i in spatter[div][sec-1] and (i>36): #スパッタ発生時\n",
        "      with open(filename,\"a\",newline='') as f:\n",
        "        writer = csv.writer(f)\n",
        "      #///// change here ////////\n",
        "        writer.writerow([1,\n",
        "                       \"/content/gdrive/My Drive/YAMAKAWA_LAB/技術補佐員/動画/20220603/video/xiQ_20220603_{}_{}_cropped/{:0>4}.jpg\".format(div,sec,i-9),\n",
        "                       \"/content/gdrive/My Drive/YAMAKAWA_LAB/技術補佐員/動画/20220603/video/xiQ_20220603_{}_{}_cropped/{:0>4}.jpg\".format(div,sec,i-10),\n",
        "                       \"/content/gdrive/My Drive/YAMAKAWA_LAB/技術補佐員/動画/20220603/video/xiQ_20220603_{}_{}_cropped/{:0>4}.jpg\".format(div,sec,i-11),\n",
        "                       \"/content/gdrive/My Drive/YAMAKAWA_LAB/技術補佐員/動画/20220603/video/xiQ_20220603_{}_{}_cropped/{:0>4}.jpg\".format(div,sec,i-12),\n",
        "                       \"/content/gdrive/My Drive/YAMAKAWA_LAB/技術補佐員/動画/20220603/video/xiQ_20220603_{}_{}_cropped/{:0>4}.jpg\".format(div,sec,i-13),\n",
        "                       \"/content/gdrive/My Drive/YAMAKAWA_LAB/技術補佐員/動画/20220603/video/xiQ_20220603_{}_{}_cropped/{:0>4}.jpg\".format(div,sec,i-14),\n",
        "                       \"/content/gdrive/My Drive/YAMAKAWA_LAB/技術補佐員/動画/20220603/video/xiQ_20220603_{}_{}_cropped/{:0>4}.jpg\".format(div,sec,i-15),\n",
        "                       \"/content/gdrive/My Drive/YAMAKAWA_LAB/技術補佐員/動画/20220603/video/xiQ_20220603_{}_{}_cropped/{:0>4}.jpg\".format(div,sec,i-16),\n",
        "                       \"/content/gdrive/My Drive/YAMAKAWA_LAB/技術補佐員/動画/20220603/video/xiQ_20220603_{}_{}_cropped/{:0>4}.jpg\".format(div,sec,i-17),\n",
        "                       \"/content/gdrive/My Drive/YAMAKAWA_LAB/技術補佐員/動画/20220603/video/xiQ_20220603_{}_{}_cropped/{:0>4}.jpg\".format(div,sec,i-18),\n",
        "                       \"/content/gdrive/My Drive/YAMAKAWA_LAB/技術補佐員/動画/20220603/video/xiQ_20220603_{}_{}_cropped/{:0>4}.jpg\".format(div,sec,i-19),\n",
        "                       \"/content/gdrive/My Drive/YAMAKAWA_LAB/技術補佐員/動画/20220603/video/xiQ_20220603_{}_{}_cropped/{:0>4}.jpg\".format(div,sec,i-20),\n",
        "                       \"/content/gdrive/My Drive/YAMAKAWA_LAB/技術補佐員/動画/20220603/video/xiQ_20220603_{}_{}_cropped/{:0>4}.jpg\".format(div,sec,i-21),\n",
        "                       \"/content/gdrive/My Drive/YAMAKAWA_LAB/技術補佐員/動画/20220603/video/xiQ_20220603_{}_{}_cropped/{:0>4}.jpg\".format(div,sec,i-22),\n",
        "                       \"/content/gdrive/My Drive/YAMAKAWA_LAB/技術補佐員/動画/20220603/video/xiQ_20220603_{}_{}_cropped/{:0>4}.jpg\".format(div,sec,i-23),\n",
        "                       \"/content/gdrive/My Drive/YAMAKAWA_LAB/技術補佐員/動画/20220603/video/xiQ_20220603_{}_{}_cropped/{:0>4}.jpg\".format(div,sec,i-24),\n",
        "                       \"/content/gdrive/My Drive/YAMAKAWA_LAB/技術補佐員/動画/20220603/video/xiQ_20220603_{}_{}_cropped/{:0>4}.jpg\".format(div,sec,i-25),\n",
        "                       \"/content/gdrive/My Drive/YAMAKAWA_LAB/技術補佐員/動画/20220603/video/xiQ_20220603_{}_{}_cropped/{:0>4}.jpg\".format(div,sec,i-26)])\n",
        "\n",
        "              #)      #/////////////////////////\n",
        "\n",
        "    else: #スパッタ発生時ではない\n",
        "      if 5*i+1>100 :\n",
        "        if 5*i in spatter[div][sec-1] and (5*i>36):\n",
        "          continue\n",
        "        else:\n",
        "          if count < 60:\n",
        "            with open(filename,\"a\",newline='') as f:\n",
        "              writer = csv.writer(f)\n",
        "        #////// change here ///////\n",
        "              writer.writerow([0,\n",
        "                       \"/content/gdrive/My Drive/YAMAKAWA_LAB/技術補佐員/動画/20220603/video/xiQ_20220603_{}_{}_cropped/{:0>4}.jpg\".format(div,sec,5*i-9),\n",
        "                       \"/content/gdrive/My Drive/YAMAKAWA_LAB/技術補佐員/動画/20220603/video/xiQ_20220603_{}_{}_cropped/{:0>4}.jpg\".format(div,sec,5*i-10),\n",
        "                       \"/content/gdrive/My Drive/YAMAKAWA_LAB/技術補佐員/動画/20220603/video/xiQ_20220603_{}_{}_cropped/{:0>4}.jpg\".format(div,sec,5*i-11),\n",
        "                       \"/content/gdrive/My Drive/YAMAKAWA_LAB/技術補佐員/動画/20220603/video/xiQ_20220603_{}_{}_cropped/{:0>4}.jpg\".format(div,sec,5*i-12),\n",
        "                       \"/content/gdrive/My Drive/YAMAKAWA_LAB/技術補佐員/動画/20220603/video/xiQ_20220603_{}_{}_cropped/{:0>4}.jpg\".format(div,sec,5*i-13),\n",
        "                       \"/content/gdrive/My Drive/YAMAKAWA_LAB/技術補佐員/動画/20220603/video/xiQ_20220603_{}_{}_cropped/{:0>4}.jpg\".format(div,sec,5*i-14),\n",
        "                       \"/content/gdrive/My Drive/YAMAKAWA_LAB/技術補佐員/動画/20220603/video/xiQ_20220603_{}_{}_cropped/{:0>4}.jpg\".format(div,sec,5*i-15),\n",
        "                       \"/content/gdrive/My Drive/YAMAKAWA_LAB/技術補佐員/動画/20220603/video/xiQ_20220603_{}_{}_cropped/{:0>4}.jpg\".format(div,sec,5*i-16),\n",
        "                       \"/content/gdrive/My Drive/YAMAKAWA_LAB/技術補佐員/動画/20220603/video/xiQ_20220603_{}_{}_cropped/{:0>4}.jpg\".format(div,sec,5*i-17),\n",
        "                     \"/content/gdrive/My Drive/YAMAKAWA_LAB/技術補佐員/動画/20220603/video/xiQ_20220603_{}_{}_cropped/{:0>4}.jpg\".format(div,sec,5*i-18),\n",
        "                     \"/content/gdrive/My Drive/YAMAKAWA_LAB/技術補佐員/動画/20220603/video/xiQ_20220603_{}_{}_cropped/{:0>4}.jpg\".format(div,sec,5*i-19),\n",
        "                       \"/content/gdrive/My Drive/YAMAKAWA_LAB/技術補佐員/動画/20220603/video/xiQ_20220603_{}_{}_cropped/{:0>4}.jpg\".format(div,sec,5*i-20),\n",
        "                       \"/content/gdrive/My Drive/YAMAKAWA_LAB/技術補佐員/動画/20220603/video/xiQ_20220603_{}_{}_cropped/{:0>4}.jpg\".format(div,sec,5*i-21),\n",
        "                       \"/content/gdrive/My Drive/YAMAKAWA_LAB/技術補佐員/動画/20220603/video/xiQ_20220603_{}_{}_cropped/{:0>4}.jpg\".format(div,sec,5*i-22),\n",
        "                      \"/content/gdrive/My Drive/YAMAKAWA_LAB/技術補佐員/動画/20220603/video/xiQ_20220603_{}_{}_cropped/{:0>4}.jpg\".format(div,sec,5*i-23),\n",
        "                       \"/content/gdrive/My Drive/YAMAKAWA_LAB/技術補佐員/動画/20220603/video/xiQ_20220603_{}_{}_cropped/{:0>4}.jpg\".format(div,sec,5*i-24),\n",
        "                       \"/content/gdrive/My Drive/YAMAKAWA_LAB/技術補佐員/動画/20220603/video/xiQ_20220603_{}_{}_cropped/{:0>4}.jpg\".format(div,sec,5*i-25),\n",
        "                       \"/content/gdrive/My Drive/YAMAKAWA_LAB/技術補佐員/動画/20220603/video/xiQ_20220603_{}_{}_cropped/{:0>4}.jpg\".format(div,sec,5*i-26)])\n",
        "        #//////////////////////////\n",
        "          count += 1\n",
        "      else:\n",
        "        continue\n",
        "  return count\n"
      ],
      "metadata": {
        "id": "MUU2nvPdST0A"
      },
      "execution_count": null,
      "outputs": []
    },
    {
      "cell_type": "code",
      "source": [
        "make_ts_dataset_0603(filename_test,div=12,sec=1)\n",
        "make_ts_dataset_0603(filename_test,div=9,sec=1)"
      ],
      "metadata": {
        "colab": {
          "base_uri": "https://localhost:8080/"
        },
        "id": "--ihdgzU7XjR",
        "outputId": "9efec154-1780-4c75-8304-f63ba84cd2d8"
      },
      "execution_count": null,
      "outputs": [
        {
          "output_type": "stream",
          "name": "stderr",
          "text": [
            "<ipython-input-14-bd05c5c91096>:17: VisibleDeprecationWarning: Creating an ndarray from ragged nested sequences (which is a list-or-tuple of lists-or-tuples-or ndarrays with different lengths or shapes) is deprecated. If you meant to do this, you must specify 'dtype=object' when creating the ndarray.\n",
            "  spatter = np.asarray(spatter)\n"
          ]
        },
        {
          "output_type": "execute_result",
          "data": {
            "text/plain": [
              "2177"
            ]
          },
          "metadata": {},
          "execution_count": 15
        }
      ]
    },
    {
      "cell_type": "code",
      "source": [
        "for i in range(1,13):\n",
        "  for j in range(1,3):\n",
        "    print((i,j))\n",
        "    if (i== 12 and j==1) or (i== 9 and j==1):\n",
        "      continue\n",
        "      #make_ts_dataset_0603(filename_test, div = i,sec = j)\n",
        "    else:\n",
        "      make_ts_dataset_0603(filename,div = i,sec = j)\n"
      ],
      "metadata": {
        "id": "8PXCx6TL5tzg",
        "colab": {
          "base_uri": "https://localhost:8080/"
        },
        "outputId": "8ea2e993-7ff6-4441-fb09-449477120aa9"
      },
      "execution_count": null,
      "outputs": [
        {
          "output_type": "stream",
          "name": "stdout",
          "text": [
            "(1, 1)\n"
          ]
        },
        {
          "output_type": "stream",
          "name": "stderr",
          "text": [
            "<ipython-input-14-bd05c5c91096>:17: VisibleDeprecationWarning: Creating an ndarray from ragged nested sequences (which is a list-or-tuple of lists-or-tuples-or ndarrays with different lengths or shapes) is deprecated. If you meant to do this, you must specify 'dtype=object' when creating the ndarray.\n",
            "  spatter = np.asarray(spatter)\n"
          ]
        },
        {
          "output_type": "stream",
          "name": "stdout",
          "text": [
            "(1, 2)\n",
            "(2, 1)\n",
            "(2, 2)\n",
            "(3, 1)\n",
            "(3, 2)\n",
            "(4, 1)\n",
            "(4, 2)\n",
            "(5, 1)\n",
            "(5, 2)\n",
            "(6, 1)\n",
            "(6, 2)\n",
            "(7, 1)\n",
            "(7, 2)\n",
            "(8, 1)\n",
            "(8, 2)\n",
            "(9, 1)\n",
            "(9, 2)\n",
            "(10, 1)\n",
            "(10, 2)\n",
            "(11, 1)\n",
            "(11, 2)\n",
            "(12, 1)\n",
            "(12, 2)\n"
          ]
        }
      ]
    },
    {
      "cell_type": "markdown",
      "source": [
        "#20221020"
      ],
      "metadata": {
        "id": "_myxhqKmKJvQ"
      }
    },
    {
      "cell_type": "code",
      "source": [
        "import numpy as np\n",
        "\n",
        "spatter_data_21 = np.loadtxt('/content/gdrive/My Drive/YAMAKAWA_LAB/技術補佐員/動画/20221020/video/XIMEA_221020_{}_trim_spatter.txt'.format(21), delimiter=' ', dtype='int').tolist()\n",
        "spatter_data_22 = np.loadtxt('/content/gdrive/My Drive/YAMAKAWA_LAB/技術補佐員/動画/20221020/video/XIMEA_221020_{}_trim_spatter.txt'.format(22), delimiter=' ', dtype='int').tolist()\n",
        "spatter_data_23 = np.loadtxt('/content/gdrive/My Drive/YAMAKAWA_LAB/技術補佐員/動画/20221020/video/XIMEA_221020_{}_trim_spatter.txt'.format(23), delimiter=' ', dtype='int').tolist()\n",
        "spatter_data_24 = np.loadtxt('/content/gdrive/My Drive/YAMAKAWA_LAB/技術補佐員/動画/20221020/video/XIMEA_221020_{}_trim_spatter.txt'.format(24), delimiter=' ', dtype='int').tolist()\n",
        "spatter_data_25 = np.loadtxt('/content/gdrive/My Drive/YAMAKAWA_LAB/技術補佐員/動画/20221020/video/XIMEA_221020_{}_trim_spatter.txt'.format(25), delimiter=' ', dtype='int').tolist()\n",
        "spatter_data_26 = np.loadtxt('/content/gdrive/My Drive/YAMAKAWA_LAB/技術補佐員/動画/20221020/video/XIMEA_221020_{}_trim_spatter.txt'.format(26), delimiter=' ', dtype='int').tolist()\n",
        "spatter_data_27 = np.loadtxt('/content/gdrive/My Drive/YAMAKAWA_LAB/技術補佐員/動画/20221020/video/XIMEA_221020_{}_trim_spatter.txt'.format(27), delimiter=' ', dtype='int').tolist()\n",
        "spatter_data_28 = np.loadtxt('/content/gdrive/My Drive/YAMAKAWA_LAB/技術補佐員/動画/20221020/video/XIMEA_221020_{}_trim_spatter.txt'.format(28), delimiter=' ', dtype='int').tolist()\n",
        "spatter_data_29 = np.loadtxt('/content/gdrive/My Drive/YAMAKAWA_LAB/技術補佐員/動画/20221020/video/XIMEA_221020_{}_trim_spatter.txt'.format(29), delimiter=' ', dtype='int').tolist()\n",
        "spatter_data_30 = np.loadtxt('/content/gdrive/My Drive/YAMAKAWA_LAB/技術補佐員/動画/20221020/video/XIMEA_221020_{}_trim_spatter.txt'.format(30), delimiter=' ', dtype='int').tolist()\n",
        "spatter_data_31 = np.loadtxt('/content/gdrive/My Drive/YAMAKAWA_LAB/技術補佐員/動画/20221020/video/XIMEA_221020_{}_trim_spatter.txt'.format(31), delimiter=' ', dtype='int').tolist()\n",
        "spatter_data_32 = np.loadtxt('/content/gdrive/My Drive/YAMAKAWA_LAB/技術補佐員/動画/20221020/video/XIMEA_221020_{}_trim_spatter.txt'.format(32), delimiter=' ', dtype='int').tolist()\n",
        "spatter_data_33 = np.loadtxt('/content/gdrive/My Drive/YAMAKAWA_LAB/技術補佐員/動画/20221020/video/XIMEA_221020_{}_trim_spatter.txt'.format(33), delimiter=' ', dtype='int').tolist()\n",
        "spatter_data_34 = np.loadtxt('/content/gdrive/My Drive/YAMAKAWA_LAB/技術補佐員/動画/20221020/video/XIMEA_221020_{}_trim_spatter.txt'.format(34), delimiter=' ', dtype='int').tolist()\n",
        "spatter_data_35 = np.loadtxt('/content/gdrive/My Drive/YAMAKAWA_LAB/技術補佐員/動画/20221020/video/XIMEA_221020_{}_trim_spatter.txt'.format(35), delimiter=' ', dtype='int').tolist()\n",
        "spatter_data_36 = np.loadtxt('/content/gdrive/My Drive/YAMAKAWA_LAB/技術補佐員/動画/20221020/video/XIMEA_221020_{}_trim_spatter.txt'.format(36), delimiter=' ', dtype='int').tolist()\n",
        "spatter_data_37 = np.loadtxt('/content/gdrive/My Drive/YAMAKAWA_LAB/技術補佐員/動画/20221020/video/XIMEA_221020_{}_trim_spatter.txt'.format(37), delimiter=' ', dtype='int').tolist()\n",
        "spatter_data_38 = np.loadtxt('/content/gdrive/My Drive/YAMAKAWA_LAB/技術補佐員/動画/20221020/video/XIMEA_221020_{}_trim_spatter.txt'.format(38), delimiter=' ', dtype='int').tolist()\n",
        "spatter_data_39 = np.loadtxt('/content/gdrive/My Drive/YAMAKAWA_LAB/技術補佐員/動画/20221020/video/XIMEA_221020_{}_trim_spatter.txt'.format(39), delimiter=' ', dtype='int').tolist()\n",
        "spatter_data_40 = np.loadtxt('/content/gdrive/My Drive/YAMAKAWA_LAB/技術補佐員/動画/20221020/video/XIMEA_221020_{}_trim_spatter.txt'.format(40), delimiter=' ', dtype='int').tolist()\n",
        "spatter_data_41 = np.loadtxt('/content/gdrive/My Drive/YAMAKAWA_LAB/技術補佐員/動画/20221020/video/XIMEA_221020_{}_trim_spatter.txt'.format(41), delimiter=' ', dtype='int').tolist()\n",
        "spatter_data_42 = np.loadtxt('/content/gdrive/My Drive/YAMAKAWA_LAB/技術補佐員/動画/20221020/video/XIMEA_221020_{}_trim_spatter.txt'.format(42), delimiter=' ', dtype='int').tolist()\n",
        "spatter_data_43 = np.loadtxt('/content/gdrive/My Drive/YAMAKAWA_LAB/技術補佐員/動画/20221020/video/XIMEA_221020_{}_trim_spatter.txt'.format(43), delimiter=' ', dtype='int').tolist()\n",
        "spatter_data_44 = np.loadtxt('/content/gdrive/My Drive/YAMAKAWA_LAB/技術補佐員/動画/20221020/video/XIMEA_221020_{}_trim_spatter.txt'.format(44), delimiter=' ', dtype='int').tolist()\n"
      ],
      "metadata": {
        "id": "4dNRT46eKJSj"
      },
      "execution_count": null,
      "outputs": []
    },
    {
      "cell_type": "code",
      "source": [
        "spatter = [[[],[]],\n",
        "             [spatter_data_21,[spatter_data_33]],\n",
        "             [spatter_data_22,spatter_data_34],\n",
        "             [spatter_data_23,spatter_data_35],\n",
        "             [spatter_data_24,spatter_data_36],\n",
        "             [spatter_data_25,spatter_data_37],\n",
        "             [spatter_data_26,spatter_data_38],\n",
        "             [spatter_data_27,spatter_data_39],\n",
        "             [spatter_data_28,spatter_data_40],\n",
        "             [spatter_data_29,spatter_data_41],\n",
        "             [spatter_data_30,spatter_data_42],\n",
        "             [spatter_data_31,spatter_data_43],\n",
        "             [spatter_data_32,spatter_data_44]]\n",
        "print(spatter)"
      ],
      "metadata": {
        "id": "kHMknyKRNBvC"
      },
      "execution_count": null,
      "outputs": []
    },
    {
      "cell_type": "code",
      "source": [
        "import os\n",
        "for i in range(21,45):\n",
        "  dir = '/content/gdrive/My Drive/YAMAKAWA_LAB/技術補佐員/動画/20221020/video/XIMEA_221020_{}_trim/processed'.format(i)\n",
        "  print(sum(os.path.isfile(os.path.join(dir,name)) for name in os.listdir(dir)))\n"
      ],
      "metadata": {
        "colab": {
          "base_uri": "https://localhost:8080/"
        },
        "id": "mXv4J67wQmCB",
        "outputId": "c0847ffc-ce32-44e6-bfbf-96311213c902"
      },
      "execution_count": null,
      "outputs": [
        {
          "output_type": "stream",
          "name": "stdout",
          "text": [
            "244\n",
            "448\n",
            "895\n",
            "245\n",
            "448\n",
            "863\n",
            "235\n",
            "430\n",
            "857\n",
            "233\n",
            "312\n",
            "880\n",
            "236\n",
            "434\n",
            "866\n",
            "240\n",
            "440\n",
            "883\n",
            "240\n",
            "442\n",
            "889\n",
            "242\n",
            "447\n",
            "892\n"
          ]
        }
      ]
    },
    {
      "cell_type": "code",
      "source": [
        "import csv\n",
        "import glob\n",
        "import os\n",
        "\n",
        "## train data or test data   //////       INput is needed    /////////////\n",
        "\n",
        "#src_img_dir=\"/content/gdrive/My Drive/YAMAKAWA_LAB/技術補佐員/動画/20220603/video/xiQ_20220603_1_1_cropped\"\n",
        "#src = glob.glob(\"{}/*.jpg\".format(src_img_dir))\n",
        "#src_files.sort()\n",
        "#print(len(src_files))\n",
        "#making file for if there is a large spatters, signal=1, else: signal=0\n",
        "\n",
        "save_dir = \"/content/gdrive/My Drive/YAMAKAWA_LAB/技術補佐員/NN/dataset/20221020\"\n",
        "if not os.path.exists(save_dir):\n",
        "  os.mkdir(save_dir)\n",
        "\n",
        "#//// chagen here ///\n",
        "filename=\"/content/gdrive/My Drive/YAMAKAWA_LAB/技術補佐員/NN/dataset/20221020/train_10input_full.csv\"\n",
        "filename_test=\"/content/gdrive/My Drive/YAMAKAWA_LAB/技術補佐員/NN/dataset/20221020/test_10inputs_full.csv\"\n",
        "#///////////////////\n",
        "\n",
        "with open(filename,\"w\") as f:\n",
        "  writer = csv.writer(f)\n",
        "  writer.writerow([\"Spatter\",\"Path(t)\",\"Path(t-1)\",\"Path(t-2)\",\"Path(t-3)\",\"Path(t-4)\",\"Path(t-5)\",\"Path(t-6)\",\"Path(t-7)\",\"Path(t-8)\",\"Path(t-9)\"])#,\"Path(t-9)\",\"Path(t-10)\",\"Path(t-11)\",\"Path(t-12)\",\"Path(t-13)\",\"Path(t-14)\",\"Path(t-15)\",\"Path(t-16)\",\"Path(t-17)\"])\n",
        "\n",
        "with open(filename_test,\"w\") as f:\n",
        "  writer = csv.writer(f)\n",
        "  writer.writerow([\"Spatter\",\"Path(t)\",\"Path(t-1)\",\"Path(t-2)\",\"Path(t-3)\",\"Path(t-4)\",\"Path(t-5)\",\"Path(t-6)\",\"Path(t-7)\",\"Path(t-8)\",\"Path(t-9)\"])#,\"Path(t-9)\",\"Path(t-10)\",\"Path(t-11)\",\"Path(t-12)\",\"Path(t-13)\",\"Path(t-14)\",\"Path(t-15)\",\"Path(t-16)\",\"Path(t-17)\"])"
      ],
      "metadata": {
        "id": "GcFNFfE2fQC1"
      },
      "execution_count": null,
      "outputs": []
    },
    {
      "cell_type": "code",
      "source": [
        "import os\n",
        "import numpy as np\n",
        "def make_ts_dataset_1020(filename ,div):\n",
        "  #フォルダに存在するファイルを取得する、0001.jpg~0005.jpg→{}/*.jpg\n",
        "  spatter = [[],\n",
        "             [54],\n",
        "             [],\n",
        "             [1, 26, 47, 64, 120, 209, 254, 306, 329, 332],\n",
        "             [],\n",
        "             [7, 51, 126, 140, 583, 588, 645, 649, 712, 716, 787],\n",
        "             [],[17, 193],\n",
        "             [],[49, 54, 69, 71, 197, 251, 261, 277, 290, 306],\n",
        "             [61, 75, 124, 166, 168, 176, 247, 393, 451, 468, 529, 599, 668, 700],[52, 108, 115 ,186, 189, 191, 224, 229, 233, 247, 249, 269, 353, 418, 424, 473, 499, 514, 559, 562, 573, 582, 587, 616, 661, 724],\n",
        "             [19 ,31 ,88 ,112 ],[6],\n",
        "             [30 ,39 ,69 ,89 ,116, 137 ,149 ,338, 356 ],[59, 84 ,88 ,97 ,110 ,113 ,119 ,124 ,136 ,171 ,214 ,221 ,226 ,246 ,250 ,257 ,280 ,282 ,365 ,368 ,379 ,385],\n",
        "             [3, 6 ,21 ,45 ,55 ,80, 92, 97 ,114, 122 ,159, 167, 183 ,218, 222, 266, 289, 333, 342 ,361, 400, 439 ,446 ,501 ,524 ,530 ,546 ,566 ,594 ,598 ,627 ,679],[7, 12 ,22 ,24 ,42 ,58 ,61 ,63 ,67 ,71 ,78, 82 ,86 ,127, 145 ,147, 150, 154 ,207 ,212, 221, 226 ,248 ,252 ,257 ,282 ,285 ,302 ,321 ,334 ,336 ,341 ,365 ,385 ,393, 481 ,491 ,494 ,511 ,520 ,563 ,577 ,587 ,594 ,616 ,624 ,630 ,635 ,637 ,641 ,677 ,684 ,699 ,703 ,717 ,726 ,766 ,772],\n",
        "             [76, 165, 180],[3, 90, 127, 141],\n",
        "             [27, 42, 77, 99, 113, 129, 133, 137, 141, 151, 154, 160 ,191, 194, 206 ,209 ,235 ,264, 282, 292, 309, 312, 316, 323 ,338 ,370 ,377],[11, 22 ,27 ,29, 32, 59, 90, 94, 97, 108, 112, 120, 123, 127 ,147 ,153, 155, 176, 180 ,185, 216 ,222 ,227 ,232 ,245 ,254 ,305 ,307, 314 ,317 ,340, 404],\n",
        "             [1, 5 ,13 ,32 ,51 ,59, 72, 101 ,123, 137 ,151 ,162 ,185 ,242 ,264 ,275 ,284 ,286 ,313 ,320 ,362 ,369, 382 ,389 ,426, 460, 505, 529, 540, 554, 603 ,619 ,636 ,664, 695, 705, 714 ,731 ,739, 763 ,772 ,777 ],[20, 48 ,51 ,57 ,62 ,64 ,72 ,78, 80, 90, 93, 137, 150, 163, 172, 182, 194 ,204 ,232, 238 ,243 ,259 ,269 ,281 ,286, 297, 307 ,330 ,339 ,358, 365, 367, 372 ,384 ,398 ,402 ,421 ,429 ,438, 441, 448 ,468 ,475 ,477, 492 ,500 ,506 ,509 ,523, 535, 550 ,562, 594 ,638 ,673 ,675 ,702 ,724 ,727]\n",
        "           ]\n",
        "           \n",
        "  #フォルダに存在するファイルを取得する、0001.jpg~0005.jpg→{}/*.jpg\n",
        "  spatter = np.asarray(spatter)\n",
        "  count = 0\n",
        "\n",
        "  #get num of file in a directory\n",
        "  dir = '/content/gdrive/My Drive/YAMAKAWA_LAB/技術補佐員/動画/20221020/video/XIMEA_221020_{}_trim/processed_2'.format(div)\n",
        "  num_photo = sum(os.path.isfile(os.path.join(dir,name)) for name in os.listdir(dir))\n",
        "  print(\"{} progressing\".format(div))\n",
        "  for i in range(2,num_photo+2-18):\n",
        "    #print(\"{}:::progress:{:.1f}%\".format(div,i/num_photo*100))\n",
        "    if (((i+18) in spatter[div-21]) or((i+17) in spatter[div-21]) or ((i+16) in spatter[div-21]) or ((i+15) in spatter[div-21]) or ((i+14) in spatter[div-21]) or \n",
        "        ((i+13) in spatter[div-21]) or ((i+12) in spatter[div-21]) or ((i+11) in spatter[div-21]) or ((i+10) in spatter[div-21])): #スパッタ発生時\n",
        "      with open(filename,\"a\",newline='') as f:\n",
        "        writer = csv.writer(f)\n",
        "      #///// change here ////////\n",
        "      #for 64*64 images\n",
        "        \n",
        "        writer.writerow([1,\n",
        "                       \"/content/gdrive/My Drive/YAMAKAWA_LAB/技術補佐員/動画/20221020/video/XIMEA_221020_{}_trim/{:0>4}.jpg\".format(div,i+8),\n",
        "                       \"/content/gdrive/My Drive/YAMAKAWA_LAB/技術補佐員/動画/20221020/video/XIMEA_221020_{}_trim/{:0>4}.jpg\".format(div,i+7),\n",
        "                       \"/content/gdrive/My Drive/YAMAKAWA_LAB/技術補佐員/動画/20221020/video/XIMEA_221020_{}_trim/{:0>4}.jpg\".format(div,i+6),\n",
        "                       \"/content/gdrive/My Drive/YAMAKAWA_LAB/技術補佐員/動画/20221020/video/XIMEA_221020_{}_trim/{:0>4}.jpg\".format(div,i+5),\n",
        "                       \"/content/gdrive/My Drive/YAMAKAWA_LAB/技術補佐員/動画/20221020/video/XIMEA_221020_{}_trim/{:0>4}.jpg\".format(div,i+4),\n",
        "                       \"/content/gdrive/My Drive/YAMAKAWA_LAB/技術補佐員/動画/20221020/video/XIMEA_221020_{}_trim/{:0>4}.jpg\".format(div,i+3),\n",
        "                       \"/content/gdrive/My Drive/YAMAKAWA_LAB/技術補佐員/動画/20221020/video/XIMEA_221020_{}_trim/{:0>4}.jpg\".format(div,i+2),\n",
        "                       \"/content/gdrive/My Drive/YAMAKAWA_LAB/技術補佐員/動画/20221020/video/XIMEA_221020_{}_trim/{:0>4}.jpg\".format(div,i+1),\n",
        "                       \"/content/gdrive/My Drive/YAMAKAWA_LAB/技術補佐員/動画/20221020/video/XIMEA_221020_{}_trim/{:0>4}.jpg\".format(div,i),\n",
        "                        \"/content/gdrive/My Drive/YAMAKAWA_LAB/技術補佐員/動画/20221020/video/XIMEA_221020_{}_trim/{:0>4}.jpg\".format(div,i-1)])#,\n",
        "        '''/content/gdrive/My Drive/YAMAKAWA_LAB/技術補佐員/動画/20221020/video/XIMEA_221020_{}_trim/processed/{:0>4}.jpg\".format(div,i-27),\n",
        "                       \"/content/gdrive/My Drive/YAMAKAWA_LAB/技術補佐員/動画/20221020/video/XIMEA_221020_{}_trim/processed/{:0>4}.jpg\".format(div,i-28),\n",
        "                      \"/content/gdrive/My Drive/YAMAKAWA_LAB/技術補佐員/動画/20221020/video/XIMEA_221020_{}_trim/processed/{:0>4}.jpg\".format(div,i-29),\n",
        "                      \"/content/gdrive/My Drive/YAMAKAWA_LAB/技術補佐員/動画/20221020/video/XIMEA_221020_{}_trim/processed/{:0>4}.jpg\".format(div,i-30),\n",
        "                      \"/content/gdrive/My Drive/YAMAKAWA_LAB/技術補佐員/動画/20221020/video/XIMEA_221020_{}_trim/processed/{:0>4}.jpg\".format(div,i-31),\n",
        "                      \"/content/gdrive/My Drive/YAMAKAWA_LAB/技術補佐員/動画/20221020/video/XIMEA_221020_{}_trim/processed/{:0>4}.jpg\".format(div,i-32),\n",
        "                      \"/content/gdrive/My Drive/YAMAKAWA_LAB/技術補佐員/動画/20221020/video/XIMEA_221020_{}_trim/processed/{:0>4}.jpg\".format(div,i-33),\n",
        "                      \"/content/gdrive/My Drive/YAMAKAWA_LAB/技術補佐員/動画/20221020/video/XIMEA_221020_{}_trim/processed/{:0>4}.jpg\".format(div,i-34),\n",
        "                      \"/content/gdrive/My Drive/YAMAKAWA_LAB/技術補佐員/動画/20221020/video/XIMEA_221020_{}_trim/processed/{:0>4}.jpg\".format(div,i-35)])\n",
        "        '''\n",
        "       \n",
        "      #/////////////////////////\n",
        "      #for 32*32 images\n",
        "        \"\"\"\n",
        "        writer.writerow([1,\n",
        "                       \"/content/gdrive/My Drive/YAMAKAWA_LAB/技術補佐員/動画/20221020/video/{}_cropped/{:0>4}.jpg\".format(div,i-9),\n",
        "                       \"/content/gdrive/My Drive/YAMAKAWA_LAB/技術補佐員/動画/20221020/video/{}_cropped/{:0>4}.jpg\".format(div,i-10),\n",
        "                       \"/content/gdrive/My Drive/YAMAKAWA_LAB/技術補佐員/動画/20221020/video/{}_cropped/{:0>4}.jpg\".format(div,i-11),\n",
        "                       \"/content/gdrive/My Drive/YAMAKAWA_LAB/技術補佐員/動画/20221020/video/{}_cropped/{:0>4}.jpg\".format(div,i-12),\n",
        "                       \"/content/gdrive/My Drive/YAMAKAWA_LAB/技術補佐員/動画/20221020/video/{}_cropped/{:0>4}.jpg\".format(div,i-13),\n",
        "                       \"/content/gdrive/My Drive/YAMAKAWA_LAB/技術補佐員/動画/20221020/video/{}_cropped/{:0>4}.jpg\".format(div,i-14),\n",
        "                       \"/content/gdrive/My Drive/YAMAKAWA_LAB/技術補佐員/動画/20221020/video/{}_cropped/{:0>4}.jpg\".format(div,i-15),\n",
        "                       \"/content/gdrive/My Drive/YAMAKAWA_LAB/技術補佐員/動画/20221020/video/{}_cropped/{:0>4}.jpg\".format(div,i-16),\n",
        "                       \"/content/gdrive/My Drive/YAMAKAWA_LAB/技術補佐員/動画/20221020/video/{}_cropped/{:0>4}.jpg\".format(div,i-17),\n",
        "                      \"/content/gdrive/My Drive/YAMAKAWA_LAB/技術補佐員/動画/20221020/video/{}_cropped/{:0>4}.jpg\".format(div,i-18),\n",
        "                       \"/content/gdrive/My Drive/YAMAKAWA_LAB/技術補佐員/動画/20221020/video/{}_cropped/{:0>4}.jpg\".format(div,i-19),\n",
        "                      \"/content/gdrive/My Drive/YAMAKAWA_LAB/技術補佐員/動画/20221020/video/{}_cropped/{:0>4}.jpg\".format(div,i-20),\n",
        "                      \"/content/gdrive/My Drive/YAMAKAWA_LAB/技術補佐員/動画/20221020/video/{}_cropped/{:0>4}.jpg\".format(div,i-21),\n",
        "                      \"/content/gdrive/My Drive/YAMAKAWA_LAB/技術補佐員/動画/20221020/video/{}_cropped/{:0>4}.jpg\".format(div,i-22),\n",
        "                      \"/content/gdrive/My Drive/YAMAKAWA_LAB/技術補佐員/動画/20221020/video/{}_cropped/{:0>4}.jpg\".format(div,i-23),\n",
        "                      \"/content/gdrive/My Drive/YAMAKAWA_LAB/技術補佐員/動画/20221020/video/{}_cropped/{:0>4}.jpg\".format(div,i-24),\n",
        "                      \"/content/gdrive/My Drive/YAMAKAWA_LAB/技術補佐員/動画/20221020/video/{}_cropped/{:0>4}.jpg\".format(div,i-25),\n",
        "                      \"/content/gdrive/My Drive/YAMAKAWA_LAB/技術補佐員/動画/20221020/video/{}_cropped/{:0>4}.jpg\".format(div,i-26)])\n",
        "      #/////////////////////////\n",
        "      \"\"\"\n",
        "    else: #スパッタ発生時ではない\n",
        "    \n",
        "      #for exclude extra data\n",
        "      #if i in spatter[div] and (i>36):\n",
        "      #  continue\n",
        "      #else:\n",
        "      #if count < 60  :\n",
        "      with open(filename,\"a\",newline='') as f:\n",
        "        writer = csv.writer(f)\n",
        "#////// change here ///////\n",
        "    #for 64*64 images\n",
        "        \n",
        "        writer.writerow([0,\n",
        "                  \"/content/gdrive/My Drive/YAMAKAWA_LAB/技術補佐員/動画/20221020/video/XIMEA_221020_{}_trim/{:0>4}.jpg\".format(div,i+8),\n",
        "                  \"/content/gdrive/My Drive/YAMAKAWA_LAB/技術補佐員/動画/20221020/video/XIMEA_221020_{}_trim/{:0>4}.jpg\".format(div,i+7),\n",
        "                  \"/content/gdrive/My Drive/YAMAKAWA_LAB/技術補佐員/動画/20221020/video/XIMEA_221020_{}_trim/{:0>4}.jpg\".format(div,i+6),\n",
        "                  \"/content/gdrive/My Drive/YAMAKAWA_LAB/技術補佐員/動画/20221020/video/XIMEA_221020_{}_trim/{:0>4}.jpg\".format(div,i+5),\n",
        "                  \"/content/gdrive/My Drive/YAMAKAWA_LAB/技術補佐員/動画/20221020/video/XIMEA_221020_{}_trim/{:0>4}.jpg\".format(div,i+4),\n",
        "                \"/content/gdrive/My Drive/YAMAKAWA_LAB/技術補佐員/動画/20221020/video/XIMEA_221020_{}_trim/{:0>4}.jpg\".format(div,i+3),\n",
        "                  \"/content/gdrive/My Drive/YAMAKAWA_LAB/技術補佐員/動画/20221020/video/XIMEA_221020_{}_trim/{:0>4}.jpg\".format(div,i+2),\n",
        "                  \"/content/gdrive/My Drive/YAMAKAWA_LAB/技術補佐員/動画/20221020/video/XIMEA_221020_{}_trim/{:0>4}.jpg\".format(div,i+1),\n",
        "                  \"/content/gdrive/My Drive/YAMAKAWA_LAB/技術補佐員/動画/20221020/video/XIMEA_221020_{}_trim/{:0>4}.jpg\".format(div,i),\n",
        "                   \"/content/gdrive/My Drive/YAMAKAWA_LAB/技術補佐員/動画/20221020/video/XIMEA_221020_{}_trim/{:0>4}.jpg\".format(div,i-1)])#,\n",
        "        '''\"/content/gdrive/My Drive/YAMAKAWA_LAB/技術補佐員/動画/20221020/video/XIMEA_221020_{}_trim/processed/{:0>4}.jpg\".format(div,i-27),\n",
        "                  \"/content/gdrive/My Drive/YAMAKAWA_LAB/技術補佐員/動画/20221020/video/XIMEA_221020_{}_trim/processed/{:0>4}.jpg\".format(div,i-28),\n",
        "                  \"/content/gdrive/My Drive/YAMAKAWA_LAB/技術補佐員/動画/20221020/video/XIMEA_221020_{}_trim/processed/{:0>4}.jpg\".format(div,i-29),\n",
        "                  \"/content/gdrive/My Drive/YAMAKAWA_LAB/技術補佐員/動画/20221020/video/XIMEA_221020_{}_trim/processed/{:0>4}.jpg\".format(div,i-30),\n",
        "                  \"/content/gdrive/My Drive/YAMAKAWA_LAB/技術補佐員/動画/20221020/video/XIMEA_221020_{}_trim/processed/{:0>4}.jpg\".format(div,i-31),\n",
        "                  \"/content/gdrive/My Drive/YAMAKAWA_LAB/技術補佐員/動画/20221020/video/XIMEA_221020_{}_trim/processed/{:0>4}.jpg\".format(div,i-32),\n",
        "                  \"/content/gdrive/My Drive/YAMAKAWA_LAB/技術補佐員/動画/20221020/video/XIMEA_221020_{}_trim/processed/{:0>4}.jpg\".format(div,i-33),\n",
        "                \"/content/gdrive/My Drive/YAMAKAWA_LAB/技術補佐員/動画/20221020/video/XIMEA_221020_{}_trim/processed/{:0>4}.jpg\".format(div,i-34),\n",
        "                  \"/content/gdrive/My Drive/YAMAKAWA_LAB/技術補佐員/動画/20221020/video/XIMEA_221020_{}_trim/processed/{:0>4}.jpg\".format(div,i-35)])\n",
        "        '''\n",
        "          \n",
        "  #/////////////////////////\n",
        "        #for 32*32 images\n",
        "        \"\"\"\n",
        "          writer.writerow([0,\n",
        "                    \"/content/gdrive/My Drive/YAMAKAWA_LAB/技術補佐員/動画/20221020/video/{}_cropped/{:0>4}.jpg\".format(div,3*i-9),\n",
        "                    \"/content/gdrive/My Drive/YAMAKAWA_LAB/技術補佐員/動画/20221020/video/{}_cropped/{:0>4}.jpg\".format(div,3*i-10),\n",
        "                    \"/content/gdrive/My Drive/YAMAKAWA_LAB/技術補佐員/動画/20221020/video/{}_cropped/{:0>4}.jpg\".format(div,3*i-11),\n",
        "                    \"/content/gdrive/My Drive/YAMAKAWA_LAB/技術補佐員/動画/20221020/video/{}_cropped/{:0>4}.jpg\".format(div,3*i-12),\n",
        "                    \"/content/gdrive/My Drive/YAMAKAWA_LAB/技術補佐員/動画/20221020/video/{}_cropped/{:0>4}.jpg\".format(div,3*i-13),\n",
        "                  \"/content/gdrive/My Drive/YAMAKAWA_LAB/技術補佐員/動画/20221020/video/{}_cropped/{:0>4}.jpg\".format(div,3*i-14),\n",
        "                    \"/content/gdrive/My Drive/YAMAKAWA_LAB/技術補佐員/動画/20221020/video/{}_cropped/{:0>4}.jpg\".format(div,3*i-15),\n",
        "                    \"/content/gdrive/My Drive/YAMAKAWA_LAB/技術補佐員/動画/20221020/video/{}_cropped/{:0>4}.jpg\".format(div,3*i-16),\n",
        "                    \"/content/gdrive/My Drive/YAMAKAWA_LAB/技術補佐員/動画/20221020/video/{}_cropped/{:0>4}.jpg\".format(div,3*i-17),\n",
        "                  \"/content/gdrive/My Drive/YAMAKAWA_LAB/技術補佐員/動画/20221020/video/{}_cropped/{:0>4}.jpg\".format(div,3*i-18),\n",
        "                    \"/content/gdrive/My Drive/YAMAKAWA_LAB/技術補佐員/動画/20221020/video/{}_cropped/{:0>4}.jpg\".format(div,3*i-19),\n",
        "                    \"/content/gdrive/My Drive/YAMAKAWA_LAB/技術補佐員/動画/20221020/video/{}_cropped/{:0>4}.jpg\".format(div,3*i-20),\n",
        "                    \"/content/gdrive/My Drive/YAMAKAWA_LAB/技術補佐員/動画/20221020/video/{}_cropped/{:0>4}.jpg\".format(div,3*i-21),\n",
        "                    \"/content/gdrive/My Drive/YAMAKAWA_LAB/技術補佐員/動画/20221020/video/{}_cropped/{:0>4}.jpg\".format(div,3*i-22),\n",
        "                    \"/content/gdrive/My Drive/YAMAKAWA_LAB/技術補佐員/動画/20221020/video/{}_cropped/{:0>4}.jpg\".format(div,3*i-23),\n",
        "                    \"/content/gdrive/My Drive/YAMAKAWA_LAB/技術補佐員/動画/20221020/video/{}_cropped/{:0>4}.jpg\".format(div,3*i-24),\n",
        "                  \"/content/gdrive/My Drive/YAMAKAWA_LAB/技術補佐員/動画/20221020/video/{}_cropped/{:0>4}.jpg\".format(div,3*i-25),\n",
        "                    \"/content/gdrive/My Drive/YAMAKAWA_LAB/技術補佐員/動画/20221020/video/{}_cropped/{:0>4}.jpg\".format(div,3*i-26)])\n",
        "    #/////////////////////////\n",
        "          \n",
        "          count += 1\n",
        "      else:\n",
        "          continue\n",
        "        \"\"\" \n",
        "        #return count\n"
      ],
      "metadata": {
        "id": "odNLPeK3MJxK"
      },
      "execution_count": null,
      "outputs": []
    },
    {
      "cell_type": "code",
      "source": [
        "for i in range(33,45):\n",
        "    if (i== 37):#test data\n",
        "      make_ts_dataset_1020(filename_test,div = i)\n",
        "      #make_ts_dataset_0603(filename_test, div = i,sec = j)\n",
        "    else:\n",
        "      make_ts_dataset_1020(filename,div = i)"
      ],
      "metadata": {
        "id": "Fl2qpg9M53y0"
      },
      "execution_count": null,
      "outputs": []
    },
    {
      "cell_type": "code",
      "source": [
        "for i in range(21,45):\n",
        "    if (i== 23) or (i==39) or (i== 43):#test data\n",
        "      #continue\n",
        "      make_ts_dataset_1020(filename_test, div = i)\n",
        "    elif i==42:\n",
        "      continue\n",
        "    else:\n",
        "      make_ts_dataset_1020(filename,div = i)"
      ],
      "metadata": {
        "colab": {
          "base_uri": "https://localhost:8080/"
        },
        "id": "9ipVrFY0V4qv",
        "outputId": "0e543da4-6963-4ec6-a803-ee79bb6d73d9"
      },
      "execution_count": null,
      "outputs": [
        {
          "output_type": "stream",
          "name": "stderr",
          "text": [
            "<ipython-input-12-f64bfb72da9a>:22: VisibleDeprecationWarning: Creating an ndarray from ragged nested sequences (which is a list-or-tuple of lists-or-tuples-or ndarrays with different lengths or shapes) is deprecated. If you meant to do this, you must specify 'dtype=object' when creating the ndarray.\n",
            "  spatter = np.asarray(spatter)\n"
          ]
        },
        {
          "output_type": "stream",
          "name": "stdout",
          "text": [
            "21 progressing\n",
            "22 progressing\n",
            "23 progressing\n",
            "24 progressing\n",
            "25 progressing\n",
            "26 progressing\n",
            "27 progressing\n",
            "28 progressing\n",
            "29 progressing\n",
            "30 progressing\n",
            "31 progressing\n",
            "32 progressing\n",
            "33 progressing\n",
            "34 progressing\n",
            "35 progressing\n",
            "36 progressing\n",
            "37 progressing\n",
            "38 progressing\n",
            "39 progressing\n",
            "40 progressing\n",
            "41 progressing\n",
            "43 progressing\n",
            "44 progressing\n"
          ]
        }
      ]
    },
    {
      "cell_type": "code",
      "source": [
        "make_ts_dataset_1020(filename_test,div=23)\n",
        "make_ts_dataset_1020(filename_test,div=39)\n",
        "make_ts_dataset_1020(filename_test,div=43)"
      ],
      "metadata": {
        "colab": {
          "base_uri": "https://localhost:8080/"
        },
        "id": "JIqWZriXWGpn",
        "outputId": "22b19144-2744-4ea4-8836-465814bdbfd5"
      },
      "execution_count": null,
      "outputs": [
        {
          "output_type": "stream",
          "name": "stderr",
          "text": [
            "<ipython-input-5-3559ee8f395e>:22: VisibleDeprecationWarning: Creating an ndarray from ragged nested sequences (which is a list-or-tuple of lists-or-tuples-or ndarrays with different lengths or shapes) is deprecated. If you meant to do this, you must specify 'dtype=object' when creating the ndarray.\n",
            "  spatter = np.asarray(spatter)\n"
          ]
        },
        {
          "output_type": "stream",
          "name": "stdout",
          "text": [
            "23 progressing\n",
            "39 progressing\n",
            "43 progressing\n"
          ]
        }
      ]
    },
    {
      "cell_type": "markdown",
      "source": [
        "#Check dataset"
      ],
      "metadata": {
        "id": "1xPf_bAlTvw0"
      }
    },
    {
      "cell_type": "code",
      "source": [
        "import pandas as pd\n",
        "file = pd.read_csv(filepath_or_buffer = filename_test)\n",
        "value =file.values\n",
        "#print(value[:10])\n",
        "count = 0\n",
        "\n",
        "for i in range(len(value)):\n",
        "  if value[i,0] == 1:\n",
        "    count += 1\n",
        "print(count)\n",
        "print(len(value))"
      ],
      "metadata": {
        "colab": {
          "base_uri": "https://localhost:8080/"
        },
        "id": "uf0aJUW_QkHT",
        "outputId": "6a6c86dd-8f61-4594-a7f4-bf4a9c836b96"
      },
      "execution_count": null,
      "outputs": [
        {
          "output_type": "stream",
          "name": "stdout",
          "text": [
            "213\n",
            "1528\n"
          ]
        }
      ]
    },
    {
      "cell_type": "markdown",
      "source": [
        "#Plot spatter"
      ],
      "metadata": {
        "id": "2bXBKQe5TxoQ"
      }
    },
    {
      "cell_type": "code",
      "source": [
        "import matplotlib.pyplot as plt\n",
        "\n",
        "plt.figure(figsize=(70,10))\n",
        "plt.plot(value[:,0])"
      ],
      "metadata": {
        "colab": {
          "base_uri": "https://localhost:8080/",
          "height": 391
        },
        "id": "R-2d0-JgY4vc",
        "outputId": "14e2c0b0-4fb9-4f9c-aee3-039d112d23da"
      },
      "execution_count": null,
      "outputs": [
        {
          "output_type": "execute_result",
          "data": {
            "text/plain": [
              "[<matplotlib.lines.Line2D at 0x7f976f0991c0>]"
            ]
          },
          "metadata": {},
          "execution_count": 38
        },
        {
          "output_type": "display_data",
          "data": {
            "text/plain": [
              "<Figure size 5040x720 with 1 Axes>"
            ],
            "image/png": "[encoded data removed]"
          },
          "metadata": {
            "needs_background": "light"
          }
        }
      ]
    },
    {
      "cell_type": "code",
      "source": [
        "## make dataset for single classification\n",
        "## For making dataset : simple dataset\n",
        "\n",
        "import csv\n",
        "import glob\n",
        "\n",
        "## train data or test data   //////       INput is needed    /////////////\n",
        "\n",
        "#src_img_dir=\"/content/gdrive/My Drive/YAMAKAWA_LAB/技術補佐員/動画/20220603/video/xiQ_20220603_1_1_cropped\"\n",
        "#src = glob.glob(\"{}/*.jpg\".format(src_img_dir))\n",
        "#src_files.sort()\n",
        "#print(len(src_files))\n",
        "#making file for if there is a large spatters, signal=1, else: signal=0\n",
        "#//// chagen here ///\n",
        "filename=\"/content/gdrive/My Drive/YAMAKAWA_LAB/技術補佐員/NN/dataset/20220603/cropped_image/MLjudge/classification_train.csv\"\n",
        "filename_test=\"/content/gdrive/My Drive/YAMAKAWA_LAB/技術補佐員/NN/dataset/20220603/cropped_image/MLjudge/classification_test.csv\"\n",
        "#///////////////////\n",
        "\n",
        "with open(filename,\"w\") as f:\n",
        "  writer = csv.writer(f)\n",
        "  writer.writerow([\"Spatter\",\"Path(t)\"])\n",
        "\n",
        "with open(filename_test,\"w\") as f:\n",
        "  writer = csv.writer(f)\n",
        "  writer.writerow([\"Spatter\",\"Path(t)\"])\n"
      ],
      "metadata": {
        "id": "vR-WQCjTBw08"
      },
      "execution_count": null,
      "outputs": []
    }
  ]
}