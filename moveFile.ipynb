{
  "nbformat": 4,
  "nbformat_minor": 0,
  "metadata": {
    "colab": {
      "provenance": [],
      "authorship_tag": "ABX9TyNI9vt34t3GQDI6oTi+09nQ",
      "include_colab_link": true
    },
    "kernelspec": {
      "name": "python3",
      "display_name": "Python 3"
    },
    "language_info": {
      "name": "python"
    }
  },
  "cells": [
    {
      "cell_type": "markdown",
      "metadata": {
        "id": "view-in-github",
        "colab_type": "text"
      },
      "source": [
        "<a href=\"https://colab.research.google.com/github/yuki0703-sudo/Research/blob/main/moveFile.ipynb\" target=\"_parent\"><img src=\"https://colab.research.google.com/assets/colab-badge.svg\" alt=\"Open In Colab\"/></a>"
      ]
    },
    {
      "cell_type": "code",
      "source": [
        "from google.colab import drive\n",
        "drive.mount('/content/gdrive/')"
      ],
      "metadata": {
        "id": "bqt4pKiP-oNj"
      },
      "execution_count": null,
      "outputs": []
    },
    {
      "cell_type": "markdown",
      "source": [
        "#Move file to another folder"
      ],
      "metadata": {
        "id": "zF-I3dXkZWbQ"
      }
    },
    {
      "cell_type": "code",
      "execution_count": null,
      "metadata": {
        "id": "wOR4JACa-edS"
      },
      "outputs": [],
      "source": [
        "import shutil\n",
        "import os\n",
        "import glob\n",
        "\n",
        "def movfile(sec):\n",
        "  src_img_dir=\"/content/gdrive/My Drive/YAMAKAWA_LAB/YOLO_labelimg/dataset/val/{}_files\".format(sec)\n",
        "\n",
        "  #フォルダに存在するファイルを取得する、0001.jpg~0005.jpg→{}/*.jpg\n",
        "  src_files=glob.glob(\"{}/*.json\".format(src_img_dir))\n",
        "  src_files.sort()\n",
        "  #画像の保存ディレクトリ\n",
        "  dst_img_dir='/content/gdrive/My Drive/YAMAKAWA_LAB/YOLO_labelimg/custom_dataset/label_val'\n",
        "  #out_img='/content/gdrive/My Drive/YAMAKAWA_LAB/motion_tracking/wavehand/output'\n",
        "\n",
        "  if not os.path.exists(dst_img_dir):\n",
        "    os.makedirs(dst_img_dir)\n",
        "\n",
        "  num_file = sum(os.path.isfile(os.path.join(dst_img_dir,name)) for name in os.listdir(dst_img_dir))\n",
        "  print(num_file)\n",
        "\n",
        "  for i,file in enumerate(src_files): #index,components=enumerate(file)\n",
        "    idx = i+1\n",
        "    #current_path = \"{dir}/{index:03d}.json\".format(dir=dst_img_dir,index = count+1)\n",
        "    new_path = \"{dir}/{index:03d}.json\".format(dir=dst_img_dir,index = num_file+idx)\n",
        "    move = shutil.move(file,new_path)\n",
        "\n",
        "def movimg(sec):\n",
        "  src_img_dir=\"/content/gdrive/My Drive/YAMAKAWA_LAB/YOLO_labelimg/dataset/val/{}_files\".format(sec)\n",
        "\n",
        "  #フォルダに存在するファイルを取得する、0001.jpg~0005.jpg→{}/*.jpg\n",
        "  src_files=glob.glob(\"{}/*.jpg\".format(src_img_dir))\n",
        "  src_files.sort()\n",
        "  #画像の保存ディレクトリ\n",
        "  dst_img_dir='/content/gdrive/My Drive/YAMAKAWA_LAB/YOLO_labelimg/custom_dataset/img_val/'\n",
        "  #out_img='/content/gdrive/My Drive/YAMAKAWA_LAB/motion_tracking/wavehand/output'\n",
        "\n",
        "  if not os.path.exists(dst_img_dir):\n",
        "    os.makedirs(dst_img_dir)\n",
        "\n",
        "  num_file = sum(os.path.isfile(os.path.join(dst_img_dir,name)) for name in os.listdir(dst_img_dir))\n",
        "  print(num_file)\n",
        "\n",
        "  for i,file in enumerate(src_files): #index,components=enumerate(file)\n",
        "    idx = i+1\n",
        "    #current_path = \"{dir}/{index:03d}.json\".format(dir=dst_img_dir,index = count+1)\n",
        "    new_path = \"{dir}/{index:03d}.jpg\".format(dir=dst_img_dir,index = num_file+idx)\n",
        "    move = shutil.move(file,new_path)\n"
      ]
    }
  ]
}